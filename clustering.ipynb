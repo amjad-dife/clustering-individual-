{
 "cells": [
  {
   "cell_type": "markdown",
   "metadata": {},
   "source": [
    "# CLustering"
   ]
  },
  {
   "cell_type": "markdown",
   "metadata": {},
   "source": [
    "--------------------------------------------------------------------------------------------------------------------"
   ]
  },
  {
   "cell_type": "code",
   "execution_count": 1,
   "metadata": {},
   "outputs": [],
   "source": [
    "import pandas as pd  # for manibulating the data\n",
    "import re   # for regular expression\n",
    "import string \n",
    "from collections import Counter  # to get the most common words in a string \n",
    "import nltk  # to remove stop words \n",
    "#nltk.download('stopwords')\n",
    "\n",
    "import matplotlib.pyplot as plt \n",
    "import seaborn as sns"
   ]
  },
  {
   "cell_type": "code",
   "execution_count": 2,
   "metadata": {},
   "outputs": [],
   "source": [
    "def readBooks(bookLst):\n",
    "    \"this function return a list of book that you have already given it its names as a parameter\"\n",
    "    # so it return list of lists_of sentences \n",
    "    data = []\n",
    "    for b in bookLst:\n",
    "        with open(b+\".txt\",encoding = \"ISO-8859-1\") as f:\n",
    "            data.append (f.readlines())\n",
    "    return data"
   ]
  },
  {
   "cell_type": "code",
   "execution_count": 3,
   "metadata": {},
   "outputs": [],
   "source": [
    "def compineToParagraph(list_of_text):\n",
    "    \"Takes a list of statments and combines them into one large chunk of text\"\n",
    "    paragraph = ' '.join(list_of_text)\n",
    "    return paragraph"
   ]
  },
  {
   "cell_type": "code",
   "execution_count": 4,
   "metadata": {},
   "outputs": [],
   "source": [
    "def toListOfBooks(lstOfSentences):\n",
    "    \"it takes a list os list_of_sentences and return a list of strings\"\n",
    "    txtBooks =[]\n",
    "    for i in lstOfSentences :\n",
    "        txtBooks.append(compineToParagraph(i))\n",
    "    return txtBooks"
   ]
  },
  {
   "cell_type": "code",
   "execution_count": 5,
   "metadata": {},
   "outputs": [],
   "source": [
    "def clean_text(text):\n",
    "    '''\n",
    "    Make text lowercase, remove text in square brackets, remove punctuation and remove words containing numbers.\n",
    "    Get rid of some additional punctuation and non-sensical text\n",
    "    '''\n",
    "    \n",
    "    text = text.lower()  # Make text lowercase\n",
    "    text = re.sub('\\[.*?\\]', '', text) # remove text in square brackets\n",
    "    text = re.sub('[%s]' % re.escape(string.punctuation), '', text) # remove punctuation \n",
    "    text = re.sub('\\w*\\d\\w*', '', text) # remove words containing numbers\n",
    "    text = re.sub('[‘’“”…]', '', text) # Get rid of some additional punctuation \n",
    "    text = re.sub('\\n', '', text)   \n",
    "    return text"
   ]
  },
  {
   "cell_type": "code",
   "execution_count": 6,
   "metadata": {},
   "outputs": [],
   "source": [
    "def toCleanListOfBooks(lstOfDirtyBooks):\n",
    "    cleanedBooks =[]\n",
    "    for i in lstOfDirtyBooks :\n",
    "        cleanedBooks.append(clean_text(i))\n",
    "    return cleanedBooks"
   ]
  },
  {
   "cell_type": "code",
   "execution_count": 7,
   "metadata": {},
   "outputs": [],
   "source": [
    "def getPart(txt,bookName,start,end,words):\n",
    "    \"\"\"\n",
    "    it extract a specific paragraph from a large text depending on a starting and ending indexs ,\n",
    "    it return Book_name and the part\n",
    "    \"\"\"\n",
    "    lst1 = txt.split() \n",
    "    l2=[]\n",
    "    c = 0\n",
    "    for i in range(start,end+1):\n",
    "        if c<words:\n",
    "            l2.append(lst1[i])\n",
    "            c+=1\n",
    "        else :\n",
    "            txtPart = compineToParagraph(l2)\n",
    "            return bookName,txtPart\n"
   ]
  },
  {
   "cell_type": "code",
   "execution_count": 8,
   "metadata": {},
   "outputs": [],
   "source": [
    "def divideBooks(lstOfBookNames,lstOfCleanedBooks,lstOfPartitions,numberOfWords):\n",
    "    parts =[]\n",
    "    bookNames = []\n",
    "    for m in range(len(lstOfBookNames)):\n",
    "        str1= lstOfCleanedBooks[m] # to get the text from the book \n",
    "        bookName = lstOfBookNames[m]    # to get the book name\n",
    "        start = 0  # from word zero \n",
    "        end = numberOfWords  # to word 100 \n",
    "        for i in range(lstOfPartitions[m]):\n",
    "            bookName,part = getPart(str1,bookName,start,end,numberOfWords)\n",
    "            parts.append(part)\n",
    "            bookNames.append(bookName)\n",
    "            start += numberOfWords\n",
    "            end += numberOfWords  \n",
    "    return parts , bookNames"
   ]
  },
  {
   "cell_type": "code",
   "execution_count": 9,
   "metadata": {},
   "outputs": [],
   "source": [
    "def dividLstOfBooksIntoParts (namesLst,partitionsLst,numberOfwords):\n",
    "    '''\n",
    "    namesLst : list of book names to read \n",
    "    partitionsLst : number of required partitions from each book \n",
    "    numberOfwords : number of words in each part\n",
    "    it return a dataFrame containing the text and the label\n",
    "    '''\n",
    "    bookNamesLst = namesLst  # list of book names \n",
    "    bookLst = readBooks(bookNamesLst)  # list of list_of_sentence\n",
    "    txtBooks =toListOfBooks(bookLst)   # list of strings\n",
    "    cleanedBooks = toCleanListOfBooks(txtBooks)  # list of cleaned strings \n",
    "    \n",
    "\n",
    "    #remove stop word in each book \n",
    "    cleanedBooks= removeStopWords(cleanedBooks)\n",
    "    \n",
    "#     #visuaizing each book words\n",
    "#     visualize2(cleanedBooks,bookNamesLst)\n",
    "    \n",
    "#     #print the most common word in each book \n",
    "#     mostCommon(cleanedBooks,bookNamesLst)\n",
    "    \n",
    "    parts , bookNames=divideBooks(bookNamesLst,cleanedBooks,partitionsLst,numberOfwords)\n",
    "    book_names = pd.Series(bookNames)\n",
    "    text = pd.Series(parts)\n",
    "    df = pd.DataFrame({ 'text': text,'book_names': book_names })\n",
    "    \n",
    "    # shuffle the rows of a dataframe\n",
    "    shuffled = df.sample(frac=1).reset_index(drop=True)\n",
    "\n",
    "    return shuffled"
   ]
  },
  {
   "cell_type": "code",
   "execution_count": 10,
   "metadata": {},
   "outputs": [],
   "source": [
    "def checkNumberOfWords(dframe):\n",
    "    \"it take a dataframe and check number of words in each row and return a new dataFrame\"\n",
    "    df = dframe\n",
    "    total_list = []\n",
    "    for i in range(len(df.index)):\n",
    "        txt = df.iloc[i,0]\n",
    "        lst = txt.split()\n",
    "        totals = len(lst)\n",
    "        total_list.append(totals)\n",
    "\n",
    "    df['totalWords'] =  total_list\n",
    "    return df"
   ]
  },
  {
   "cell_type": "code",
   "execution_count": 11,
   "metadata": {},
   "outputs": [],
   "source": [
    "def mostCommon(bookLst,bookNamesLst):\n",
    "    \"it take a list of books-string- and return most common words\"\n",
    "    for i in range(len(bookLst)):\n",
    "        print(f\"The most common words in book : {bookNamesLst[i]}\")\n",
    "        worsLst = bookLst[i].split() \n",
    "        words = [word.lower() for word in worsLst]\n",
    "        c = Counter(words)\n",
    "        print(c.most_common(10))\n"
   ]
  },
  {
   "cell_type": "code",
   "execution_count": 12,
   "metadata": {},
   "outputs": [],
   "source": [
    "def removeStopWords(bookLst):\n",
    "    \"it take a list of cleaned strings and remove the stop words in each one\"\n",
    "    stopwords = nltk.corpus.stopwords.words('english')\n",
    "    veryCleaned = []\n",
    "    for b in bookLst:\n",
    "        bookWords = b.split()\n",
    "        words = [word.lower() for word in bookWords if word.lower() not in stopwords]\n",
    "        book = compineToParagraph(words)\n",
    "        veryCleaned.append(book)\n",
    "    return veryCleaned"
   ]
  },
  {
   "cell_type": "code",
   "execution_count": 13,
   "metadata": {},
   "outputs": [],
   "source": [
    "#!pip install wordcloud\n",
    "from wordcloud import WordCloud \n",
    "\n",
    "def visualize2(bookLst,booksNames):\n",
    "    for b in range(len(bookLst)):\n",
    "        print(f\"Book : {booksNames[b]}\")\n",
    "        myWordCloud = WordCloud().generate(bookLst[b])\n",
    "        plt.figure(figsize=(15,10))\n",
    "        plt.imshow(myWordCloud,interpolation='bilinear')\n",
    "        plt.axis('off')\n",
    "        plt.show()"
   ]
  },
  {
   "cell_type": "markdown",
   "metadata": {},
   "source": [
    "--------------------------------------------------------------------------------------------------------------------"
   ]
  },
  {
   "cell_type": "markdown",
   "metadata": {},
   "source": [
    "### `bag of words`"
   ]
  },
  {
   "cell_type": "code",
   "execution_count": 14,
   "metadata": {},
   "outputs": [],
   "source": [
    "from sklearn.feature_extraction.text import CountVectorizer\n",
    "def getBOW(train_corpus,trans = False,X=[\"\"]):\n",
    "    \"it take train  corpus and return train  features\"\n",
    "    # build BOW features on train articles\n",
    "    cv = CountVectorizer(binary=False, min_df=0.0, max_df=1.0)\n",
    "    if trans == True:\n",
    "        cv.fit_transform(X)\n",
    "        cv_train_features = cv.transform(train_corpus)\n",
    "    else :\n",
    "        cv_train_features = cv.fit_transform(train_corpus)  \n",
    "    return cv_train_features , cv.get_feature_names()"
   ]
  },
  {
   "cell_type": "markdown",
   "metadata": {},
   "source": [
    "### `Bag of N-Grams Model`"
   ]
  },
  {
   "cell_type": "code",
   "execution_count": 15,
   "metadata": {},
   "outputs": [],
   "source": [
    "def getNGram(n,train_corpus,trans = False,X=[\"\"]):\n",
    "    \"it take train  corpus and return train  features\"\n",
    "    # build BOW features on train articles\n",
    "    bv = CountVectorizer(ngram_range=(n,n))\n",
    "    if trans == True:\n",
    "        bv.fit_transform(X) \n",
    "        bv_train_features = bv.transform(train_corpus)\n",
    "    else :\n",
    "        bv_train_features = bv.fit_transform(train_corpus)  \n",
    "    return bv_train_features , bv.get_feature_names()"
   ]
  },
  {
   "cell_type": "markdown",
   "metadata": {},
   "source": [
    "### `TF-IDF Model`"
   ]
  },
  {
   "cell_type": "code",
   "execution_count": 16,
   "metadata": {},
   "outputs": [],
   "source": [
    "from sklearn.feature_extraction.text import TfidfVectorizer\n",
    "\n",
    "def getTF_IDF(train_corpus,trans = False,X=[\"\"]):\n",
    "    \"it take train corpus and return train features\"\n",
    "    # build BOW features on train articles\n",
    "    tv = TfidfVectorizer(use_idf=True, min_df=0.0, max_df=1.0)\n",
    "    if trans == True:\n",
    "        tv.fit_transform(X)\n",
    "        tv_train_features = tv.transform(train_corpus)\n",
    "    else :\n",
    "        tv_train_features = tv.fit_transform(train_corpus)\n",
    "    return tv_train_features  , tv.get_feature_names()"
   ]
  },
  {
   "cell_type": "markdown",
   "metadata": {},
   "source": [
    "### `Bert`"
   ]
  },
  {
   "cell_type": "code",
   "execution_count": 17,
   "metadata": {},
   "outputs": [],
   "source": [
    "# %%capture\n",
    "# !pip install pytorch_pretrained_bert\n",
    "# !pip install tensorflow"
   ]
  },
  {
   "cell_type": "code",
   "execution_count": 18,
   "metadata": {},
   "outputs": [],
   "source": [
    "# %%capture\n",
    "\n",
    "# # Import Libraries\n",
    "# import tensorflow as tf\n",
    "# import torch\n",
    "# from torch.utils.data import TensorDataset, DataLoader, RandomSampler, SequentialSampler\n",
    "# from pytorch_pretrained_bert import BertTokenizer, BertModel\n",
    "# from keras.preprocessing.sequence import pad_sequences\n",
    "# import pandas as pd\n",
    "# import io\n",
    "# import numpy as np\n",
    "# import matplotlib.pyplot as plt\n",
    "\n",
    "# %matplotlib inline\n",
    "\n",
    "# from pytorch_pretrained_bert import BertTokenizer # You will need this module"
   ]
  },
  {
   "cell_type": "code",
   "execution_count": 19,
   "metadata": {},
   "outputs": [],
   "source": [
    "# def getBertFeatures(sentences):\n",
    "#     # We need to add special tokens at the beginning and end of each sentence for BERT to work properly\n",
    "#     sentences = [\"[CLS] \" + sentence + \" [SEP]\" for sentence in sentences]\n",
    "#     # Initialize the tokenizer\n",
    "#     tokenizer = BertTokenizer.from_pretrained('bert-base-uncased')\n",
    "#     tokenized_texts = []\n",
    "#     # Tokenize the sentences and put them in the list tokenized_texts\n",
    "#     tokenized_texts = [tokenizer.tokenize(sent) for sent in sentences]\n",
    "#     input_ids = []\n",
    "#     # Convert the tokens to their index numbers (input_ids) in the BERT vocabulary\n",
    "#     input_ids = [tokenizer.convert_tokens_to_ids(x) for x in tokenized_texts]\n",
    "    \n",
    "#     # create attention mask \n",
    "    \n",
    "#     # Set the maximum sequence length. The longest sequence in our training set is 47, but we'll leave room on the end anyway. \n",
    "#     # In the original paper, the authors used a length of 512.\n",
    "#     MAX_LEN = 128\n",
    "#     # Use the BERT tokenizer to convert the tokens to their index numbers in the BERT vocabulary\n",
    "#     input_ids = [tokenizer.convert_tokens_to_ids(x) for x in tokenized_texts]\n",
    "#     # Pad our input tokens\n",
    "#     input_ids = pad_sequences(input_ids, maxlen=MAX_LEN, dtype=\"long\", truncating=\"post\", padding=\"post\")\n",
    "#     # Create attention masks\n",
    "#     attention_masks = []\n",
    "\n",
    "#     # Create a mask of 1s for each token followed by 0s for padding\n",
    "#     for seq in input_ids:\n",
    "#         seq_mask = [float(i>0) for i in seq]\n",
    "#         attention_masks.append(seq_mask)\n",
    "#     # Conver the ids into a tensor representation\n",
    "#     batch_size = 8\n",
    "#     input_tensor = torch.tensor(input_ids)\n",
    "#     masks_tensor = torch.tensor(attention_masks)\n",
    "#     train_data = TensorDataset(input_tensor, masks_tensor)\n",
    "#     dataloader = DataLoader(train_data, batch_size=batch_size)\n",
    "    \n",
    "#     # bert model\n",
    "    \n",
    "#     # Initialize the model\n",
    "#     model = BertModel.from_pretrained(\"bert-base-uncased\").to('cuda')\n",
    "    \n",
    "    \n",
    "#     model.eval()\n",
    "#     outputs = []\n",
    "#     for input, masks in dataloader:\n",
    "#         torch.cuda.empty_cache() # empty the gpu memory\n",
    "\n",
    "#         # Transfer the batch to gpu\n",
    "#         input = input.to('cuda')\n",
    "#         masks = masks.to('cuda')\n",
    "\n",
    "#         # Run inference on the batch\n",
    "#         output = model(input, output_all_encoded_layers=False, attention_mask=masks)[0]\n",
    "\n",
    "#         # Transfer the output to CPU again and convert to numpy\n",
    "#         output = output.cpu().detach().numpy()\n",
    "\n",
    "#         # Store the output in a list\n",
    "#         outputs.append(output)\n",
    "\n",
    "#     # Concatenate all the lists within the list into one list\n",
    "#     outputs = [x for y in outputs for x in y]\n",
    "    \n",
    "#     return np.mean(outputs,axis=2)"
   ]
  },
  {
   "cell_type": "markdown",
   "metadata": {},
   "source": [
    "### `LDA`"
   ]
  },
  {
   "cell_type": "code",
   "execution_count": 20,
   "metadata": {},
   "outputs": [],
   "source": [
    "from sklearn.feature_extraction.text import CountVectorizer\n",
    "from sklearn.decomposition import LatentDirichletAllocation\n",
    "\n",
    "def get_LDA(X,components):\n",
    "    \"\"\"\n",
    "    input  : X is the train text , components is the number of topics \n",
    "    output : features as a dataframe\n",
    "    \"\"\"\n",
    "    count_vect = CountVectorizer(max_df=0.8, min_df=2, stop_words='english')\n",
    "    doc_term_matrix = count_vect.fit_transform(X)\n",
    "    LDA = LatentDirichletAllocation(n_components=components, random_state=42)\n",
    "    LDA.fit(doc_term_matrix)\n",
    "    topic_values = LDA.transform(doc_term_matrix)\n",
    "    pd.options.display.float_format = '{:,.3f}'.format\n",
    "    dt_df = pd.DataFrame(topic_values,columns=['T'+str(i) for i in range(1, components+1)])\n",
    "    return dt_df"
   ]
  },
  {
   "cell_type": "markdown",
   "metadata": {},
   "source": [
    "---------------------------------------------------------------------------------------------------------------"
   ]
  },
  {
   "cell_type": "markdown",
   "metadata": {},
   "source": [
    "-------------------------------------------------------------------------------------------------------------------"
   ]
  },
  {
   "cell_type": "markdown",
   "metadata": {},
   "source": [
    "## `modeling`"
   ]
  },
  {
   "cell_type": "code",
   "execution_count": 21,
   "metadata": {},
   "outputs": [],
   "source": [
    "import numpy as np"
   ]
  },
  {
   "cell_type": "markdown",
   "metadata": {},
   "source": [
    "### `k-means`"
   ]
  },
  {
   "cell_type": "code",
   "execution_count": 22,
   "metadata": {},
   "outputs": [],
   "source": [
    "# K means \n",
    "from sklearn.cluster import KMeans\n",
    "\n",
    "def build_k_means(features,n_clusters):\n",
    "    model = KMeans(n_clusters,init='k-means++', max_iter=100, n_init=1)\n",
    "    label = model.fit_predict(features)\n",
    "    return model,label "
   ]
  },
  {
   "cell_type": "code",
   "execution_count": 23,
   "metadata": {},
   "outputs": [],
   "source": [
    "def print_top_cluster_fName(topn_features,names,model,cls_num):\n",
    "    \"\"\"\n",
    "    input  : nummber of the top words to be presented , features names , model , number of clusters \n",
    "    output : print the top words in each cluster  \n",
    "    \"\"\"\n",
    "    ordered_centroids = model.cluster_centers_.argsort()[:, ::-1]\n",
    "\n",
    "    # get key features for each cluster\n",
    "    for cluster_num in range(cls_num):\n",
    "        print('CLUSTER #'+str(cluster_num+1))\n",
    "        print(\" \")\n",
    "        key_features = [names[index] for index in ordered_centroids[cluster_num, :topn_features]]\n",
    "        print('Key Features:')\n",
    "        print(key_features) \n",
    "        print('='*100)"
   ]
  },
  {
   "cell_type": "code",
   "execution_count": 24,
   "metadata": {},
   "outputs": [],
   "source": [
    "from sklearn.mixture import GaussianMixture\n",
    "def em_model(x, num_components):\n",
    "    \"\"\"\n",
    "    INPUT:\n",
    "    x: The training data\n",
    "    num_components: The number of mixture components.\n",
    "\n",
    "    OUTPUT:\n",
    "    model: Gaussian mixture model after fitting it with the training data\n",
    "\n",
    "    \"\"\"\n",
    "    model = GaussianMixture(n_components=num_components,covariance_type='diag', random_state=0)\n",
    "    \n",
    "    model.fit(x)\n",
    "    \n",
    "    return model "
   ]
  },
  {
   "cell_type": "markdown",
   "metadata": {},
   "source": [
    "------------------------------------------------------------------------------------------------------------"
   ]
  },
  {
   "cell_type": "markdown",
   "metadata": {},
   "source": [
    "## Run the code "
   ]
  },
  {
   "cell_type": "markdown",
   "metadata": {},
   "source": [
    "### `loading the data`"
   ]
  },
  {
   "cell_type": "code",
   "execution_count": 25,
   "metadata": {},
   "outputs": [
    {
     "data": {
      "text/html": [
       "<div>\n",
       "<style scoped>\n",
       "    .dataframe tbody tr th:only-of-type {\n",
       "        vertical-align: middle;\n",
       "    }\n",
       "\n",
       "    .dataframe tbody tr th {\n",
       "        vertical-align: top;\n",
       "    }\n",
       "\n",
       "    .dataframe thead th {\n",
       "        text-align: right;\n",
       "    }\n",
       "</style>\n",
       "<table border=\"1\" class=\"dataframe\">\n",
       "  <thead>\n",
       "    <tr style=\"text-align: right;\">\n",
       "      <th></th>\n",
       "      <th>text</th>\n",
       "      <th>book_names</th>\n",
       "    </tr>\n",
       "  </thead>\n",
       "  <tbody>\n",
       "    <tr>\n",
       "      <th>0</th>\n",
       "      <td>churchillââi remember perfectlyâ âhow ...</td>\n",
       "      <td>emma</td>\n",
       "    </tr>\n",
       "    <tr>\n",
       "      <th>1</th>\n",
       "      <td>end sheet one might one rest eager drawn could...</td>\n",
       "      <td>emma</td>\n",
       "    </tr>\n",
       "    <tr>\n",
       "      <th>2</th>\n",
       "      <td>cried jem threw arm lightfoots neck hiding fac...</td>\n",
       "      <td>parents</td>\n",
       "    </tr>\n",
       "    <tr>\n",
       "      <th>3</th>\n",
       "      <td>revive though lie grovelling prostrate yon lak...</td>\n",
       "      <td>lost</td>\n",
       "    </tr>\n",
       "    <tr>\n",
       "      <th>4</th>\n",
       "      <td>irregular main street place may inferred conta...</td>\n",
       "      <td>emma</td>\n",
       "    </tr>\n",
       "    <tr>\n",
       "      <th>...</th>\n",
       "      <td>...</td>\n",
       "      <td>...</td>\n",
       "    </tr>\n",
       "    <tr>\n",
       "      <th>995</th>\n",
       "      <td>purposed foe could pity thus forlorn though un...</td>\n",
       "      <td>lost</td>\n",
       "    </tr>\n",
       "    <tr>\n",
       "      <th>996</th>\n",
       "      <td>exposed everthreatening storms chaos blusterin...</td>\n",
       "      <td>lost</td>\n",
       "    </tr>\n",
       "    <tr>\n",
       "      <th>997</th>\n",
       "      <td>father pure empyrean sits high thronâd hight...</td>\n",
       "      <td>lost</td>\n",
       "    </tr>\n",
       "    <tr>\n",
       "      <th>998</th>\n",
       "      <td>inured feel changed length place conformed tem...</td>\n",
       "      <td>lost</td>\n",
       "    </tr>\n",
       "    <tr>\n",
       "      <th>999</th>\n",
       "      <td>new delights may compare heaven taste think sh...</td>\n",
       "      <td>lost</td>\n",
       "    </tr>\n",
       "  </tbody>\n",
       "</table>\n",
       "<p>1000 rows × 2 columns</p>\n",
       "</div>"
      ],
      "text/plain": [
       "                                                  text book_names\n",
       "0    churchillââi remember perfectlyâ âhow ...       emma\n",
       "1    end sheet one might one rest eager drawn could...       emma\n",
       "2    cried jem threw arm lightfoots neck hiding fac...    parents\n",
       "3    revive though lie grovelling prostrate yon lak...       lost\n",
       "4    irregular main street place may inferred conta...       emma\n",
       "..                                                 ...        ...\n",
       "995  purposed foe could pity thus forlorn though un...       lost\n",
       "996  exposed everthreatening storms chaos blusterin...       lost\n",
       "997  father pure empyrean sits high thronâd hight...       lost\n",
       "998  inured feel changed length place conformed tem...       lost\n",
       "999  new delights may compare heaven taste think sh...       lost\n",
       "\n",
       "[1000 rows x 2 columns]"
      ]
     },
     "execution_count": 25,
     "metadata": {},
     "output_type": "execute_result"
    }
   ],
   "source": [
    "bookNamesLst = ['wisdom','parents','lost','leaves','emma'] \n",
    "df= dividLstOfBooksIntoParts(bookNamesLst,[200,200,200,200,200],100)\n",
    "# print(df)\n",
    "# checkNumberOfWords(df)\n",
    "\n",
    "df"
   ]
  },
  {
   "cell_type": "markdown",
   "metadata": {},
   "source": [
    "### `derive feature and label from the data`"
   ]
  },
  {
   "cell_type": "code",
   "execution_count": 26,
   "metadata": {},
   "outputs": [],
   "source": [
    "X = df.text\n",
    "y = df.book_names"
   ]
  },
  {
   "cell_type": "markdown",
   "metadata": {},
   "source": [
    "### print the top 15 word in the entire dataset "
   ]
  },
  {
   "cell_type": "code",
   "execution_count": 27,
   "metadata": {},
   "outputs": [],
   "source": [
    "def get_top_n_words(n_top_words, count_vectorizer, text_data):\n",
    "    '''\n",
    "    returns a tuple of the top n words in a sample and their \n",
    "    accompanying counts, given a CountVectorizer object and text sample\n",
    "    '''\n",
    "    vectorized_headlines = count_vectorizer.fit_transform(text_data.values)\n",
    "    vectorized_total = np.sum(vectorized_headlines, axis=0)\n",
    "    word_indices = np.flip(np.argsort(vectorized_total)[0,:], 1)\n",
    "    word_values = np.flip(np.sort(vectorized_total)[0,:],1)\n",
    "    \n",
    "    word_vectors = np.zeros((n_top_words, vectorized_headlines.shape[1]))\n",
    "    for i in range(n_top_words):\n",
    "        word_vectors[i,word_indices[0,i]] = 1\n",
    "\n",
    "    words = [word[0].encode('ascii').decode('utf-8') for \n",
    "             word in count_vectorizer.inverse_transform(word_vectors)]\n",
    "\n",
    "    return (words, word_values[0,:n_top_words].tolist()[0])\n",
    "    count_vectorizer = CountVectorizer(stop_words='english')"
   ]
  },
  {
   "cell_type": "code",
   "execution_count": 28,
   "metadata": {},
   "outputs": [
    {
     "data": {
      "image/png": "[encoded data removed]",
      "text/plain": [
       "<Figure size 720x288 with 1 Axes>"
      ]
     },
     "metadata": {
      "needs_background": "light"
     },
     "output_type": "display_data"
    }
   ],
   "source": [
    "count_vectorizer = CountVectorizer(stop_words='english')\n",
    "words, word_values = get_top_n_words(n_top_words=25,\n",
    "                                     count_vectorizer=count_vectorizer, \n",
    "                                     text_data=X)\n",
    "\n",
    "fig, ax = plt.subplots(figsize=(10,4))\n",
    "ax.bar(range(len(words)), word_values);\n",
    "ax.set_xticks(range(len(words)));\n",
    "ax.set_xticklabels(words, rotation='vertical');\n",
    "ax.set_title('Top words in the training set');\n",
    "ax.set_xlabel('Word');\n",
    "ax.set_ylabel('Number of occurences');\n",
    "plt.show()"
   ]
  },
  {
   "cell_type": "markdown",
   "metadata": {},
   "source": [
    "### `feature extraction`"
   ]
  },
  {
   "cell_type": "code",
   "execution_count": 29,
   "metadata": {},
   "outputs": [
    {
     "name": "stderr",
     "output_type": "stream",
     "text": [
      "/home/amjad/anaconda3/lib/python3.7/site-packages/sklearn/utils/deprecation.py:87: FutureWarning: Function get_feature_names is deprecated; get_feature_names is deprecated in 1.0 and will be removed in 1.2. Please use get_feature_names_out instead.\n",
      "  warnings.warn(msg, category=FutureWarning)\n",
      "/home/amjad/anaconda3/lib/python3.7/site-packages/sklearn/utils/deprecation.py:87: FutureWarning: Function get_feature_names is deprecated; get_feature_names is deprecated in 1.0 and will be removed in 1.2. Please use get_feature_names_out instead.\n",
      "  warnings.warn(msg, category=FutureWarning)\n"
     ]
    },
    {
     "name": "stdout",
     "output_type": "stream",
     "text": [
      "BOW   model:-> Train features shape: (1000, 17702)\n",
      "NGram model:-> Train features shape: (1000, 89772)\n",
      "TFIDF model:-> Train features shape: (1000, 17702)\n",
      "LDA   model:-> Train features shape: (1000, 20)\n"
     ]
    }
   ],
   "source": [
    "cv_train_features  , cv_names= getBOW(X)\n",
    "tv_train_features  , tv_names= getNGram(2,X)\n",
    "bv_train_features  , bv_names= getTF_IDF(X)\n",
    "LDA_train_features           = get_LDA(X,20)\n",
    "#brt_train_feature = getBertFeatures(X)\n",
    "print('BOW   model:-> Train features shape:', cv_train_features.shape)\n",
    "print('NGram model:-> Train features shape:', tv_train_features.shape)\n",
    "print('TFIDF model:-> Train features shape:', bv_train_features.shape)\n",
    "print('LDA   model:-> Train features shape:', LDA_train_features.shape)"
   ]
  },
  {
   "cell_type": "markdown",
   "metadata": {},
   "source": [
    "### `use models`"
   ]
  },
  {
   "cell_type": "markdown",
   "metadata": {},
   "source": [
    "### `number of clusters`"
   ]
  },
  {
   "cell_type": "code",
   "execution_count": 30,
   "metadata": {},
   "outputs": [],
   "source": [
    "def kmeans_model(x, num_clusters):\n",
    "    \"\"\"\n",
    "    INPUT:\n",
    "    x: The training data\n",
    "    num_clusters: The number of clusters\n",
    "\n",
    "    OUTPUT:\n",
    "    model: K-means model after fitting it with the training data\n",
    "\n",
    "    \"\"\"\n",
    "    model = KMeans(n_clusters=num_clusters, init='k-means++', random_state=0)\n",
    "    model.fit(x)\n",
    "    return model"
   ]
  },
  {
   "cell_type": "code",
   "execution_count": 31,
   "metadata": {},
   "outputs": [],
   "source": [
    "from sklearn.metrics import silhouette_score\n",
    "def plot_kmeans_elbow(x, max_clusters, features_name):\n",
    "    \"\"\"\n",
    "    The function takes the training data and plot WCSS and silhouette versus the number of clusters\n",
    "\n",
    "    INPUT:\n",
    "    x: The training data\n",
    "    max_clusters: The maximum number of clusters\n",
    "    features_name: The name of used features that will appear in the title of the plot \n",
    "\n",
    "    \"\"\"\n",
    "    wcss = []\n",
    "    s = []\n",
    "    for i in range(1, max_clusters+1):\n",
    "        model = kmeans_model(x, i)\n",
    "        wcss.append(model.inertia_)\n",
    "        if i>1:\n",
    "            s.append(silhouette_score(x, model.labels_))\n",
    "\n",
    "    fig = plt.figure(figsize=(15, 5))\n",
    "    fig.suptitle('Elbow Method using ' + features_name + ' features')\n",
    "\n",
    "    sub1 = plt.subplot(1, 2, 1)\n",
    "    sub1.plot(range(1, max_clusters+1), wcss)\n",
    "    sub1.set_xlabel('Number of clusters')\n",
    "    sub1.set_ylabel('WCSS')\n",
    "\n",
    "    sub2 = plt.subplot(1, 2, 2)\n",
    "    sub2.plot(range(2, max_clusters+1), s)\n",
    "    sub2.set_xlabel('Number of clusters')\n",
    "    sub2.set_ylabel('silhouette')"
   ]
  },
  {
   "cell_type": "code",
   "execution_count": 32,
   "metadata": {},
   "outputs": [
    {
     "data": {
      "image/png": "[encoded data removed]",
      "text/plain": [
       "<Figure size 1080x360 with 2 Axes>"
      ]
     },
     "metadata": {
      "needs_background": "light"
     },
     "output_type": "display_data"
    }
   ],
   "source": [
    "plot_kmeans_elbow(cv_train_features,10,\"BOW\")"
   ]
  },
  {
   "cell_type": "code",
   "execution_count": 33,
   "metadata": {},
   "outputs": [
    {
     "data": {
      "image/png": "[encoded data removed]",
      "text/plain": [
       "<Figure size 1080x360 with 2 Axes>"
      ]
     },
     "metadata": {
      "needs_background": "light"
     },
     "output_type": "display_data"
    }
   ],
   "source": [
    "plot_kmeans_elbow(tv_train_features,10,\"NGram\")"
   ]
  },
  {
   "cell_type": "code",
   "execution_count": 34,
   "metadata": {},
   "outputs": [
    {
     "data": {
      "image/png": "[encoded data removed]",
      "text/plain": [
       "<Figure size 1080x360 with 2 Axes>"
      ]
     },
     "metadata": {
      "needs_background": "light"
     },
     "output_type": "display_data"
    }
   ],
   "source": [
    "plot_kmeans_elbow(bv_train_features,10,\"TFIDF\")"
   ]
  },
  {
   "cell_type": "code",
   "execution_count": 35,
   "metadata": {},
   "outputs": [
    {
     "data": {
      "image/png": "[encoded data removed]",
      "text/plain": [
       "<Figure size 1080x360 with 2 Axes>"
      ]
     },
     "metadata": {
      "needs_background": "light"
     },
     "output_type": "display_data"
    }
   ],
   "source": [
    "plot_kmeans_elbow(LDA_train_features,10,\"LDA\")"
   ]
  },
  {
   "cell_type": "markdown",
   "metadata": {},
   "source": [
    "-------------------------------------------------------------------------------------------------------------------"
   ]
  },
  {
   "cell_type": "code",
   "execution_count": 36,
   "metadata": {},
   "outputs": [],
   "source": [
    "clusters = 4"
   ]
  },
  {
   "cell_type": "code",
   "execution_count": 37,
   "metadata": {},
   "outputs": [
    {
     "data": {
      "text/html": [
       "<div>\n",
       "<style scoped>\n",
       "    .dataframe tbody tr th:only-of-type {\n",
       "        vertical-align: middle;\n",
       "    }\n",
       "\n",
       "    .dataframe tbody tr th {\n",
       "        vertical-align: top;\n",
       "    }\n",
       "\n",
       "    .dataframe thead th {\n",
       "        text-align: right;\n",
       "    }\n",
       "</style>\n",
       "<table border=\"1\" class=\"dataframe\">\n",
       "  <thead>\n",
       "    <tr style=\"text-align: right;\">\n",
       "      <th></th>\n",
       "      <th>T1</th>\n",
       "      <th>T2</th>\n",
       "      <th>T3</th>\n",
       "      <th>T4</th>\n",
       "      <th>T5</th>\n",
       "      <th>T6</th>\n",
       "      <th>T7</th>\n",
       "      <th>T8</th>\n",
       "      <th>T9</th>\n",
       "      <th>T10</th>\n",
       "      <th>T11</th>\n",
       "      <th>T12</th>\n",
       "      <th>T13</th>\n",
       "      <th>T14</th>\n",
       "      <th>T15</th>\n",
       "      <th>T16</th>\n",
       "      <th>T17</th>\n",
       "      <th>T18</th>\n",
       "      <th>T19</th>\n",
       "      <th>T20</th>\n",
       "    </tr>\n",
       "  </thead>\n",
       "  <tbody>\n",
       "    <tr>\n",
       "      <th>0</th>\n",
       "      <td>0.001</td>\n",
       "      <td>0.001</td>\n",
       "      <td>0.498</td>\n",
       "      <td>0.001</td>\n",
       "      <td>0.001</td>\n",
       "      <td>0.001</td>\n",
       "      <td>0.001</td>\n",
       "      <td>0.001</td>\n",
       "      <td>0.001</td>\n",
       "      <td>0.490</td>\n",
       "      <td>0.001</td>\n",
       "      <td>0.001</td>\n",
       "      <td>0.001</td>\n",
       "      <td>0.001</td>\n",
       "      <td>0.001</td>\n",
       "      <td>0.001</td>\n",
       "      <td>0.001</td>\n",
       "      <td>0.001</td>\n",
       "      <td>0.001</td>\n",
       "      <td>0.001</td>\n",
       "    </tr>\n",
       "    <tr>\n",
       "      <th>1</th>\n",
       "      <td>0.001</td>\n",
       "      <td>0.001</td>\n",
       "      <td>0.001</td>\n",
       "      <td>0.001</td>\n",
       "      <td>0.001</td>\n",
       "      <td>0.001</td>\n",
       "      <td>0.001</td>\n",
       "      <td>0.001</td>\n",
       "      <td>0.001</td>\n",
       "      <td>0.288</td>\n",
       "      <td>0.001</td>\n",
       "      <td>0.001</td>\n",
       "      <td>0.699</td>\n",
       "      <td>0.001</td>\n",
       "      <td>0.001</td>\n",
       "      <td>0.001</td>\n",
       "      <td>0.001</td>\n",
       "      <td>0.001</td>\n",
       "      <td>0.001</td>\n",
       "      <td>0.001</td>\n",
       "    </tr>\n",
       "    <tr>\n",
       "      <th>2</th>\n",
       "      <td>0.001</td>\n",
       "      <td>0.001</td>\n",
       "      <td>0.001</td>\n",
       "      <td>0.001</td>\n",
       "      <td>0.489</td>\n",
       "      <td>0.001</td>\n",
       "      <td>0.001</td>\n",
       "      <td>0.001</td>\n",
       "      <td>0.001</td>\n",
       "      <td>0.001</td>\n",
       "      <td>0.001</td>\n",
       "      <td>0.001</td>\n",
       "      <td>0.001</td>\n",
       "      <td>0.180</td>\n",
       "      <td>0.001</td>\n",
       "      <td>0.321</td>\n",
       "      <td>0.001</td>\n",
       "      <td>0.001</td>\n",
       "      <td>0.001</td>\n",
       "      <td>0.001</td>\n",
       "    </tr>\n",
       "    <tr>\n",
       "      <th>3</th>\n",
       "      <td>0.001</td>\n",
       "      <td>0.001</td>\n",
       "      <td>0.001</td>\n",
       "      <td>0.001</td>\n",
       "      <td>0.001</td>\n",
       "      <td>0.001</td>\n",
       "      <td>0.001</td>\n",
       "      <td>0.157</td>\n",
       "      <td>0.001</td>\n",
       "      <td>0.001</td>\n",
       "      <td>0.001</td>\n",
       "      <td>0.001</td>\n",
       "      <td>0.001</td>\n",
       "      <td>0.001</td>\n",
       "      <td>0.001</td>\n",
       "      <td>0.831</td>\n",
       "      <td>0.001</td>\n",
       "      <td>0.001</td>\n",
       "      <td>0.001</td>\n",
       "      <td>0.001</td>\n",
       "    </tr>\n",
       "    <tr>\n",
       "      <th>4</th>\n",
       "      <td>0.001</td>\n",
       "      <td>0.001</td>\n",
       "      <td>0.001</td>\n",
       "      <td>0.987</td>\n",
       "      <td>0.001</td>\n",
       "      <td>0.001</td>\n",
       "      <td>0.001</td>\n",
       "      <td>0.001</td>\n",
       "      <td>0.001</td>\n",
       "      <td>0.001</td>\n",
       "      <td>0.001</td>\n",
       "      <td>0.001</td>\n",
       "      <td>0.001</td>\n",
       "      <td>0.001</td>\n",
       "      <td>0.001</td>\n",
       "      <td>0.001</td>\n",
       "      <td>0.001</td>\n",
       "      <td>0.001</td>\n",
       "      <td>0.001</td>\n",
       "      <td>0.001</td>\n",
       "    </tr>\n",
       "    <tr>\n",
       "      <th>...</th>\n",
       "      <td>...</td>\n",
       "      <td>...</td>\n",
       "      <td>...</td>\n",
       "      <td>...</td>\n",
       "      <td>...</td>\n",
       "      <td>...</td>\n",
       "      <td>...</td>\n",
       "      <td>...</td>\n",
       "      <td>...</td>\n",
       "      <td>...</td>\n",
       "      <td>...</td>\n",
       "      <td>...</td>\n",
       "      <td>...</td>\n",
       "      <td>...</td>\n",
       "      <td>...</td>\n",
       "      <td>...</td>\n",
       "      <td>...</td>\n",
       "      <td>...</td>\n",
       "      <td>...</td>\n",
       "      <td>...</td>\n",
       "    </tr>\n",
       "    <tr>\n",
       "      <th>995</th>\n",
       "      <td>0.001</td>\n",
       "      <td>0.001</td>\n",
       "      <td>0.001</td>\n",
       "      <td>0.001</td>\n",
       "      <td>0.001</td>\n",
       "      <td>0.001</td>\n",
       "      <td>0.713</td>\n",
       "      <td>0.276</td>\n",
       "      <td>0.001</td>\n",
       "      <td>0.001</td>\n",
       "      <td>0.001</td>\n",
       "      <td>0.001</td>\n",
       "      <td>0.001</td>\n",
       "      <td>0.001</td>\n",
       "      <td>0.001</td>\n",
       "      <td>0.001</td>\n",
       "      <td>0.001</td>\n",
       "      <td>0.001</td>\n",
       "      <td>0.001</td>\n",
       "      <td>0.001</td>\n",
       "    </tr>\n",
       "    <tr>\n",
       "      <th>996</th>\n",
       "      <td>0.001</td>\n",
       "      <td>0.001</td>\n",
       "      <td>0.150</td>\n",
       "      <td>0.001</td>\n",
       "      <td>0.001</td>\n",
       "      <td>0.001</td>\n",
       "      <td>0.001</td>\n",
       "      <td>0.401</td>\n",
       "      <td>0.001</td>\n",
       "      <td>0.438</td>\n",
       "      <td>0.001</td>\n",
       "      <td>0.001</td>\n",
       "      <td>0.001</td>\n",
       "      <td>0.001</td>\n",
       "      <td>0.001</td>\n",
       "      <td>0.001</td>\n",
       "      <td>0.001</td>\n",
       "      <td>0.001</td>\n",
       "      <td>0.001</td>\n",
       "      <td>0.001</td>\n",
       "    </tr>\n",
       "    <tr>\n",
       "      <th>997</th>\n",
       "      <td>0.001</td>\n",
       "      <td>0.001</td>\n",
       "      <td>0.001</td>\n",
       "      <td>0.001</td>\n",
       "      <td>0.001</td>\n",
       "      <td>0.001</td>\n",
       "      <td>0.001</td>\n",
       "      <td>0.488</td>\n",
       "      <td>0.001</td>\n",
       "      <td>0.001</td>\n",
       "      <td>0.001</td>\n",
       "      <td>0.001</td>\n",
       "      <td>0.001</td>\n",
       "      <td>0.001</td>\n",
       "      <td>0.001</td>\n",
       "      <td>0.001</td>\n",
       "      <td>0.001</td>\n",
       "      <td>0.001</td>\n",
       "      <td>0.001</td>\n",
       "      <td>0.501</td>\n",
       "    </tr>\n",
       "    <tr>\n",
       "      <th>998</th>\n",
       "      <td>0.001</td>\n",
       "      <td>0.001</td>\n",
       "      <td>0.001</td>\n",
       "      <td>0.001</td>\n",
       "      <td>0.001</td>\n",
       "      <td>0.001</td>\n",
       "      <td>0.001</td>\n",
       "      <td>0.519</td>\n",
       "      <td>0.470</td>\n",
       "      <td>0.001</td>\n",
       "      <td>0.001</td>\n",
       "      <td>0.001</td>\n",
       "      <td>0.001</td>\n",
       "      <td>0.001</td>\n",
       "      <td>0.001</td>\n",
       "      <td>0.001</td>\n",
       "      <td>0.001</td>\n",
       "      <td>0.001</td>\n",
       "      <td>0.001</td>\n",
       "      <td>0.001</td>\n",
       "    </tr>\n",
       "    <tr>\n",
       "      <th>999</th>\n",
       "      <td>0.001</td>\n",
       "      <td>0.001</td>\n",
       "      <td>0.713</td>\n",
       "      <td>0.001</td>\n",
       "      <td>0.001</td>\n",
       "      <td>0.001</td>\n",
       "      <td>0.001</td>\n",
       "      <td>0.275</td>\n",
       "      <td>0.001</td>\n",
       "      <td>0.001</td>\n",
       "      <td>0.001</td>\n",
       "      <td>0.001</td>\n",
       "      <td>0.001</td>\n",
       "      <td>0.001</td>\n",
       "      <td>0.001</td>\n",
       "      <td>0.001</td>\n",
       "      <td>0.001</td>\n",
       "      <td>0.001</td>\n",
       "      <td>0.001</td>\n",
       "      <td>0.001</td>\n",
       "    </tr>\n",
       "  </tbody>\n",
       "</table>\n",
       "<p>1000 rows × 20 columns</p>\n",
       "</div>"
      ],
      "text/plain": [
       "       T1    T2    T3    T4    T5    T6    T7    T8    T9   T10   T11   T12  \\\n",
       "0   0.001 0.001 0.498 0.001 0.001 0.001 0.001 0.001 0.001 0.490 0.001 0.001   \n",
       "1   0.001 0.001 0.001 0.001 0.001 0.001 0.001 0.001 0.001 0.288 0.001 0.001   \n",
       "2   0.001 0.001 0.001 0.001 0.489 0.001 0.001 0.001 0.001 0.001 0.001 0.001   \n",
       "3   0.001 0.001 0.001 0.001 0.001 0.001 0.001 0.157 0.001 0.001 0.001 0.001   \n",
       "4   0.001 0.001 0.001 0.987 0.001 0.001 0.001 0.001 0.001 0.001 0.001 0.001   \n",
       "..    ...   ...   ...   ...   ...   ...   ...   ...   ...   ...   ...   ...   \n",
       "995 0.001 0.001 0.001 0.001 0.001 0.001 0.713 0.276 0.001 0.001 0.001 0.001   \n",
       "996 0.001 0.001 0.150 0.001 0.001 0.001 0.001 0.401 0.001 0.438 0.001 0.001   \n",
       "997 0.001 0.001 0.001 0.001 0.001 0.001 0.001 0.488 0.001 0.001 0.001 0.001   \n",
       "998 0.001 0.001 0.001 0.001 0.001 0.001 0.001 0.519 0.470 0.001 0.001 0.001   \n",
       "999 0.001 0.001 0.713 0.001 0.001 0.001 0.001 0.275 0.001 0.001 0.001 0.001   \n",
       "\n",
       "      T13   T14   T15   T16   T17   T18   T19   T20  \n",
       "0   0.001 0.001 0.001 0.001 0.001 0.001 0.001 0.001  \n",
       "1   0.699 0.001 0.001 0.001 0.001 0.001 0.001 0.001  \n",
       "2   0.001 0.180 0.001 0.321 0.001 0.001 0.001 0.001  \n",
       "3   0.001 0.001 0.001 0.831 0.001 0.001 0.001 0.001  \n",
       "4   0.001 0.001 0.001 0.001 0.001 0.001 0.001 0.001  \n",
       "..    ...   ...   ...   ...   ...   ...   ...   ...  \n",
       "995 0.001 0.001 0.001 0.001 0.001 0.001 0.001 0.001  \n",
       "996 0.001 0.001 0.001 0.001 0.001 0.001 0.001 0.001  \n",
       "997 0.001 0.001 0.001 0.001 0.001 0.001 0.001 0.501  \n",
       "998 0.001 0.001 0.001 0.001 0.001 0.001 0.001 0.001  \n",
       "999 0.001 0.001 0.001 0.001 0.001 0.001 0.001 0.001  \n",
       "\n",
       "[1000 rows x 20 columns]"
      ]
     },
     "execution_count": 37,
     "metadata": {},
     "output_type": "execute_result"
    }
   ],
   "source": [
    "LDA_train_features"
   ]
  },
  {
   "cell_type": "code",
   "execution_count": 38,
   "metadata": {},
   "outputs": [],
   "source": [
    "# k means with LDA features \n",
    "model , label = build_k_means(LDA_train_features,clusters)"
   ]
  },
  {
   "cell_type": "code",
   "execution_count": 39,
   "metadata": {},
   "outputs": [
    {
     "name": "stdout",
     "output_type": "stream",
     "text": [
      "CLUSTER #1\n",
      " \n",
      "Key Features:\n",
      "['said', 'one', 'see', 'man', 'like', 'would', 'could', 'know', 'little', 'upon']\n",
      "====================================================================================================\n",
      "CLUSTER #2\n",
      " \n",
      "Key Features:\n",
      "['mr', 'could', 'would', 'emma', 'much', 'harriet', 'must', 'said', 'one', 'miss']\n",
      "====================================================================================================\n",
      "CLUSTER #3\n",
      " \n",
      "Key Features:\n",
      "['heaven', 'thou', 'thy', 'shall', 'thus', 'thee', 'yet', 'though', 'us', 'god']\n",
      "====================================================================================================\n",
      "CLUSTER #4\n",
      " \n",
      "Key Features:\n",
      "['chapter', 'ebook', 'emma', 'volume', 'iii', 'ii', 'viii', 'gutenberg', 'project', 'vi']\n",
      "====================================================================================================\n"
     ]
    }
   ],
   "source": [
    "# k means with BOW features \n",
    "model3 , label2 = build_k_means(cv_train_features,clusters)\n",
    "print_top_cluster_fName(10,cv_names,model3,clusters)"
   ]
  },
  {
   "cell_type": "code",
   "execution_count": 40,
   "metadata": {},
   "outputs": [
    {
     "name": "stdout",
     "output_type": "stream",
     "text": [
      "CLUSTER #1\n",
      " \n",
      "Key Features:\n",
      "['heaven', 'thou', 'see']\n",
      "====================================================================================================\n",
      "CLUSTER #2\n",
      " \n",
      "Key Features:\n",
      "['one', 'man', 'like']\n",
      "====================================================================================================\n",
      "CLUSTER #3\n",
      " \n",
      "Key Features:\n",
      "['said', 'jem', 'would']\n",
      "====================================================================================================\n",
      "CLUSTER #4\n",
      " \n",
      "Key Features:\n",
      "['mr', 'could', 'would']\n",
      "====================================================================================================\n"
     ]
    }
   ],
   "source": [
    "# k means with n-gram features \n",
    "model , label4 = build_k_means(cv_train_features,clusters)\n",
    "print_top_cluster_fName(3,cv_names,model,clusters)"
   ]
  },
  {
   "cell_type": "markdown",
   "metadata": {},
   "source": [
    "------------------------------------------------------------------------------------------------------------------"
   ]
  },
  {
   "cell_type": "markdown",
   "metadata": {},
   "source": [
    "### Em model "
   ]
  },
  {
   "cell_type": "code",
   "execution_count": 41,
   "metadata": {},
   "outputs": [],
   "source": [
    "model2 = em_model(LDA_train_features, 4)\n",
    "# print_top_cluster_fName(10,bv_names,model2,clusters)"
   ]
  },
  {
   "cell_type": "code",
   "execution_count": 42,
   "metadata": {},
   "outputs": [],
   "source": [
    "def em_model(x, num_components):\n",
    "    \"\"\"\n",
    "    INPUT:\n",
    "    x: The training data\n",
    "    num_components: The number of mixture components.\n",
    "\n",
    "    OUTPUT:\n",
    "    model: Gaussian mixture model after fitting it with the training data\n",
    "\n",
    "    \"\"\"\n",
    "    model = GaussianMixture(n_components=num_components,covariance_type='diag', random_state=0)\n",
    "    model.fit(x)\n",
    "    return model"
   ]
  },
  {
   "cell_type": "code",
   "execution_count": 43,
   "metadata": {},
   "outputs": [],
   "source": [
    "def plot_em_elbow(x, max_components, features_name):\n",
    "    \"\"\"\n",
    "    The function takes the training data and plot AIC, BIC and silhouette versus the number of components\n",
    "\n",
    "    INPUT:\n",
    "    x: The training data\n",
    "    max_components: The maximum number of components \n",
    "    features_name: The name of used features that will appear in the title of the plot \n",
    "\n",
    "    \"\"\"\n",
    "    s = []\n",
    "    n_components = np.arange(1, max_components+1)\n",
    "    models = [em_model(x, n) for n in n_components]\n",
    "    for i in range(2, max_components+1):\n",
    "        model = em_model(x, i)\n",
    "        labels = model.predict(x)\n",
    "        s.append(silhouette_score(x, labels))\n",
    "\n",
    "    fig = plt.figure(figsize=(15, 5))\n",
    "    fig.suptitle('Elbow Method using ' + features_name + ' features')\n",
    "    sub1 = plt.subplot(1, 2, 1)\n",
    "    sub1.plot(n_components, [m.bic(x) for m in models], label='BIC')\n",
    "    sub1.plot(n_components, [m.aic(x) for m in models], label='AIC')\n",
    "    sub1.set_xlabel('Number of components')\n",
    "    sub1.legend(loc='best')\n",
    "\n",
    "    sub2 = plt.subplot(1, 2, 2)\n",
    "    sub2.plot(range(2, max_components+1), s)\n",
    "    sub2.set_xlabel('Number of clusters')\n",
    "    sub2.set_ylabel('silhouette')"
   ]
  },
  {
   "cell_type": "code",
   "execution_count": 44,
   "metadata": {},
   "outputs": [
    {
     "data": {
      "image/png": "[encoded data removed]",
      "text/plain": [
       "<Figure size 1080x360 with 2 Axes>"
      ]
     },
     "metadata": {
      "needs_background": "light"
     },
     "output_type": "display_data"
    }
   ],
   "source": [
    "plot_em_elbow(LDA_train_features,11, \"LDA\")"
   ]
  },
  {
   "cell_type": "markdown",
   "metadata": {},
   "source": [
    "--------------------------------------------------------------------------------------------------------------------"
   ]
  },
  {
   "cell_type": "code",
   "execution_count": null,
   "metadata": {},
   "outputs": [],
   "source": []
  },
  {
   "cell_type": "code",
   "execution_count": 45,
   "metadata": {},
   "outputs": [
    {
     "name": "stderr",
     "output_type": "stream",
     "text": [
      "/home/amjad/anaconda3/lib/python3.7/site-packages/scipy/sparse/sparsetools.py:21: DeprecationWarning: `scipy.sparse.sparsetools` is deprecated!\n",
      "scipy.sparse.sparsetools is a private module for scipy.sparse, and should not be used.\n",
      "  _deprecated()\n"
     ]
    }
   ],
   "source": [
    "#!pip install pyLDAvis\n",
    "import pyLDAvis\n",
    "import pyLDAvis.gensim_models as gensimvis\n",
    "\n",
    "from gensim.models.coherencemodel import CoherenceModel\n",
    "from gensim.models.ldamodel import LdaModel\n",
    "from gensim.corpora.dictionary import Dictionary\n",
    "\n",
    "# pyLDAvis.enable_notebook()\n",
    "def visualizeTopics(X,N_topics):\n",
    "    \"\"\"\n",
    "    input  : take the corpus as a text , number of topics \n",
    "    output : visualize the lda topics , and return the coherence \n",
    "    \"\"\"\n",
    "    pyLDAvis.enable_notebook()\n",
    "    # get list of ( list of words ) from the corpus \n",
    "    texts = []\n",
    "    for x in X :\n",
    "        texts.append(x.split(\" \"))\n",
    "    # get the dictionary \n",
    "    dictionary = Dictionary(texts)\n",
    "    # prepare the features for LDA model \n",
    "    corpus = [dictionary.doc2bow(text) for text in texts]  # text is a list of lists [[word1,word2,...,wordn],...,[word1,word2,...,wordn]]\n",
    "    \n",
    "    # build LDA model \n",
    "    goodLdaModel = LdaModel(corpus=corpus, id2word=dictionary, iterations=50, num_topics=N_topics)\n",
    "    \n",
    "    goodcm = CoherenceModel(model=goodLdaModel, corpus=corpus, dictionary=dictionary, coherence='u_mass')\n",
    "    \n",
    "    goodcm2 = CoherenceModel(model=goodLdaModel, texts=texts, dictionary=dictionary, coherence='c_v')\n",
    "\n",
    "    # feed the LDA model into the pyLDAvis instance\n",
    "    lda_viz = gensimvis.prepare(goodLdaModel, corpus, dictionary)\n",
    "    return lda_viz,goodcm.get_coherence(),goodcm2.get_coherence()\n",
    "    "
   ]
  },
  {
   "cell_type": "code",
   "execution_count": 46,
   "metadata": {},
   "outputs": [
    {
     "name": "stderr",
     "output_type": "stream",
     "text": [
      "/home/amjad/anaconda3/lib/python3.7/site-packages/pyLDAvis/_prepare.py:247: FutureWarning: In a future version of pandas all arguments of DataFrame.drop except for the argument 'labels' will be keyword-only\n",
      "  by='saliency', ascending=False).head(R).drop('saliency', 1)\n"
     ]
    }
   ],
   "source": [
    "lda_viz,coherence , c = visualizeTopics(X,7)"
   ]
  },
  {
   "cell_type": "code",
   "execution_count": 47,
   "metadata": {},
   "outputs": [
    {
     "data": {
      "text/plain": [
       "-1.7072825238614058"
      ]
     },
     "execution_count": 47,
     "metadata": {},
     "output_type": "execute_result"
    }
   ],
   "source": [
    "coherence"
   ]
  },
  {
   "cell_type": "code",
   "execution_count": 48,
   "metadata": {},
   "outputs": [
    {
     "data": {
      "text/plain": [
       "0.37620908095385647"
      ]
     },
     "execution_count": 48,
     "metadata": {},
     "output_type": "execute_result"
    }
   ],
   "source": [
    "c"
   ]
  },
  {
   "cell_type": "code",
   "execution_count": 49,
   "metadata": {},
   "outputs": [
    {
     "data": {
      "text/html": [
       "\n",
       "<link rel=\"stylesheet\" type=\"text/css\" href=\"https://cdn.jsdelivr.net/gh/bmabey/pyLDAvis@3.3.1/pyLDAvis/js/ldavis.v1.0.0.css\">\n",
       "\n",
       "\n",
       "<div id=\"ldavis_el20522140556056471376948096727\"></div>\n",
       "<script type=\"text/javascript\">\n",
       "\n",
       "var ldavis_el20522140556056471376948096727_data = {\"mdsDat\": {\"x\": [0.03539077889305156, 0.016544921896680897, -0.021788515855447603, -0.012292217316285799, 0.011796154408603802, -0.023130701126975194, -0.0065204208996276275], \"y\": [0.0063323842865259375, 0.0017530473845767422, 0.022758144892795786, 0.00248690986389087, 0.0030022067143238474, -6.049551451762573e-05, -0.036272197627595544], \"topics\": [1, 2, 3, 4, 5, 6, 7], \"cluster\": [1, 1, 1, 1, 1, 1, 1], \"Freq\": [22.794739430040675, 19.344098713975377, 14.464489535456398, 12.950108350252693, 12.79766859481192, 10.05788310756557, 7.591012267897371]}, \"tinfo\": {\"Term\": [\"see\", \"mr\", \"chapter\", \"shall\", \"susan\", \"like\", \"thou\", \"said\", \"thy\", \"man\", \"would\", \"others\", \"father\", \"brown\", \"men\", \"thus\", \"one\", \"must\", \"miss\", \"earth\", \"may\", \"take\", \"high\", \"god\", \"know\", \"upon\", \"first\", \"heaven\", \"new\", \"love\", \"davis\\u00e2\\u0080\\u0099\", \"satisfaction\\u00e2\\u0080\\u0094her\", \"weddingcake\", \"trillions\", \"glee\", \"hannah\", \"disputing\", \"demoniacally\", \"principally\", \"\\u00e2\\u0080\\u0098oh\", \"me\\u00e2\\u0080\\u0099\", \"socalled\", \"teased\", \"americanos\", \"peashooter\", \"constable\", \"pomfrets\", \"stationed\", \"\\u00e2\\u0080\\u009c\\u00e2\\u0080\\u0098drugger\", \"streetwalkers\", \"passable\", \"encouraging\", \"steamers\", \"\\u00e2\\u0080\\u0098they\\u00e2\\u0080\\u0099ve\", \"accomplices\", \"stay\\u00e2\\u0080\\u009d\", \"\\u00e2\\u0080\\u009camong\", \"pilothouses\", \"vestibule\", \"edging\", \"hesitation\", \"inclination\", \"\\u00e2\\u0080\\u009cdid\", \"mr\", \"complaint\", \"pantry\", \"snowed\", \"births\", \"elton\", \"look\\u00e2\\u0080\\u0099d\", \"harriet\\u00e2\\u0080\\u0099s\", \"harriet\", \"emma\", \"mrs\", \"randalls\", \"woodhouse\\u00e2\\u0080\\u0099s\", \"taken\", \"martin\", \"drawingroom\", \"consider\", \"dont\", \"little\", \"weston\", \"party\", \"thing\", \"cannot\", \"way\", \"got\", \"upon\", \"going\", \"possible\", \"every\", \"say\", \"saw\", \"time\", \"think\", \"sure\", \"hartfield\", \"heard\", \"never\", \"could\", \"much\", \"said\", \"would\", \"take\", \"well\", \"one\", \"came\", \"must\", \"may\", \"great\", \"come\", \"know\", \"good\", \"see\", \"like\", \"man\", \"sentimental\", \"stolen\", \"insist\", \"prairiegrass\", \"requiring\", \"ropes\\u00e2\\u0080\\u009d\", \"conspirators\", \"somers\", \"interrupt\", \"surprise\", \"selfcongratulation\", \"geniality\", \"bobbing\", \"unimpaired\", \"charwoman\", \"efforts\", \"thud\", \"sprawlingly\", \"corpulent\", \"educational\", \"characterizes\", \"barm\", \"rotten\", \"disarray\", \"disadvantage\", \"penitence\", \"tired\\u00e2\\u0080\\u009d\", \"i\\u00e2\\u0080\\u0099ve\", \"straight\\u00e2\\u0080\\u009d\", \"carefulspoken\", \"lodger\", \"absent\", \"simpleton\", \"odor\", \"yearning\", \"he\\u00e2\\u0080\\u009d\", \"much\\u00e2\\u0080\\u009d\", \"glance\", \"scientist\", \"dividing\", \"would\", \"celebrate\", \"test\", \"miss\", \"mean\", \"said\", \"thee\", \"found\", \"seem\", \"old\", \"alone\", \"him\\u00e2\\u0080\\u009d\", \"man\", \"could\", \"\\u00e2\\u0080\\u009ci\", \"love\", \"first\", \"body\", \"priest\", \"tell\", \"think\", \"machine\", \"much\", \"like\", \"always\", \"went\", \"know\", \"one\", \"good\", \"well\", \"long\", \"two\", \"might\", \"brown\", \"must\", \"yet\", \"little\", \"great\", \"mr\", \"time\", \"never\", \"every\", \"shall\", \"may\", \"tracks\", \"deaths\", \"reference\", \"idiots\", \"african\", \"siberian\", \"brazilian\", \"grandeur\", \"religion\\u00e2\\u0080\\u0099s\", \"janeiro\", \"amazon\", \"losses\", \"riverstripes\", \"seaman\", \"druids\", \"unsuspected\", \"paraguay\", \"telegraphs\", \"guadalquiver\", \"saukara\", \"monks\", \"battlefields\", \"avatars\", \"yiangtse\", \"mona\", \"incarnated\", \"sabians\", \"signifiers\", \"dnieper\", \"persia\", \"balks\", \"salute\", \"rim\", \"see\", \"huts\", \"ken\", \"todd\", \"nethermost\", \"inhabitants\", \"souls\", \"christ\", \"tribes\", \"baleful\", \"cliffs\", \"superbly\", \"keeping\", \"assyria\", \"blooming\", \"poem\", \"railroads\", \"death\", \"religion\", \"storms\", \"universe\", \"many\", \"part\", \"god\", \"one\", \"man\", \"us\", \"let\", \"go\", \"earth\", \"flowers\", \"though\", \"fire\", \"lawrence\", \"figure\", \"four\", \"sea\", \"could\", \"great\", \"might\", \"face\", \"life\", \"right\", \"yet\", \"place\", \"say\", \"night\", \"round\", \"made\", \"upon\", \"thing\", \"like\", \"day\", \"much\", \"body\", \"every\", \"said\", \"mr\", \"would\", \"must\", \"little\", \"good\", \"love\", \"shall\", \"know\", \"lists\", \"inflicted\", \"reap\", \"hostility\", \"subtlety\", \"arbitrator\", \"accustomed\", \"untamed\", \"ambush\", \"rejoice\", \"not\\u00e2\\u0080\\u0094another\", \"blew\", \"enterprise\", \"brake\", \"cleverly\", \"err\", \"hundredth\", \"operations\", \"instay\", \"effrontery\", \"shepherds\", \"climbs\", \"tangling\", \"disdained\", \"booksellers\", \"tarsus\", \"signifyfor\", \"leaps\", \"tenement\", \"unhoard\", \"chapter\", \"fancies\", \"washerwomans\", \"felix\", \"assault\", \"nuts\", \"lacking\", \"butlers\", \"xvii\", \"coin\", \"sex\", \"invade\", \"xvi\", \"heaven\\u00e2\\u0080\\u0099s\", \"shall\", \"heaven\", \"soon\", \"stood\", \"door\", \"susan\", \"us\", \"occasion\", \"gods\", \"returns\", \"power\", \"appeared\", \"night\", \"high\", \"thought\", \"o\\u00e2\\u0080\\u0099er\", \"thou\", \"god\", \"thus\", \"back\", \"though\", \"force\", \"time\", \"good\", \"rather\", \"one\", \"far\", \"said\", \"find\", \"made\", \"know\", \"well\", \"like\", \"yet\", \"great\", \"man\", \"little\", \"may\", \"much\", \"could\", \"first\", \"father\", \"would\", \"mr\", \"day\", \"etexts\", \"\\u0080\\u0099s\", \"etext\", \"reach\\u00e2\\u0080\\u0099d\", \"formules\", \"joseph\", \"kitty\", \"milton\", \"raben\", \"prizes\", \"location\", \"rewritten\", \"ny\", \"massage\", \"specific\", \"citoyens\\u00e2\\u0080\\u009d\", \"editions\", \"affixed\", \"copies\", \"dos\", \"scabs\", \"valved\", \"abased\", \"mullein\", \"barestript\", \"abase\", \"bosombone\", \"kelson\", \"\\u00e2\\u0080\\u009caux\", \"lecture\", \"austen\", \"book\", \"convince\", \"city\", \"yourself\\u00e2\\u0080\\u009d\", \"revolving\", \"echoed\", \"shall\", \"specimens\", \"ii\", \"never\", \"yet\", \"chapter\", \"life\", \"gutenberg\", \"know\", \"put\", \"good\", \"another\", \"every\", \"ever\", \"mr\", \"one\", \"men\", \"world\", \"day\", \"think\", \"must\", \"said\", \"love\", \"thy\", \"hand\", \"man\", \"even\", \"quite\", \"may\", \"many\", \"first\", \"could\", \"two\", \"like\", \"miss\", \"little\", \"would\", \"well\", \"see\", \"much\", \"upon\", \"great\", \"newest\", \"blade\\u00e2\\u0080\\u009d\", \"straits\", \"speeding\", \"marconi\", \"futuristand\", \"conducting\\u00e2\\u0080\\u009d\", \"hotel\\u00e2\\u0080\\u009d\", \"roads\\u00e2\\u0080\\u009d\", \"disconnected\", \"carving\", \"financethe\", \"future\\u00e2\\u0080\\u009d\", \"crossexamine\\u00e2\\u0080\\u009d\", \"past\\u00e2\\u0080\\u009d\", \"tuscans\", \"hilt\\u00e2\\u0080\\u009d\", \"d\\u00e2\\u0080\\u0099annunzio\", \"italians\", \"progressive\", \"sixteenth\", \"italy\\u00e2\\u0080\\u009d\", \"witness\\u00e2\\u0080\\u009d\", \"owl\", \"motors\", \"committed\", \"handcuff\\u00e2\\u0080\\u0099d\", \"experts\", \"byzantine\", \"revival\", \"lamb\", \"tree\\u00e2\\u0080\\u009d\", \"cape\", \"others\", \"realized\", \"passage\", \"myself\\u00e2\\u0080\\u009d\", \"like\", \"absurd\", \"brown\", \"hirsch\", \"end\", \"figure\", \"courier\\u00e2\\u0080\\u009d\", \"father\", \"cowdray\", \"brow\", \"jem\", \"black\", \"men\", \"said\", \"earth\", \"man\", \"dull\", \"easy\", \"running\", \"could\", \"know\", \"long\", \"one\", \"seemed\", \"rather\", \"away\", \"say\", \"thus\", \"take\", \"heaven\", \"must\", \"back\", \"great\", \"always\", \"night\", \"day\", \"without\", \"would\", \"think\", \"never\", \"old\", \"every\", \"much\", \"upon\", \"well\", \"hadst\", \"offi\", \"unaltered\", \"moody\", \"sayingi\", \"thereit\", \"susanher\", \"dryand\", \"chickenyard\", \"dissipated\", \"edgeworthstown\", \"mothers\\u00e2\\u0080\\u0099\", \"shrink\", \"successes\", \"meridian\", \"blasting\", \"updrew\", \"unfastens\", \"inexperience\", \"portcullis\", \"gav\\u00e2\\u0080\\u0099st\", \"lowerarm\", \"recoil\", \"tartarus\", \"instrument\", \"incurrest\", \"commercial\", \"youth\\u00e2\\u0080\\u0099s\", \"pound\", \"compassed\", \"swept\", \"rushes\", \"strutt\", \"zones\", \"reflecting\", \"blaze\", \"grease\", \"susan\", \"alleged\", \"thou\", \"likes\", \"child\", \"bar\", \"urge\", \"thy\", \"may\", \"grass\", \"dry\", \"thus\", \"high\", \"upon\", \"must\", \"new\", \"land\", \"chair\", \"would\", \"came\", \"vain\", \"shall\", \"take\", \"said\", \"two\", \"first\", \"one\", \"made\", \"come\", \"love\", \"miss\", \"give\", \"stand\", \"well\", \"great\", \"little\", \"could\", \"mr\", \"day\", \"time\", \"know\", \"much\", \"father\", \"like\"], \"Freq\": [295.0, 498.0, 61.0, 256.0, 94.0, 302.0, 131.0, 569.0, 126.0, 355.0, 380.0, 67.0, 189.0, 120.0, 132.0, 120.0, 502.0, 264.0, 161.0, 122.0, 211.0, 132.0, 103.0, 98.0, 279.0, 222.0, 177.0, 163.0, 92.0, 173.0, 2.2410603793154538, 2.1847078183227193, 3.633019204585856, 2.6476253330845245, 1.9280054859863665, 1.8535614530236741, 1.2081080000319664, 1.1850870286084731, 1.7789661616160044, 1.1791296517286785, 1.1789580762228349, 1.17424037176298, 1.7619106109698734, 1.7548498932948884, 1.1586866250853491, 2.388548972917679, 2.904951274799294, 1.160573458088954, 1.1548035786565793, 1.153992969391417, 1.7291523771509474, 2.31825940573157, 1.7218231425654156, 1.1494368892239202, 1.155503895305612, 1.1485866409583745, 1.1417777719113482, 1.1399003096337754, 1.1351476100731634, 1.1402840947671944, 5.100027428305976, 5.1176672810372565, 2.8656930741852835, 258.6412413669551, 2.858153371434536, 3.82660944831598, 1.7180357107128843, 2.2160702285967644, 44.34946699396402, 6.783065550458611, 14.436490768916833, 67.10494932946673, 83.33452935388513, 75.04671825622007, 11.033380088504417, 7.321207936734594, 20.115665553786602, 19.177969341202665, 5.141486505635835, 8.855539105047278, 26.72472949255392, 102.11976675733118, 35.509482962422844, 11.618649431604409, 61.266882855461866, 35.09017863100336, 51.891619070057324, 28.906430883429152, 75.49485722383476, 28.533329372808005, 11.476433322613847, 75.35388966042949, 64.42011723842822, 47.82819628223752, 68.80621940155304, 74.39423709041144, 40.338968739944804, 19.51918583698823, 42.160770563422815, 68.1008030873161, 110.37319176850467, 76.50302925715053, 141.32403444790796, 98.39622965634683, 43.87089058136876, 66.7439299188453, 114.50482946135243, 48.62067377301525, 69.54703019191473, 59.29288584611017, 62.08142284995088, 49.26065621468626, 60.409242165125015, 56.786835929721306, 58.706799176675915, 56.690900924408496, 57.94215323977407, 1.8293694707500125, 2.23462861012765, 1.6821253317891343, 1.6489228701563399, 1.610234800338205, 1.5649437331523457, 1.6119182733210107, 6.8559639196485245, 2.063604306903255, 4.663530086919195, 1.0254818461170079, 1.0224549445228084, 1.0208402967459713, 1.0169942485285854, 1.0129188533313918, 1.0110755623089591, 1.0089264987712565, 1.0085861729061596, 1.0054333028879476, 1.0051471645572023, 1.0047875563746869, 1.0099975822424674, 0.9944786242712573, 0.9964441539263768, 0.9913372251207069, 0.9865220645194812, 0.9884917462064535, 3.4966146241124956, 0.9844055838758108, 0.9840145187740027, 1.503016107692629, 5.268225250129965, 1.943841129681848, 2.8285991454357498, 3.2778411100984703, 1.8860884778103737, 2.4348877214955578, 4.318979846092311, 2.377861886318608, 1.9259174415335854, 131.80510774358402, 3.1593283278255835, 3.8197772562510424, 55.768029062692605, 29.3930120983503, 159.25963272214008, 33.353423318105534, 45.067409193424034, 10.930639618983472, 54.816017420213015, 23.97971738872249, 8.93636101382078, 93.34985459641769, 105.43574317243537, 50.98963998153109, 49.70488478785221, 50.116500617623245, 36.18996311889986, 21.63460025530496, 35.466792330582614, 59.85804673084436, 8.040058660553653, 61.97686546106195, 68.94005989609082, 36.085224948606005, 32.86583572069241, 63.52500866586896, 98.21289445851548, 56.974979401853055, 54.106901048597635, 44.34357408001032, 43.90511951634201, 42.542226179621714, 31.948826128973455, 54.011549003734544, 47.40653163732701, 53.824713763214234, 47.82025078791194, 64.56573811004489, 39.53624294413763, 40.22679424424361, 40.19292042017222, 40.10293251896942, 37.026987969004175, 1.6929933053191117, 2.20547173594286, 3.765416508651625, 1.4219206661785493, 1.4393472252230632, 1.4336144278255323, 1.415259309678389, 1.4080283779925291, 1.3987281581874476, 0.9034893750173402, 0.9034589597866182, 0.9032616291374705, 0.903235213141238, 0.9032075342288508, 0.9031593329289523, 0.9031338641198358, 0.9030913459426327, 0.9030404083243995, 0.9029979953902093, 0.9028951729666268, 0.902894962480601, 0.9028527600324366, 0.9028129781735684, 0.9028170826510707, 0.9028093999111305, 0.902768249893095, 0.9027808790546404, 0.902773406800726, 0.9026657431985511, 0.9026166999545496, 2.7554946642239853, 3.630488230588251, 1.3145857379328143, 129.8764517919268, 1.7771423558835564, 1.3202364457802997, 6.578372805477276, 1.3032343318067257, 1.7342756138218893, 3.3304157740059375, 2.0960613102401435, 2.0628040971984087, 1.3347426164604415, 1.6797253186854884, 1.2863183066176866, 3.774532658427182, 1.260671110594201, 1.3167733191985118, 3.437154500583714, 1.270293900233756, 18.6517375804729, 4.575100260457831, 4.124171837757049, 5.214105945641909, 32.69893337812117, 24.515916987505268, 25.577734793041493, 91.70466620642055, 66.26007813772043, 37.16762579603371, 26.45570905201651, 35.20544812171111, 27.2765456163835, 9.91260700647648, 35.1771587998493, 14.055657335883717, 14.343233447602834, 9.790264108865196, 10.412025515903066, 19.47455439737022, 56.5122379083187, 38.58486356911121, 31.168683131982167, 20.970365761918885, 23.16955912068545, 17.21640137695667, 32.94251117490415, 21.670246952556386, 29.224368143749444, 23.87460311256273, 18.466969579286566, 25.63382342529714, 30.716929604060415, 25.592763495280575, 35.68103540330143, 25.63260260634775, 32.0932051126373, 21.22131562126799, 29.359870627691087, 45.57868443084348, 40.62694510658777, 35.7114262176444, 30.010730464873774, 28.80426834632521, 27.343776536898652, 24.77520209347437, 26.40395811577967, 25.718782320845687, 1.8486230119236133, 0.9196705754161035, 0.9196149829967677, 0.9190798824045509, 0.9173995779740168, 0.9151433737689398, 1.3767146996635207, 0.9141869957074852, 0.9121739847808924, 0.9107452596039627, 0.9103483862645688, 1.3246886753647835, 1.8068957188679298, 1.3232459107463606, 0.8702451456490066, 1.2830794455318588, 0.8645310929612436, 0.862687214903647, 0.8591844213632946, 0.8605361651731103, 0.8666445471403991, 0.8669130867931227, 0.8647148306183704, 0.8628372202114141, 0.8538129687377434, 0.8449929958490219, 0.8524067632018666, 0.856469438362038, 1.2497010031671358, 0.8537374949616621, 30.242378634858486, 2.0310402077544834, 1.2476378648387012, 18.099004231759213, 1.6017900317884106, 3.6122506797003022, 2.5362039994856835, 3.342136348142788, 1.553708619427086, 4.912031595591664, 4.935270357567298, 1.1997724148928302, 1.524881311717173, 9.671640461195103, 52.50027173270912, 33.86917229145703, 25.02051145297169, 21.88200994840701, 19.924160270114598, 20.975985427449054, 32.69122809867974, 4.829085821453878, 7.611905519517157, 3.6481471759876176, 13.562999006759297, 9.561725014173177, 27.32149035792836, 21.43397198454087, 28.038765989166425, 6.8572220319813635, 24.106808770883504, 19.363146449429873, 22.232413301804698, 23.00125156154778, 29.048556493323375, 7.685592046429029, 31.42578633753877, 35.177131134906006, 20.717885842627716, 54.709935848806985, 19.623163690044976, 58.302247883302535, 18.014497724004684, 25.149867286362024, 34.814905252628826, 30.697282168288158, 35.83070501464266, 29.412398513187753, 30.319712024478786, 36.97673953561897, 32.33362449050923, 27.519952656672814, 30.020539629558893, 35.08367858196264, 24.813412165200127, 24.80926628985983, 28.44125962793062, 27.170598586633982, 22.507958730058, 1.5003794946849192, 1.4705404192640208, 3.6287138222614677, 2.237339095102353, 1.357141634113052, 1.3332246914129244, 1.3438457943478614, 1.7503161225179695, 2.1639573526213995, 1.68141248077298, 0.8119754231989662, 0.8102931091759132, 0.8097166323885817, 0.8085171211667426, 0.8053328574457961, 1.2189982975257576, 0.7972219566159934, 1.1886888036377943, 0.7935332873455435, 0.7920507056288751, 0.7701614881361982, 0.7692165075714695, 0.7617576931480121, 0.75981456318548, 0.758446466723217, 0.7543392442046561, 0.7519849171022668, 0.7507324698355886, 1.154909275190519, 0.7406616782902705, 1.5351405514499559, 15.850112221758023, 2.793959790835824, 8.237891468239601, 2.0744256934880805, 2.3316859323371895, 1.1031846603310709, 58.128269859904805, 1.7559706418827734, 2.7191705175654497, 43.387394699495424, 42.85516853480681, 15.153198622867146, 25.620433375883117, 4.900770797468851, 46.21313548521585, 16.369086217754496, 41.57563030439003, 19.524665213584143, 38.336597657150584, 28.794744189246916, 67.17203248510685, 66.95498594842942, 24.550318146764596, 19.14904407554806, 29.08512088253222, 36.08689340965008, 39.057792745118974, 67.05304752721713, 28.712239568917145, 22.893977331457, 22.96082219404387, 45.84103782991804, 17.795177492567948, 20.51546260020679, 29.59741590469543, 21.592508586914498, 25.288725410663318, 40.1153590122483, 25.726739755293902, 33.04431168582216, 23.867269042741516, 31.037604090151383, 34.608419194846114, 27.793607280339454, 30.457914452703445, 28.51149789274189, 24.817575429845895, 24.097032893860323, 4.757004834969614, 1.418154315743169, 1.8124970287094178, 2.662675637668911, 0.7800290235939086, 0.7755811719290138, 0.7755246764044855, 0.774381300659371, 0.7721248459918811, 0.768398849060077, 0.7706195183499837, 0.7692121797072354, 0.7690891628979972, 0.7644061815435829, 0.7654579350131673, 0.7633165936359402, 0.760337259705122, 0.7619165730663173, 0.7551384273760973, 0.7544276229334259, 0.7523083821370374, 0.7493802747180972, 0.7440734276297414, 0.7390372028855633, 0.7416529017627798, 0.7335963618782811, 1.0917339325867859, 0.7324477171205164, 0.7237940956497153, 0.721307707124625, 5.543288762025275, 1.4961724396946607, 2.703074035827517, 20.19357762825075, 1.0559348702067712, 10.71526668990899, 1.3511178386851348, 58.18016603770994, 2.131716647452588, 25.250897742743042, 5.870787170533763, 16.039240996607536, 8.734963317204599, 1.5808314222845399, 32.59007736194155, 2.063934166020149, 1.9898555071935298, 18.37785713469105, 14.240915270144017, 21.98108665718906, 64.02649854964197, 20.310530974820153, 44.730179914718676, 2.648035978742985, 5.004919198239234, 4.519001191772278, 43.66727253079947, 32.115561791572766, 23.446813570898602, 45.54051190823322, 14.384749948363536, 16.25101432393999, 15.872682823164832, 22.125942352971038, 16.13304230159153, 17.08128543221496, 18.771291967505363, 25.02764616407484, 16.07241587114551, 23.088998434492, 16.488611667717404, 17.146452580673838, 18.799364096014447, 17.19329176135158, 22.350221974551896, 19.146963202337968, 18.55123692317834, 17.6116771254026, 17.527228903318733, 17.340714051740104, 17.04674412706301, 16.916087834927733, 2.0843423685301246, 0.6782688497052413, 0.6757408863943967, 0.6695337063916448, 0.6671854676299261, 0.6646489986090123, 0.6642600004530526, 0.6648128163756709, 0.6579790858857393, 0.6462998070186238, 1.3196982539990763, 0.954444726639681, 1.2158123832710725, 0.5959142450755501, 1.1795905407817082, 0.5844266760762944, 0.6059677734498818, 0.6059819680439585, 0.5810702345119505, 0.6053799957449658, 0.6015680016049644, 0.5795774271629116, 0.5996456006655443, 0.5907344333390211, 1.1770829028040162, 0.5625207721117493, 0.5873620297603264, 0.5657502355757736, 2.2770453056564164, 0.5844059641199569, 1.129074686825301, 2.0813346610786203, 1.649183944952025, 1.0821505622572314, 1.3193854206105549, 1.9510908099474165, 1.2720673822488882, 20.267983899463847, 1.276411148963869, 21.977393905358362, 2.4648303958699356, 7.12769755073683, 1.8138131784440026, 2.015754752734484, 17.65417256735403, 22.574882700970626, 5.495172536042404, 2.974423834756875, 14.57492966396441, 12.99128751735686, 21.941209510086054, 24.6823422639038, 11.906569556223918, 9.067112561425796, 4.239286549185798, 29.477664533592367, 15.687595841892202, 6.177393668871906, 21.02653416981722, 13.424118137970162, 34.35509761437657, 16.412372478227187, 15.899353999776515, 30.532047376850244, 14.881074250458335, 15.404230651601429, 15.15606540349027, 14.392000781881602, 13.584111207155555, 7.60987101056335, 17.11508463985991, 17.032432998160395, 18.16687291015536, 22.080915245654825, 23.667516053801272, 13.395234072140157, 14.760531769211841, 16.55037795549224, 14.98924567349604, 13.761976430152975, 14.494143534364243], \"Total\": [295.0, 498.0, 61.0, 256.0, 94.0, 302.0, 131.0, 569.0, 126.0, 355.0, 380.0, 67.0, 189.0, 120.0, 132.0, 120.0, 502.0, 264.0, 161.0, 122.0, 211.0, 132.0, 103.0, 98.0, 279.0, 222.0, 177.0, 163.0, 92.0, 173.0, 2.998288029378616, 2.987919052003552, 4.985412747295223, 3.9252962982408817, 2.920410952356873, 2.869706348338021, 1.9174135134320962, 1.9067349697072962, 2.8660757795613065, 1.9040985164543793, 1.9038572990226184, 1.9020926120036843, 2.8579800563195623, 2.857959642394506, 1.8966967521838063, 3.911960540270329, 4.764520335797264, 1.9044544199873128, 1.8954363010113529, 1.8948676161919669, 2.8395429713160003, 3.8079830731881867, 2.835863490943778, 1.8932111314367175, 1.903428821207831, 1.899321835016477, 1.8897510242723259, 1.8950423231890337, 1.888377825814158, 1.8972054880702354, 8.600873050263734, 8.665442444446947, 4.844102010234613, 498.1251756079781, 4.835834820465234, 6.612330056208197, 2.8769018586485533, 3.7631625224726353, 88.94596542355805, 12.233953684402515, 27.400944823280344, 141.1886465936124, 181.0854942667785, 171.05262029691482, 21.993321498109545, 14.023115634149997, 43.05888368435016, 40.91450961930619, 9.540998768652495, 17.500852097743305, 61.037274307614055, 281.6913134951539, 85.45706101207985, 24.1918205311949, 164.4601128844013, 86.84915782374333, 141.7486673764035, 71.29650925106746, 222.42378733614783, 70.94865075899975, 24.288637407676344, 231.46121118782517, 191.71105441884666, 134.10307709531526, 209.1256351968235, 236.50047282714553, 112.53278737758008, 46.113281507544045, 121.36005404536849, 223.33569322717736, 413.268398219924, 261.43509707838666, 569.8992431754297, 380.79032894849627, 132.2946780592161, 235.50071794064107, 502.15987120860837, 155.7732709899551, 264.7154193487204, 211.80492622145533, 243.02471355796553, 178.05616480967913, 279.34701363674935, 246.87255211332416, 295.3122616211634, 302.8613224963397, 355.8742231059149, 2.684061790549106, 3.5360381118595066, 2.705265744898238, 2.6549942911136317, 2.6779856270499094, 2.6322213214815573, 2.7294154695089836, 11.661575561370693, 3.515863444440217, 8.029852365791276, 1.7711190737086933, 1.7702632059916925, 1.7702776547647672, 1.769754578606791, 1.7693118536150931, 1.7661212631399499, 1.7670234033570442, 1.768083493611275, 1.767365617565703, 1.7671229404200752, 1.7669612972619677, 1.7807828053800758, 1.7575889475864086, 1.7659346434136667, 1.7569849293138162, 1.755665599720163, 1.7612882068568938, 6.234506068412619, 1.7552789740665269, 1.7547704943886966, 2.689635827608878, 9.630334591319247, 3.500870976864864, 5.200096754104743, 6.061842040271677, 3.4581882335369625, 4.602508536987618, 8.578877528809619, 4.487544767905137, 3.5974932696613244, 380.79032894849627, 6.259534783832606, 7.882173341199528, 161.45871851981423, 79.6573485854825, 569.8992431754297, 97.38519754805698, 140.09291758418965, 27.232575751382512, 181.65037344388722, 68.90955318836538, 21.65165936226841, 355.8742231059149, 413.268398219924, 172.57596602575975, 173.4834745801435, 177.41483527973102, 121.1608323345863, 66.45736879735183, 122.76787463456189, 236.50047282714553, 19.584531747152333, 261.43509707838666, 302.8613224963397, 132.95670332179697, 118.40207707057618, 279.34701363674935, 502.15987120860837, 246.87255211332416, 235.50071794064107, 181.90466085150786, 184.47649774679982, 178.36561086029053, 120.46494925619005, 264.7154193487204, 221.92689458044768, 281.6913134951539, 243.02471355796553, 498.1251756079781, 209.1256351968235, 223.33569322717736, 231.46121118782517, 256.3597613859023, 211.80492622145533, 2.4053265616116737, 3.2001202420874466, 5.856211072402674, 2.419017734173763, 2.4550062809875133, 2.4478273178043626, 2.470954836769963, 2.4863773064346812, 2.498770371068174, 1.6157641172950687, 1.615735649810581, 1.6155454103606657, 1.6155153968640334, 1.6154859701083666, 1.615458126162143, 1.6154277043796064, 1.6153731460788694, 1.6153212210619332, 1.6152820188899288, 1.6151787490035743, 1.6151928357638414, 1.615159015931453, 1.6150954096390517, 1.6151035239934055, 1.6151140615164328, 1.6150513374749336, 1.6150864775151303, 1.615079477135459, 1.614951793945704, 1.6149022167109892, 4.955736250460583, 6.6711423656386115, 2.387921757510307, 295.3122616211634, 3.315905118478641, 2.4209207832257444, 13.628236526614579, 2.391604614733389, 3.258547102349081, 6.603135322564239, 4.039844425717331, 3.9757928034613372, 2.472382990354934, 3.19179930947517, 2.393487345294388, 8.1312014927049, 2.365389154633783, 2.487171639872811, 7.497576134574153, 2.389277377382324, 53.82162632344701, 10.851967545819235, 9.799370817524515, 13.211302521265328, 131.69013446847774, 92.68286343594585, 98.25346438476107, 502.15987120860837, 355.8742231059149, 175.89310303366048, 116.81978430634209, 170.95571690713777, 122.31355188120023, 32.87005853013378, 180.7775594381177, 52.68482704954017, 57.15688570076539, 33.900335854234456, 37.271596666988145, 90.19204127799097, 413.268398219924, 243.02471355796553, 178.36561086029053, 104.3142623615663, 123.35532959530504, 81.12075915850934, 221.92689458044768, 117.75292654094383, 191.71105441884666, 143.1222809869595, 94.74187859772304, 163.89321673344867, 222.42378733614783, 164.4601128844013, 302.8613224963397, 170.7318925278903, 261.43509707838666, 121.1608323345863, 231.46121118782517, 569.8992431754297, 498.1251756079781, 380.79032894849627, 264.7154193487204, 281.6913134951539, 246.87255211332416, 173.4834745801435, 256.3597613859023, 279.34701363674935, 3.2508777302634733, 1.6431800273530033, 1.6435355981144044, 1.643039315736754, 1.6430618117222522, 1.6434266146132288, 2.4739802640897635, 1.6434605314426693, 1.6426022787955301, 1.6424823532126314, 1.6421088731320648, 2.4390243910485765, 3.3461682739946963, 2.471333064986912, 1.6490842218142845, 2.4406386084253793, 1.6478997194227105, 1.647640222671813, 1.6477462072823434, 1.650525598270217, 1.6630626605676018, 1.6647039741597678, 1.6646791146769189, 1.6656485499994789, 1.6484880450701858, 1.6337716733257404, 1.6528961427174327, 1.6672553017043963, 2.440013713959222, 1.6690923849873536, 61.077310343037155, 4.020088556903443, 2.462119545841447, 48.779630079370946, 3.3232566854029537, 8.324833874738998, 5.7157811761673445, 7.8891729883895945, 3.2800419055314887, 12.582529513904467, 12.793132623711038, 2.4427134340622865, 3.2643797878331595, 31.342526417241356, 256.3597613859023, 163.18646389131737, 114.43761230691725, 96.48862746509745, 88.05659640845477, 94.89688879089739, 175.89310303366048, 14.312916795259728, 26.078039013165906, 9.953288674725659, 56.17589738583394, 35.673570251774514, 143.1222809869595, 103.95892422143004, 149.2888821197116, 23.198342298218186, 131.697656636278, 98.25346438476107, 120.20431227983646, 126.1518511399091, 180.7775594381177, 27.708043434531945, 209.1256351968235, 246.87255211332416, 117.13167823518009, 502.15987120860837, 108.88940112844875, 569.8992431754297, 97.41203357274938, 163.89321673344867, 279.34701363674935, 235.50071794064107, 302.8613224963397, 221.92689458044768, 243.02471355796553, 355.8742231059149, 281.6913134951539, 211.80492622145533, 261.43509707838666, 413.268398219924, 177.41483527973102, 189.1931178589473, 380.79032894849627, 498.1251756079781, 170.7318925278903, 2.3295170032102255, 2.343569077029682, 6.137775701515299, 3.81852634578821, 2.365164911856876, 2.3297076562904526, 2.362515457054172, 3.103961648494357, 3.8633981427199124, 3.2466378853096076, 1.5740396297931758, 1.573341221091675, 1.57418610793122, 1.5750223856129462, 1.5767078441275653, 2.4007242436241025, 1.5808455719732442, 2.361773493772038, 1.5822926404109066, 1.5835961081577399, 1.5668316143148229, 1.5663220819809804, 1.5672770123919728, 1.5664660381089186, 1.5682090516332443, 1.5681341263096096, 1.5677934157433868, 1.569102440034339, 2.424218631697511, 1.5699787111794028, 3.31592450666704, 45.38847741531889, 6.657629006550378, 22.580301717678562, 4.838959648461956, 5.652810337557291, 2.405316170143023, 256.3597613859023, 4.1836706920944255, 7.112456226882043, 223.33569322717736, 221.92689458044768, 61.077310343037155, 123.35532959530504, 15.345498148805147, 279.34701363674935, 73.87538489806097, 246.87255211332416, 93.49685520236771, 231.46121118782517, 159.9112307455855, 498.1251756079781, 502.15987120860837, 132.34563957243915, 95.44357967972077, 170.7318925278903, 236.50047282714553, 264.7154193487204, 569.8992431754297, 173.4834745801435, 126.95838759334492, 129.1493294237403, 355.8742231059149, 94.81715386838209, 118.63046607518184, 211.80492622145533, 131.69013446847774, 177.41483527973102, 413.268398219924, 184.47649774679982, 302.8613224963397, 161.45871851981423, 281.6913134951539, 380.79032894849627, 235.50071794064107, 295.3122616211634, 261.43509707838666, 222.42378733614783, 243.02471355796553, 5.948538641409081, 2.279517610069634, 3.013453277975872, 4.598580844614721, 1.556082090506437, 1.5570284481956698, 1.5576008920889663, 1.556997020386553, 1.5581829206963693, 1.5520828436954475, 1.5583945777237673, 1.5570212957460228, 1.5583732632472174, 1.5521614893052935, 1.5582327973641652, 1.558264930648748, 1.5522822979372668, 1.5594714074931617, 1.5602034939470515, 1.558910369296831, 1.5597571099550072, 1.5608013753292336, 1.5528870338067815, 1.5533216499918403, 1.562548664659018, 1.5535047136280973, 2.3135360801157, 1.553348289898331, 1.5579939885077878, 1.5568366036254009, 12.00544826477321, 3.2308859603597884, 6.166704855444528, 67.02649521556118, 2.353171899476405, 35.959422610885625, 3.1798508192267256, 302.8613224963397, 5.544726901899077, 120.46494925619005, 19.695975056035724, 71.76026083638556, 33.900335854234456, 3.906760266079668, 189.1931178589473, 5.551484850662583, 5.315545750222677, 95.72337141653111, 69.50474327822067, 132.34563957243915, 569.8992431754297, 122.31355188120023, 355.8742231059149, 8.142693791876585, 20.09102355013718, 17.638502355201947, 413.268398219924, 279.34701363674935, 181.90466085150786, 502.15987120860837, 96.39891688776632, 117.13167823518009, 114.9402088842494, 191.71105441884666, 120.20431227983646, 132.2946780592161, 163.18646389131737, 264.7154193487204, 126.1518511399091, 243.02471355796553, 132.95670332179697, 143.1222809869595, 170.7318925278903, 144.59634474641894, 380.79032894849627, 236.50047282714553, 223.33569322717736, 181.65037344388722, 231.46121118782517, 261.43509707838666, 222.42378733614783, 235.50071794064107, 4.338039739340607, 1.466729884953926, 1.4658725976779547, 1.4665075649119383, 1.4697670595122065, 1.4682598676088519, 1.4677818624060048, 1.469965107157155, 1.4685852324119582, 1.4705751527000648, 3.0080041190713045, 2.2300529458254488, 2.928695068455259, 1.475998749937446, 2.950101604504355, 1.4773358871462912, 1.5372254363048201, 1.5404867538750806, 1.4777007923787289, 1.540661759304231, 1.5399043762285358, 1.4890680861297279, 1.544578647803616, 1.5504735114383652, 3.0899335363360843, 1.4805323270604582, 1.5469344572314152, 1.4937157513861092, 6.041572665348449, 1.5557882648562829, 3.020600350155375, 5.853065968166102, 4.591178942545795, 2.984822417685458, 3.7764447691309355, 5.998179423527283, 3.685638902862812, 94.89688879089739, 3.715289609465956, 131.697656636278, 8.834886873428374, 35.145640020682286, 6.241923954604278, 7.185110565674025, 126.95838759334492, 211.80492622145533, 28.954405461541633, 12.38104454178292, 120.20431227983646, 103.95892422143004, 222.42378733614783, 264.7154193487204, 92.30545762007293, 62.31612532554595, 20.905993188348447, 380.79032894849627, 155.7732709899551, 39.40565251964734, 256.3597613859023, 132.2946780592161, 569.8992431754297, 184.47649774679982, 177.41483527973102, 502.15987120860837, 163.89321673344867, 178.05616480967913, 173.4834745801435, 161.45871851981423, 149.7665267833204, 56.5229655250791, 235.50071794064107, 243.02471355796553, 281.6913134951539, 413.268398219924, 498.1251756079781, 170.7318925278903, 209.1256351968235, 279.34701363674935, 261.43509707838666, 189.1931178589473, 302.8613224963397], \"Category\": [\"Default\", \"Default\", \"Default\", \"Default\", \"Default\", \"Default\", \"Default\", \"Default\", \"Default\", \"Default\", \"Default\", \"Default\", \"Default\", \"Default\", \"Default\", \"Default\", \"Default\", \"Default\", \"Default\", \"Default\", \"Default\", \"Default\", \"Default\", \"Default\", \"Default\", \"Default\", \"Default\", \"Default\", \"Default\", \"Default\", \"Topic1\", \"Topic1\", \"Topic1\", \"Topic1\", \"Topic1\", \"Topic1\", \"Topic1\", \"Topic1\", \"Topic1\", \"Topic1\", \"Topic1\", \"Topic1\", \"Topic1\", \"Topic1\", \"Topic1\", \"Topic1\", \"Topic1\", \"Topic1\", \"Topic1\", \"Topic1\", \"Topic1\", \"Topic1\", \"Topic1\", \"Topic1\", \"Topic1\", \"Topic1\", \"Topic1\", \"Topic1\", \"Topic1\", \"Topic1\", \"Topic1\", \"Topic1\", \"Topic1\", \"Topic1\", \"Topic1\", \"Topic1\", \"Topic1\", \"Topic1\", \"Topic1\", \"Topic1\", \"Topic1\", \"Topic1\", \"Topic1\", \"Topic1\", \"Topic1\", \"Topic1\", \"Topic1\", \"Topic1\", \"Topic1\", \"Topic1\", \"Topic1\", \"Topic1\", \"Topic1\", \"Topic1\", \"Topic1\", \"Topic1\", \"Topic1\", \"Topic1\", \"Topic1\", \"Topic1\", \"Topic1\", \"Topic1\", \"Topic1\", \"Topic1\", \"Topic1\", \"Topic1\", \"Topic1\", \"Topic1\", \"Topic1\", \"Topic1\", \"Topic1\", \"Topic1\", \"Topic1\", \"Topic1\", \"Topic1\", \"Topic1\", \"Topic1\", \"Topic1\", \"Topic1\", \"Topic1\", \"Topic1\", \"Topic1\", \"Topic1\", \"Topic1\", \"Topic1\", \"Topic1\", \"Topic1\", \"Topic2\", \"Topic2\", \"Topic2\", \"Topic2\", \"Topic2\", \"Topic2\", \"Topic2\", \"Topic2\", \"Topic2\", \"Topic2\", \"Topic2\", \"Topic2\", \"Topic2\", \"Topic2\", \"Topic2\", \"Topic2\", \"Topic2\", \"Topic2\", \"Topic2\", \"Topic2\", \"Topic2\", \"Topic2\", \"Topic2\", \"Topic2\", \"Topic2\", \"Topic2\", \"Topic2\", \"Topic2\", \"Topic2\", \"Topic2\", \"Topic2\", \"Topic2\", \"Topic2\", \"Topic2\", \"Topic2\", \"Topic2\", \"Topic2\", \"Topic2\", \"Topic2\", \"Topic2\", \"Topic2\", \"Topic2\", \"Topic2\", \"Topic2\", \"Topic2\", \"Topic2\", \"Topic2\", \"Topic2\", \"Topic2\", \"Topic2\", \"Topic2\", \"Topic2\", \"Topic2\", \"Topic2\", \"Topic2\", \"Topic2\", \"Topic2\", \"Topic2\", \"Topic2\", \"Topic2\", \"Topic2\", \"Topic2\", \"Topic2\", \"Topic2\", \"Topic2\", \"Topic2\", \"Topic2\", \"Topic2\", \"Topic2\", \"Topic2\", \"Topic2\", \"Topic2\", \"Topic2\", \"Topic2\", \"Topic2\", \"Topic2\", \"Topic2\", \"Topic2\", \"Topic2\", \"Topic2\", \"Topic2\", \"Topic2\", \"Topic2\", \"Topic2\", \"Topic3\", \"Topic3\", \"Topic3\", \"Topic3\", \"Topic3\", \"Topic3\", \"Topic3\", \"Topic3\", \"Topic3\", \"Topic3\", \"Topic3\", \"Topic3\", \"Topic3\", \"Topic3\", \"Topic3\", \"Topic3\", \"Topic3\", \"Topic3\", \"Topic3\", \"Topic3\", \"Topic3\", \"Topic3\", \"Topic3\", \"Topic3\", \"Topic3\", \"Topic3\", \"Topic3\", \"Topic3\", \"Topic3\", \"Topic3\", \"Topic3\", \"Topic3\", \"Topic3\", \"Topic3\", \"Topic3\", \"Topic3\", \"Topic3\", \"Topic3\", \"Topic3\", \"Topic3\", \"Topic3\", \"Topic3\", \"Topic3\", \"Topic3\", \"Topic3\", \"Topic3\", \"Topic3\", \"Topic3\", \"Topic3\", \"Topic3\", \"Topic3\", \"Topic3\", \"Topic3\", \"Topic3\", \"Topic3\", \"Topic3\", \"Topic3\", \"Topic3\", \"Topic3\", \"Topic3\", \"Topic3\", \"Topic3\", \"Topic3\", \"Topic3\", \"Topic3\", \"Topic3\", \"Topic3\", \"Topic3\", \"Topic3\", \"Topic3\", \"Topic3\", \"Topic3\", \"Topic3\", \"Topic3\", \"Topic3\", \"Topic3\", \"Topic3\", \"Topic3\", \"Topic3\", \"Topic3\", \"Topic3\", \"Topic3\", \"Topic3\", \"Topic3\", \"Topic3\", \"Topic3\", \"Topic3\", \"Topic3\", \"Topic3\", \"Topic3\", \"Topic3\", \"Topic3\", \"Topic3\", \"Topic3\", \"Topic3\", \"Topic3\", \"Topic3\", \"Topic3\", \"Topic4\", \"Topic4\", \"Topic4\", \"Topic4\", \"Topic4\", \"Topic4\", \"Topic4\", \"Topic4\", \"Topic4\", \"Topic4\", \"Topic4\", \"Topic4\", \"Topic4\", \"Topic4\", \"Topic4\", \"Topic4\", \"Topic4\", \"Topic4\", \"Topic4\", \"Topic4\", \"Topic4\", \"Topic4\", \"Topic4\", \"Topic4\", \"Topic4\", \"Topic4\", \"Topic4\", \"Topic4\", \"Topic4\", \"Topic4\", \"Topic4\", \"Topic4\", \"Topic4\", \"Topic4\", \"Topic4\", \"Topic4\", \"Topic4\", \"Topic4\", \"Topic4\", \"Topic4\", \"Topic4\", \"Topic4\", \"Topic4\", \"Topic4\", \"Topic4\", \"Topic4\", \"Topic4\", \"Topic4\", \"Topic4\", \"Topic4\", \"Topic4\", \"Topic4\", \"Topic4\", \"Topic4\", \"Topic4\", \"Topic4\", \"Topic4\", \"Topic4\", \"Topic4\", \"Topic4\", \"Topic4\", \"Topic4\", \"Topic4\", \"Topic4\", \"Topic4\", \"Topic4\", \"Topic4\", \"Topic4\", \"Topic4\", \"Topic4\", \"Topic4\", \"Topic4\", \"Topic4\", \"Topic4\", \"Topic4\", \"Topic4\", \"Topic4\", \"Topic4\", \"Topic4\", \"Topic4\", \"Topic4\", \"Topic4\", \"Topic4\", \"Topic4\", \"Topic4\", \"Topic4\", \"Topic4\", \"Topic4\", \"Topic4\", \"Topic5\", \"Topic5\", \"Topic5\", \"Topic5\", \"Topic5\", \"Topic5\", \"Topic5\", \"Topic5\", \"Topic5\", \"Topic5\", \"Topic5\", \"Topic5\", \"Topic5\", \"Topic5\", \"Topic5\", \"Topic5\", \"Topic5\", \"Topic5\", \"Topic5\", \"Topic5\", \"Topic5\", \"Topic5\", \"Topic5\", \"Topic5\", \"Topic5\", \"Topic5\", \"Topic5\", \"Topic5\", \"Topic5\", \"Topic5\", \"Topic5\", \"Topic5\", \"Topic5\", \"Topic5\", \"Topic5\", \"Topic5\", \"Topic5\", \"Topic5\", \"Topic5\", \"Topic5\", \"Topic5\", \"Topic5\", \"Topic5\", \"Topic5\", \"Topic5\", \"Topic5\", \"Topic5\", \"Topic5\", \"Topic5\", \"Topic5\", \"Topic5\", \"Topic5\", \"Topic5\", \"Topic5\", \"Topic5\", \"Topic5\", \"Topic5\", \"Topic5\", \"Topic5\", \"Topic5\", \"Topic5\", \"Topic5\", \"Topic5\", \"Topic5\", \"Topic5\", \"Topic5\", \"Topic5\", \"Topic5\", \"Topic5\", \"Topic5\", \"Topic5\", \"Topic5\", \"Topic5\", \"Topic5\", \"Topic5\", \"Topic5\", \"Topic5\", \"Topic5\", \"Topic5\", \"Topic6\", \"Topic6\", \"Topic6\", \"Topic6\", \"Topic6\", \"Topic6\", \"Topic6\", \"Topic6\", \"Topic6\", \"Topic6\", \"Topic6\", \"Topic6\", \"Topic6\", \"Topic6\", \"Topic6\", \"Topic6\", \"Topic6\", \"Topic6\", \"Topic6\", \"Topic6\", \"Topic6\", \"Topic6\", \"Topic6\", \"Topic6\", \"Topic6\", \"Topic6\", \"Topic6\", \"Topic6\", \"Topic6\", \"Topic6\", \"Topic6\", \"Topic6\", \"Topic6\", \"Topic6\", \"Topic6\", \"Topic6\", \"Topic6\", \"Topic6\", \"Topic6\", \"Topic6\", \"Topic6\", \"Topic6\", \"Topic6\", \"Topic6\", \"Topic6\", \"Topic6\", \"Topic6\", \"Topic6\", \"Topic6\", \"Topic6\", \"Topic6\", \"Topic6\", \"Topic6\", \"Topic6\", \"Topic6\", \"Topic6\", \"Topic6\", \"Topic6\", \"Topic6\", \"Topic6\", \"Topic6\", \"Topic6\", \"Topic6\", \"Topic6\", \"Topic6\", \"Topic6\", \"Topic6\", \"Topic6\", \"Topic6\", \"Topic6\", \"Topic6\", \"Topic6\", \"Topic6\", \"Topic6\", \"Topic6\", \"Topic6\", \"Topic6\", \"Topic6\", \"Topic6\", \"Topic6\", \"Topic6\", \"Topic6\", \"Topic7\", \"Topic7\", \"Topic7\", \"Topic7\", \"Topic7\", \"Topic7\", \"Topic7\", \"Topic7\", \"Topic7\", \"Topic7\", \"Topic7\", \"Topic7\", \"Topic7\", \"Topic7\", \"Topic7\", \"Topic7\", \"Topic7\", \"Topic7\", \"Topic7\", \"Topic7\", \"Topic7\", \"Topic7\", \"Topic7\", \"Topic7\", \"Topic7\", \"Topic7\", \"Topic7\", \"Topic7\", \"Topic7\", \"Topic7\", \"Topic7\", \"Topic7\", \"Topic7\", \"Topic7\", \"Topic7\", \"Topic7\", \"Topic7\", \"Topic7\", \"Topic7\", \"Topic7\", \"Topic7\", \"Topic7\", \"Topic7\", \"Topic7\", \"Topic7\", \"Topic7\", \"Topic7\", \"Topic7\", \"Topic7\", \"Topic7\", \"Topic7\", \"Topic7\", \"Topic7\", \"Topic7\", \"Topic7\", \"Topic7\", \"Topic7\", \"Topic7\", \"Topic7\", \"Topic7\", \"Topic7\", \"Topic7\", \"Topic7\", \"Topic7\", \"Topic7\", \"Topic7\", \"Topic7\", \"Topic7\", \"Topic7\", \"Topic7\", \"Topic7\", \"Topic7\", \"Topic7\", \"Topic7\", \"Topic7\", \"Topic7\", \"Topic7\", \"Topic7\", \"Topic7\", \"Topic7\", \"Topic7\"], \"logprob\": [30.0, 29.0, 28.0, 27.0, 26.0, 25.0, 24.0, 23.0, 22.0, 21.0, 20.0, 19.0, 18.0, 17.0, 16.0, 15.0, 14.0, 13.0, 12.0, 11.0, 10.0, 9.0, 8.0, 7.0, 6.0, 5.0, 4.0, 3.0, 2.0, 1.0, -9.2273, -9.2528, -8.7442, -9.0606, -9.3778, -9.4172, -9.8452, -9.8645, -9.4583, -9.8695, -9.8697, -9.8737, -9.4679, -9.4719, -9.887, -9.1636, -8.9679, -9.8854, -9.8904, -9.8911, -9.4867, -9.1935, -9.4909, -9.895, -9.8897, -9.8958, -9.9017, -9.9033, -9.9075, -9.903, -8.405, -8.4016, -8.9815, -4.4788, -8.9841, -8.6923, -9.4931, -9.2385, -6.2422, -8.1199, -7.3645, -5.828, -5.6114, -5.7162, -7.6334, -8.0435, -7.0328, -7.0805, -8.3969, -7.8532, -6.7487, -5.4081, -6.4645, -7.5817, -5.919, -6.4764, -6.0851, -6.6702, -5.7102, -6.6832, -7.594, -5.7121, -5.8689, -6.1667, -5.803, -5.7249, -6.337, -7.0629, -6.2928, -5.8133, -5.3304, -5.697, -5.0832, -5.4453, -6.253, -5.8334, -5.2937, -6.1502, -5.7923, -5.9518, -5.9058, -6.1372, -5.9331, -5.995, -5.9617, -5.9967, -5.9748, -9.2662, -9.0661, -9.3501, -9.37, -9.3938, -9.4223, -9.3927, -7.945, -9.1457, -8.3304, -9.845, -9.8479, -9.8495, -9.8533, -9.8573, -9.8591, -9.8613, -9.8616, -9.8647, -9.865, -9.8654, -9.8602, -9.8757, -9.8737, -9.8788, -9.8837, -9.8817, -8.6183, -9.8859, -9.8863, -9.4627, -8.2084, -9.2055, -8.8304, -8.683, -9.2356, -8.9802, -8.4071, -9.0039, -9.2147, -4.9888, -8.7198, -8.53, -5.8489, -6.4894, -4.7996, -6.363, -6.062, -7.4786, -5.8662, -6.6929, -7.68, -5.3338, -5.212, -5.9385, -5.964, -5.9558, -6.2814, -6.7958, -6.3015, -5.7782, -7.7857, -5.7434, -5.6369, -6.2843, -6.3777, -5.7187, -5.283, -5.8275, -5.8792, -6.0782, -6.0881, -6.1196, -6.406, -5.8809, -6.0114, -5.8844, -6.0027, -5.7025, -6.1929, -6.1756, -6.1765, -6.1787, -6.2585, -9.053, -8.7885, -8.2536, -9.2274, -9.2153, -9.2193, -9.2321, -9.2373, -9.2439, -9.6809, -9.681, -9.6812, -9.6812, -9.6813, -9.6813, -9.6813, -9.6814, -9.6814, -9.6815, -9.6816, -9.6816, -9.6816, -9.6817, -9.6817, -9.6817, -9.6817, -9.6817, -9.6817, -9.6819, -9.6819, -8.5659, -8.2901, -9.3059, -4.7129, -9.0044, -9.3016, -7.6957, -9.3146, -9.0289, -8.3764, -8.8394, -8.8554, -9.2907, -9.0608, -9.3277, -8.2512, -9.3478, -9.3043, -8.3448, -9.3402, -6.6535, -8.0588, -8.1626, -7.9281, -6.0921, -6.3801, -6.3377, -5.0609, -5.3859, -5.964, -6.304, -6.0183, -6.2734, -7.2856, -6.0191, -6.9364, -6.9162, -7.2981, -7.2365, -6.6103, -5.545, -5.9266, -6.14, -6.5363, -6.4366, -6.7336, -6.0847, -6.5035, -6.2044, -6.4066, -6.6635, -6.3355, -6.1546, -6.3371, -6.0048, -6.3356, -6.1108, -6.5244, -6.1998, -5.76, -5.875, -6.004, -6.1779, -6.2189, -6.271, -6.3696, -6.3059, -6.3322, -8.8544, -9.5526, -9.5527, -9.5532, -9.5551, -9.5575, -9.1492, -9.5586, -9.5608, -9.5624, -9.5628, -9.1877, -8.8772, -9.1888, -9.6078, -9.2196, -9.6144, -9.6166, -9.6206, -9.6191, -9.612, -9.6117, -9.6142, -9.6164, -9.6269, -9.6373, -9.6286, -9.6238, -9.246, -9.627, -6.0596, -8.7603, -9.2476, -6.573, -8.9977, -8.1845, -8.5382, -8.2622, -9.0282, -7.8772, -7.8725, -9.2867, -9.0469, -7.1997, -5.508, -5.9464, -6.2492, -6.3832, -6.4769, -6.4255, -5.9818, -7.8942, -7.4391, -8.1746, -6.8615, -7.2111, -6.1612, -6.4039, -6.1353, -7.5436, -6.2864, -6.5055, -6.3673, -6.3333, -6.0999, -7.4295, -6.0212, -5.9085, -6.4379, -5.4668, -6.4921, -5.4032, -6.5777, -6.244, -5.9188, -6.0447, -5.8901, -6.0874, -6.0571, -5.8586, -5.9928, -6.1539, -6.067, -5.9111, -6.2575, -6.2576, -6.121, -6.1667, -6.355, -9.0513, -9.0714, -8.1681, -8.6517, -9.1516, -9.1694, -9.1615, -8.8972, -8.6851, -8.9374, -9.6653, -9.6674, -9.6681, -9.6696, -9.6735, -9.259, -9.6836, -9.2842, -9.6883, -9.6901, -9.7182, -9.7194, -9.7291, -9.7317, -9.7335, -9.7389, -9.7421, -9.7437, -9.313, -9.7572, -9.0284, -6.6938, -8.4296, -7.3483, -8.7273, -8.6104, -9.3588, -5.3944, -8.894, -8.4567, -5.6868, -5.6992, -6.7388, -6.2136, -7.8676, -5.6238, -6.6616, -5.7295, -6.4853, -5.8106, -6.0968, -5.2498, -5.253, -6.2563, -6.5048, -6.0868, -5.8711, -5.792, -5.2515, -6.0997, -6.3261, -6.3232, -5.6318, -6.5781, -6.4358, -6.0693, -6.3847, -6.2267, -5.7653, -6.2095, -5.9592, -6.2845, -6.0218, -5.9129, -6.1322, -6.0407, -6.1067, -6.2455, -6.2749, -7.6565, -8.8668, -8.6214, -8.2368, -9.4645, -9.4703, -9.4703, -9.4718, -9.4747, -9.4796, -9.4767, -9.4785, -9.4787, -9.4848, -9.4834, -9.4862, -9.4901, -9.488, -9.497, -9.4979, -9.5007, -9.5046, -9.5117, -9.5185, -9.515, -9.5259, -9.1283, -9.5275, -9.5394, -9.5428, -7.5035, -8.8132, -8.2217, -6.2107, -9.1617, -6.8444, -8.9152, -5.1526, -8.4592, -5.9873, -7.4461, -6.4411, -7.0488, -8.7582, -5.7321, -8.4915, -8.528, -6.305, -6.56, -6.1259, -5.0568, -6.205, -5.4155, -8.2423, -7.6057, -7.7078, -5.4395, -5.7468, -6.0614, -5.3975, -6.5499, -6.428, -6.4515, -6.1194, -6.4352, -6.3781, -6.2838, -5.9961, -6.439, -6.0768, -6.4134, -6.3743, -6.2823, -6.3716, -6.1093, -6.264, -6.2956, -6.3475, -6.3524, -6.3631, -6.3802, -6.3878, -8.2003, -9.3229, -9.3267, -9.3359, -9.3394, -9.3432, -9.3438, -9.343, -9.3533, -9.3712, -8.6573, -8.9813, -8.7393, -9.4524, -8.7696, -9.4718, -9.4356, -9.4356, -9.4776, -9.4366, -9.4429, -9.4802, -9.4461, -9.4611, -8.7717, -9.51, -9.4668, -9.5043, -8.1118, -9.4719, -8.8133, -8.2017, -8.4344, -8.8558, -8.6576, -8.2663, -8.6941, -5.9257, -8.6907, -5.8447, -8.0326, -6.9707, -8.3393, -8.2337, -6.0637, -5.8179, -7.2309, -7.8447, -6.2554, -6.3704, -5.8464, -5.7286, -6.4576, -6.7301, -7.4903, -5.5511, -6.1818, -7.1138, -5.8889, -6.3377, -5.398, -6.1367, -6.1684, -5.5159, -6.2346, -6.2001, -6.2163, -6.268, -6.3258, -6.9053, -6.0948, -6.0996, -6.0351, -5.84, -5.7706, -6.3398, -6.2428, -6.1283, -6.2274, -6.3128, -6.261], \"loglift\": [30.0, 29.0, 28.0, 27.0, 26.0, 25.0, 24.0, 23.0, 22.0, 21.0, 20.0, 19.0, 18.0, 17.0, 16.0, 15.0, 14.0, 13.0, 12.0, 11.0, 10.0, 9.0, 8.0, 7.0, 6.0, 5.0, 4.0, 3.0, 2.0, 1.0, 1.1875, 1.1655, 1.1622, 1.0849, 1.0634, 1.0415, 1.0167, 1.0031, 1.0017, 0.9994, 0.9994, 0.9963, 0.9949, 0.9909, 0.9858, 0.9853, 0.9839, 0.9834, 0.9831, 0.9827, 0.9826, 0.9824, 0.9797, 0.9796, 0.9795, 0.9757, 0.9748, 0.9703, 0.9697, 0.9695, 0.956, 0.952, 0.9537, 0.8232, 0.9528, 0.9317, 0.9631, 0.9491, 0.7827, 0.8889, 0.8378, 0.7348, 0.7025, 0.6548, 0.7888, 0.8287, 0.7176, 0.7209, 0.8604, 0.7974, 0.6527, 0.464, 0.6004, 0.7452, 0.4912, 0.5724, 0.4737, 0.5759, 0.3981, 0.5678, 0.7289, 0.3564, 0.3881, 0.4476, 0.367, 0.3221, 0.4527, 0.6189, 0.4214, 0.291, 0.1584, 0.2498, 0.0842, 0.1254, 0.3749, 0.2178, 0.0003, 0.3143, 0.142, 0.2055, 0.1139, 0.1937, -0.0527, 0.0091, -0.1368, -0.197, -0.3365, 1.2594, 1.1839, 1.1676, 1.1665, 1.1341, 1.1228, 1.1161, 1.1116, 1.11, 1.0994, 1.0963, 1.0939, 1.0923, 1.0888, 1.085, 1.085, 1.0824, 1.0814, 1.0787, 1.0786, 1.0783, 1.0757, 1.0733, 1.0705, 1.0705, 1.0664, 1.0652, 1.0645, 1.0644, 1.0643, 1.0609, 1.0396, 1.0544, 1.0339, 1.028, 1.0365, 1.0061, 0.9565, 1.0077, 1.0179, 0.5819, 0.959, 0.9184, 0.5797, 0.6458, 0.3679, 0.5713, 0.5086, 0.7299, 0.4447, 0.5872, 0.7578, 0.3046, 0.2768, 0.4236, 0.3928, 0.3786, 0.4344, 0.5205, 0.4011, 0.2688, 0.7525, 0.2034, 0.1627, 0.3386, 0.3611, 0.1618, 0.011, 0.1765, 0.172, 0.2313, 0.2073, 0.2094, 0.3156, 0.0533, 0.0992, -0.0123, 0.0171, -0.4004, -0.0229, -0.0714, -0.1079, -0.2123, -0.1012, 1.5823, 1.5612, 1.4918, 1.4021, 1.3995, 1.3985, 1.3762, 1.3648, 1.3532, 1.3522, 1.3522, 1.3521, 1.352, 1.352, 1.352, 1.352, 1.352, 1.352, 1.3519, 1.3519, 1.3519, 1.3518, 1.3518, 1.3518, 1.3518, 1.3518, 1.3518, 1.3518, 1.3518, 1.3517, 1.3465, 1.325, 1.3366, 1.112, 1.3097, 1.3271, 1.2051, 1.3264, 1.3028, 1.249, 1.2773, 1.2773, 1.317, 1.2915, 1.3125, 1.166, 1.3042, 1.2975, 1.1535, 1.3017, 0.8737, 1.0698, 1.068, 1.0038, 0.5404, 0.6036, 0.5876, 0.2331, 0.2525, 0.379, 0.4483, 0.3533, 0.4329, 0.7347, 0.2966, 0.6122, 0.551, 0.6914, 0.6582, 0.4006, -0.0562, 0.0932, 0.1891, 0.3292, 0.2612, 0.3834, 0.0259, 0.2408, 0.0525, 0.1426, 0.2983, 0.0782, -0.0463, 0.0731, -0.2052, 0.0372, -0.1641, 0.1914, -0.1313, -0.5925, -0.5729, -0.4333, -0.2436, -0.3468, -0.2669, -0.0128, -0.3396, -0.4518, 1.4796, 1.4637, 1.4634, 1.4631, 1.4613, 1.4586, 1.4579, 1.4575, 1.4559, 1.4544, 1.4542, 1.4336, 1.4279, 1.4194, 1.4049, 1.4011, 1.399, 1.397, 1.3929, 1.3928, 1.3923, 1.3916, 1.3891, 1.3863, 1.3862, 1.3847, 1.3818, 1.378, 1.375, 1.3737, 1.3412, 1.3613, 1.3643, 1.0526, 1.3142, 1.2092, 1.2315, 1.1852, 1.2969, 1.1034, 1.0916, 1.3331, 1.2829, 0.8683, 0.4583, 0.4717, 0.5237, 0.5603, 0.558, 0.5347, 0.3613, 0.9576, 0.8127, 1.0404, 0.6229, 0.7274, 0.388, 0.465, 0.3718, 0.8253, 0.3461, 0.4199, 0.3564, 0.3421, 0.2158, 0.7617, 0.1488, 0.0956, 0.3118, -0.1728, 0.3304, -0.2358, 0.3563, 0.1697, -0.0383, 0.0065, -0.0904, 0.0231, -0.0373, -0.2202, -0.1206, 0.0033, -0.1202, -0.4223, 0.077, 0.0125, -0.5503, -0.8646, 0.0178, 1.616, 1.5899, 1.5303, 1.5213, 1.5004, 1.4978, 1.4917, 1.483, 1.4763, 1.3979, 1.394, 1.3923, 1.3911, 1.3891, 1.3841, 1.3782, 1.3713, 1.3693, 1.3658, 1.3631, 1.3457, 1.3448, 1.3344, 1.3324, 1.3295, 1.3241, 1.3212, 1.3187, 1.3144, 1.3046, 1.2858, 1.0038, 1.1876, 1.0476, 1.2089, 1.1703, 1.2764, 0.572, 1.1877, 1.0944, 0.4174, 0.4114, 0.662, 0.4842, 0.9145, 0.2567, 0.5489, 0.2745, 0.4897, 0.2579, 0.3415, 0.0523, 0.041, 0.3712, 0.4496, 0.286, 0.1759, 0.1423, -0.0841, 0.2571, 0.3429, 0.3287, 0.0065, 0.3829, 0.3011, 0.0879, 0.2478, 0.1078, -0.2764, 0.0859, -0.1595, 0.1442, -0.1497, -0.3422, -0.081, -0.2158, -0.16, -0.1371, -0.2552, 2.0733, 1.8222, 1.7884, 1.7504, 1.6062, 1.5999, 1.5995, 1.5984, 1.5947, 1.5938, 1.5926, 1.5917, 1.5906, 1.5885, 1.586, 1.5832, 1.5831, 1.5805, 1.5711, 1.571, 1.5677, 1.5631, 1.5611, 1.554, 1.5516, 1.5465, 1.5458, 1.545, 1.5302, 1.5275, 1.524, 1.527, 1.472, 1.0971, 1.4955, 1.0861, 1.4409, 0.6471, 1.3409, 0.7343, 1.0864, 0.7985, 0.9407, 1.3921, 0.5381, 1.3074, 1.3142, 0.6465, 0.7115, 0.5016, 0.1107, 0.5014, 0.2229, 1.1735, 0.907, 0.935, 0.0493, 0.1337, 0.2481, -0.1035, 0.3945, 0.3217, 0.317, 0.1376, 0.2885, 0.2498, 0.1342, -0.0619, 0.2364, -0.057, 0.2095, 0.1749, 0.0905, 0.1674, -0.5386, -0.217, -0.1913, -0.0367, -0.2838, -0.4163, -0.2718, -0.3366, 1.8452, 1.807, 1.8038, 1.7941, 1.7884, 1.7856, 1.7854, 1.7847, 1.7753, 1.7561, 1.7543, 1.7296, 1.6991, 1.6712, 1.6615, 1.6508, 1.6473, 1.6452, 1.6448, 1.6441, 1.6383, 1.6346, 1.632, 1.6133, 1.6131, 1.6105, 1.6098, 1.6073, 1.6024, 1.5991, 1.5941, 1.5442, 1.5543, 1.5636, 1.5266, 1.4551, 1.5144, 1.0345, 1.5098, 0.7877, 1.3016, 0.9827, 1.3423, 1.3072, 0.6053, 0.3394, 0.9164, 1.1521, 0.4683, 0.4985, 0.262, 0.2056, 0.5302, 0.6506, 0.9826, 0.0196, 0.2827, 0.7252, 0.0774, 0.2902, -0.2305, 0.1587, 0.166, -0.2219, 0.1791, 0.1307, 0.1405, 0.1606, 0.178, 0.573, -0.0435, -0.0798, -0.163, -0.3512, -0.4685, 0.033, -0.0728, -0.2478, -0.2806, -0.0427, -0.4613]}, \"token.table\": {\"Topic\": [5, 5, 1, 2, 5, 7, 1, 2, 3, 4, 5, 6, 1, 4, 5, 3, 3, 5, 7, 1, 2, 3, 4, 5, 6, 7, 1, 2, 3, 4, 5, 6, 7, 3, 4, 1, 1, 2, 3, 4, 5, 6, 7, 1, 2, 3, 4, 5, 6, 7, 4, 3, 4, 3, 1, 5, 3, 1, 2, 3, 4, 5, 6, 7, 1, 2, 3, 4, 5, 6, 7, 3, 2, 3, 5, 2, 4, 7, 5, 2, 3, 1, 5, 1, 2, 3, 4, 5, 6, 7, 6, 7, 2, 4, 5, 6, 7, 4, 3, 2, 1, 2, 3, 4, 5, 6, 7, 1, 2, 3, 4, 5, 6, 7, 4, 5, 4, 3, 2, 3, 6, 7, 1, 2, 3, 4, 5, 6, 7, 1, 2, 4, 6, 1, 2, 3, 4, 5, 6, 7, 1, 2, 3, 4, 5, 6, 7, 3, 5, 6, 2, 6, 1, 2, 3, 4, 1, 2, 3, 4, 5, 6, 7, 1, 2, 3, 4, 5, 7, 2, 2, 7, 1, 2, 3, 4, 5, 6, 7, 3, 5, 1, 2, 3, 4, 5, 6, 7, 4, 3, 4, 1, 2, 3, 4, 5, 6, 1, 2, 3, 4, 5, 6, 7, 7, 6, 7, 1, 2, 4, 6, 1, 2, 3, 4, 5, 6, 7, 2, 1, 2, 1, 2, 5, 6, 5, 2, 1, 2, 3, 4, 5, 6, 7, 1, 5, 6, 1, 2, 6, 7, 6, 1, 1, 2, 3, 4, 5, 6, 7, 1, 2, 3, 4, 5, 6, 7, 3, 1, 2, 2, 6, 4, 1, 7, 1, 2, 3, 1, 2, 3, 4, 5, 6, 7, 1, 2, 3, 4, 5, 6, 7, 5, 1, 2, 4, 5, 3, 1, 2, 3, 4, 5, 6, 7, 7, 1, 2, 3, 6, 6, 1, 2, 3, 4, 5, 6, 7, 1, 2, 3, 4, 5, 6, 7, 5, 1, 7, 1, 5, 2, 2, 4, 1, 2, 3, 4, 5, 6, 7, 1, 2, 3, 4, 5, 6, 7, 1, 5, 1, 2, 3, 4, 5, 6, 7, 4, 4, 3, 5, 5, 1, 2, 3, 4, 5, 6, 7, 1, 2, 3, 4, 5, 6, 7, 1, 2, 3, 4, 5, 6, 7, 6, 1, 2, 3, 4, 5, 6, 7, 4, 5, 1, 2, 3, 4, 5, 6, 7, 1, 2, 3, 4, 5, 6, 7, 1, 2, 3, 4, 5, 6, 7, 1, 2, 3, 4, 5, 6, 7, 6, 1, 2, 3, 4, 5, 6, 7, 1, 2, 3, 4, 5, 6, 7, 1, 2, 3, 4, 5, 6, 7, 1, 2, 3, 4, 5, 6, 7, 1, 2, 3, 4, 5, 6, 7, 5, 1, 2, 3, 4, 5, 6, 7, 1, 2, 3, 4, 5, 6, 7, 6, 6, 7, 2, 1, 2, 3, 4, 5, 6, 7, 1, 2, 3, 5, 6, 1, 1, 2, 3, 4, 5, 6, 7, 1, 2, 3, 4, 5, 6, 7, 1, 2, 3, 4, 5, 6, 7, 1, 2, 3, 4, 5, 6, 7, 1, 2, 3, 4, 5, 6, 7, 1, 2, 3, 4, 5, 6, 7, 3, 1, 2, 3, 4, 5, 6, 7, 4, 5, 7, 1, 2, 3, 4, 5, 6, 7, 3, 1, 2, 3, 4, 5, 6, 7, 2, 7, 1, 2, 3, 4, 5, 6, 7, 3, 6, 1, 1, 2, 3, 4, 5, 6, 7, 1, 2, 3, 4, 5, 6, 1, 2, 3, 4, 5, 6, 7, 1, 2, 3, 4, 5, 6, 7, 1, 2, 3, 4, 5, 6, 7, 1, 2, 3, 4, 5, 6, 7, 1, 2, 4, 2, 5, 1, 2, 3, 4, 5, 6, 7, 6, 1, 2, 3, 4, 5, 6, 7, 1, 2, 3, 4, 5, 6, 7, 4, 6, 4, 1, 3, 3, 1, 4, 5, 7, 3, 1, 2, 3, 5, 7, 7, 4, 3, 2, 4, 2, 7, 2, 4, 6, 6, 1, 2, 5, 6, 3, 1, 2, 3, 4, 5, 6, 7, 5, 1, 2, 3, 4, 5, 6, 5, 3, 5, 1, 2, 3, 4, 5, 6, 7, 1, 3, 4, 5, 1, 2, 3, 4, 6, 7, 1, 2, 3, 4, 5, 6, 7, 1, 2, 3, 4, 5, 6, 7, 4, 5, 1, 2, 3, 4, 5, 6, 7, 1, 2, 3, 4, 5, 6, 7, 1, 2, 3, 4, 5, 6, 7, 1, 2, 3, 5, 7, 4, 1, 2, 3, 4, 5, 6, 7, 5, 2, 1, 2, 3, 4, 5, 6, 7, 1, 2, 3, 4, 5, 6, 3, 1, 2, 3, 4, 5, 6, 7, 7, 1, 2, 3, 4, 5, 6, 1, 2, 3, 4, 5, 6, 7, 1, 2, 3, 4, 5, 6, 7, 1, 2, 3, 4, 5, 6, 7, 6, 1, 2, 3, 4, 5, 6, 7, 5, 1, 2, 3, 4, 5, 6, 7, 1, 2, 3, 4, 5, 6, 7, 1, 2, 3, 4, 5, 6, 7, 7, 1, 1, 2, 3, 4, 5, 6, 7, 5, 1, 2, 3, 4, 5, 6, 7, 3, 3, 7, 7, 6, 1, 2, 3, 4, 5, 6, 7, 1, 2, 3, 4, 5, 6, 7, 1, 2, 3, 4, 5, 6, 7, 1, 2, 5, 1, 2, 3, 4, 5, 6, 7, 6, 3, 1, 2, 3, 4, 5, 6, 7, 1, 2, 3, 4, 5, 6, 7, 4, 6, 1, 2, 3, 4, 5, 6, 7, 4, 1, 2, 3, 4, 5, 5, 1, 2, 3, 4, 5, 6, 7, 2, 5, 7, 1, 2, 3, 4, 5, 6, 7, 1, 2, 3, 4, 5, 6, 7, 4, 1, 2, 3, 4, 5, 6, 7, 6, 1, 2, 3, 4, 5, 6, 7, 1, 4, 3, 1, 2, 3, 4, 5, 6, 7, 1, 2, 3, 4, 5, 6, 7, 1, 1, 2, 3, 4, 5, 6, 7, 6, 1, 2, 3, 1, 1, 2, 3, 4, 5, 6, 7, 1, 2, 3, 5, 1, 5, 7, 1, 2, 3, 4, 5, 6, 7, 1, 2, 3, 4, 5, 7, 1, 2, 3, 4, 5, 6, 7, 2, 1, 2, 3, 4, 5, 6, 7, 1, 1, 5, 6, 1, 2, 3, 4, 5, 6, 7, 1, 2, 3, 4, 5, 6, 7, 3, 5, 3, 1, 2, 3, 4, 5, 6, 7, 1, 2, 3, 4, 5, 6, 7, 5, 6, 4, 7, 1, 3, 2, 3, 7, 4, 1, 2, 3, 5, 6, 7, 3, 2, 1, 2, 3, 4, 5, 6, 6, 1, 2, 3, 4, 5, 5, 1, 2, 3, 4, 5, 6, 7, 3, 3, 6, 2, 2, 1, 2, 3, 4, 5, 6, 7, 1, 2, 3, 4, 5, 6, 3, 4, 5, 7, 3, 1, 2, 3, 4, 5, 6, 7, 1, 2, 3, 1, 3, 1, 2, 3, 4, 5, 6, 7, 1, 2, 3, 4, 5, 6, 7, 7, 5, 1, 2, 5, 1, 2, 3, 4, 5, 6, 7, 3, 1, 2, 3, 4, 5, 6, 7, 1, 2, 3, 4, 5, 6, 7, 1, 2, 3, 4, 5, 6, 7, 2, 2, 1, 2, 3, 4, 5, 6, 1, 2, 3, 4, 5, 6, 7, 4, 4, 7, 3, 3, 4, 2, 5, 6, 1, 1, 1, 2, 3, 4, 5, 7, 1, 2, 3, 4, 5, 6, 7, 1, 3, 4, 5, 1, 2, 5, 3, 6, 2, 1, 2, 3, 4, 5, 6, 7, 1, 1, 1, 2, 1, 2, 3, 4, 5, 6, 7, 1, 2, 3, 4, 5, 6, 7, 2, 6, 1, 1, 3, 7, 4, 7, 3, 1, 2, 3, 4, 5, 6, 7, 1, 2, 4, 5, 1, 2, 3, 4, 5, 6, 7, 7, 4, 7, 1, 2, 3, 4, 5, 6, 7, 1, 2, 3, 4, 5, 6, 7, 4, 4, 7, 1, 3, 1, 2, 3, 4, 5, 6, 7, 4, 1, 2, 3, 4, 5, 6, 1, 2, 3, 4, 5, 6, 7, 7, 1, 2, 3, 4, 5, 6, 7, 1, 2, 3, 4, 5, 6, 7, 1, 2, 3, 4, 5, 6, 7, 1, 2, 3, 4, 5, 6, 7, 1, 2, 3, 4, 5, 6, 7, 2, 1, 2, 3, 4, 5, 6, 7, 1, 2, 3, 4, 5, 6, 7, 1, 2, 3, 4, 5, 6, 7, 2, 1, 2, 3, 4, 5, 6, 7, 3, 1, 2, 6, 3, 6, 1, 3, 6, 1, 2, 3, 4, 5, 6, 7, 7, 7, 4, 2, 1, 2, 3, 4, 5, 6, 7, 3, 4, 7, 1, 2, 3, 4, 5, 6, 7, 1, 2, 4, 6, 7, 1, 2, 3, 4, 5, 6, 7, 1, 2, 3, 4, 5, 6, 7, 5, 1, 4, 1, 2, 3, 4, 5, 6, 7, 1, 3, 1, 2, 3, 4, 5, 6, 7, 1, 2, 3, 4, 5, 6, 7, 1, 2, 3, 4, 5, 6, 7, 1, 2, 3, 4, 5, 6, 7, 6, 1, 2, 3, 4, 5, 7, 1, 2, 3, 4, 5, 6, 7, 1, 2, 3, 4, 5, 6, 7, 4, 5, 4, 5, 1, 2, 7, 1, 2, 3, 4, 5, 6, 7, 3, 1, 2, 4, 5, 7, 7, 5, 1, 1, 1, 1, 5, 1, 2, 1, 2, 3, 4, 5, 6, 7, 1], \"Freq\": [0.6377005533023913, 0.6380492995771075, 0.10383855207911434, 0.5191927603955717, 0.10383855207911434, 0.10383855207911434, 0.1803515335728255, 0.1803515335728255, 0.1803515335728255, 0.1803515335728255, 0.1803515335728255, 0.360703067145651, 0.5253676884883169, 0.4042069431657022, 0.4234106287656227, 0.40733093342545557, 0.2691580213429828, 0.2691580213429828, 0.2691580213429828, 0.2176766399717795, 0.34828262395484716, 0.1306059839830677, 0.08707065598871179, 0.07255887999059317, 0.08707065598871179, 0.07255887999059317, 0.22563736352119518, 0.27076483622543424, 0.09777619085918457, 0.06769120905635856, 0.1429036635634236, 0.1203399272113041, 0.07521245450706505, 0.6189131248773485, 0.6087900966101601, 0.6997999448040927, 0.23530203184248782, 0.19251984423476276, 0.12834656282317516, 0.09625992211738138, 0.2139109380386253, 0.08556437521545011, 0.04278218760772506, 0.25228761619541884, 0.1401597867752327, 0.11212782942018616, 0.2803195735504654, 0.08409587206513962, 0.1401597867752327, 0.05606391471009308, 0.6084847300804754, 0.30090964817505433, 0.6018192963501087, 0.4227634163456808, 0.301575020175938, 0.603150040351876, 0.6191584683058967, 0.33060667253761405, 0.18270368745499724, 0.11310228271023638, 0.09570193152404617, 0.09570193152404617, 0.1392028094895217, 0.04350087796547553, 0.22988168416044455, 0.13475822864577783, 0.11890431939333339, 0.1823199564031112, 0.13475822864577783, 0.1268312740195556, 0.07134259163600003, 0.40446807954152786, 0.20178636421723628, 0.6053590926517088, 0.20178636421723628, 0.16020701425917924, 0.16020701425917924, 0.3204140285183585, 0.6376700854765052, 0.5615507949531039, 0.6191340853354341, 0.5314678778969859, 0.26573393894849295, 0.1870375946568463, 0.1438750728129587, 0.20142510193814217, 0.11510005825036695, 0.10071255096907109, 0.20142510193814217, 0.04316252184388761, 0.4386893067123321, 0.6768941367366759, 0.16671725358491213, 0.16671725358491213, 0.16671725358491213, 0.16671725358491213, 0.33343450716982426, 0.4099999998647343, 0.4020631242205455, 0.5648831398331574, 0.2393512774814582, 0.29712572377008606, 0.17332333886588353, 0.04126746163473417, 0.1650698465389367, 0.03301396930778734, 0.049520953961681005, 0.17625618781607225, 0.11016011738504516, 0.1321921408620542, 0.08812809390803612, 0.3525123756321445, 0.08812809390803612, 0.0660960704310271, 0.606616470765746, 0.637839137451562, 0.40463991445252484, 0.4047018525466868, 0.1881274373300443, 0.1881274373300443, 0.3762548746600886, 0.1881274373300443, 0.1328187169694744, 0.2656374339389488, 0.10791520753769794, 0.10791520753769794, 0.15772222640125083, 0.2075292452648037, 0.024903509431776445, 0.2535119971311793, 0.12675599856558964, 0.38026799569676895, 0.641851000309557, 0.3145597424294937, 0.1476504913444562, 0.10913297186329372, 0.13481131818406872, 0.12197214502368123, 0.07703503896232498, 0.10271338528309998, 0.4029975750718391, 0.19574167932060754, 0.08059951501436781, 0.03454264929187192, 0.13817059716748767, 0.08059951501436781, 0.05757108215311987, 0.16216115793463165, 0.16216115793463165, 0.486483473803895, 0.5698750937502893, 0.6416860109078579, 0.1597562813426395, 0.47926884402791853, 0.1597562813426395, 0.1597562813426395, 0.23916586765113143, 0.09566634706045257, 0.14349952059067886, 0.14349952059067886, 0.09566634706045257, 0.09566634706045257, 0.19133269412090514, 0.19647230587926515, 0.016372692156605428, 0.016372692156605428, 0.49118076469816285, 0.24559038234908143, 0.016372692156605428, 0.5659433523244517, 0.5651914884065125, 0.6809274517609247, 0.17071818855679274, 0.17071818855679274, 0.1138121257045285, 0.1138121257045285, 0.1138121257045285, 0.1138121257045285, 0.19917121998292486, 0.49506856929147014, 0.4165409678582713, 0.0885727757319629, 0.1771455514639258, 0.13285916359794436, 0.0885727757319629, 0.3542911029278516, 0.0885727757319629, 0.04428638786598145, 0.6063971668468352, 0.6266058126094594, 0.6007074023504592, 0.23842582659431205, 0.07947527553143735, 0.07947527553143735, 0.39737637765718675, 0.1589505510628747, 0.07947527553143735, 0.275194066166567, 0.16848616295912267, 0.12355651950335662, 0.12355651950335662, 0.12917272493532736, 0.08424308147956133, 0.08424308147956133, 0.6464397992593193, 0.6437058035469829, 0.6427609865616102, 0.6203685839938147, 0.20678952799793823, 0.20678952799793823, 0.6420129861757182, 0.5142606742651422, 0.1714202247550474, 0.05714007491834913, 0.05714007491834913, 0.11428014983669826, 0.05714007491834913, 0.05714007491834913, 0.7327576260714153, 0.5112526006874787, 0.25562630034373934, 0.30040724678894226, 0.15020362339447113, 0.4506108701834134, 0.15020362339447113, 0.6319943444471241, 0.5658138814408753, 0.2661708479859683, 0.2540721730775152, 0.1379248939563654, 0.08469072435917173, 0.09678939926762484, 0.10646833919438732, 0.05323416959719366, 0.25596656356994074, 0.25596656356994074, 0.5119331271398815, 0.18013198754935764, 0.18013198754935764, 0.3602639750987153, 0.18013198754935764, 0.644262859818519, 0.6670473218060016, 0.17571409509854335, 0.18742836810511293, 0.15228554908540426, 0.13471413957554992, 0.1698569585952586, 0.1112855935624108, 0.07614277454270213, 0.09289945959551552, 0.16721902727192792, 0.353017946462959, 0.13005924343372172, 0.14863913535282483, 0.09289945959551552, 0.03715978383820621, 0.6249765160997185, 0.5244567367186382, 0.5691568455231691, 0.566272372383462, 0.6442955052702212, 0.6003667460343377, 0.5215359091790475, 0.6800060494453068, 0.27797133310388156, 0.5559426662077631, 0.6192135293133219, 0.4423526493651422, 0.19660117749561873, 0.04915029437390468, 0.08191715728984114, 0.08191715728984114, 0.09830058874780936, 0.04915029437390468, 0.2611956507302802, 0.19305765488759843, 0.1362759916853636, 0.22712665280893934, 0.07949432848312876, 0.07949432848312876, 0.0340689979213409, 0.631474145995054, 0.5240541500149639, 0.20962166000598556, 0.10481083000299278, 0.10481083000299278, 0.6190194495326896, 0.16153725909397237, 0.16153725909397237, 0.08076862954698619, 0.08076862954698619, 0.16153725909397237, 0.16153725909397237, 0.24230588864095856, 0.6802882565926712, 0.12280948118147736, 0.12280948118147736, 0.24561896236295472, 0.36842844354443205, 0.6412429206428942, 0.13898705203583353, 0.11445992520598056, 0.2207441414686768, 0.14716276097911785, 0.14716276097911785, 0.1635141788656865, 0.05722996260299028, 0.14932041628011114, 0.09954694418674076, 0.14932041628011114, 0.09954694418674076, 0.09954694418674076, 0.2488673604668519, 0.09954694418674076, 0.41574576033409316, 0.3324463532678743, 0.3324463532678743, 0.5270910327258023, 0.6325728570386412, 0.5658915840695741, 0.5662125364042789, 0.6058676103224448, 0.4946823590083407, 0.17988449418485117, 0.056213904432765985, 0.06745668531931918, 0.15739893241174477, 0.03372834265965959, 0.022485561773106396, 0.4583470384310455, 0.16014535077711228, 0.0441780278005827, 0.10492281602638391, 0.12701182992667526, 0.04970028127565554, 0.04970028127565554, 0.5252124186375452, 0.2626062093187726, 0.19509405117576434, 0.16722347243636942, 0.15328818306667197, 0.09754702558788217, 0.12541760432727705, 0.22296462991515922, 0.055741157478789806, 0.597698572287393, 0.409728829392389, 0.16292547147871814, 0.6517018859148725, 0.8585470710211045, 0.1792924519079965, 0.20038568154423136, 0.1054661481811744, 0.13710599263552672, 0.18983906672611395, 0.12655937781740928, 0.06327968890870464, 0.26889918737735097, 0.18760408421675648, 0.1438297978995133, 0.09380204210837824, 0.1813506147428646, 0.06253469473891883, 0.06253469473891883, 0.3240283744093057, 0.1728151330182964, 0.1252909714382649, 0.07776680985823338, 0.16417437636738158, 0.07776680985823338, 0.056164918230946326, 0.6437706253666082, 0.12462341875112312, 0.19172833654018942, 0.2013147533671989, 0.15338266923215155, 0.1342098355781326, 0.1342098355781326, 0.05751850096205683, 0.4975014783108514, 0.2487507391554257, 0.26632527775399234, 0.19285623561495996, 0.11938719347592759, 0.18367260534758093, 0.07346904213903237, 0.08265267240641141, 0.09183630267379046, 0.23785220365970022, 0.18499615840198907, 0.07928406788656675, 0.1321401131442779, 0.12156890409273567, 0.17442494935044683, 0.07399846336079563, 0.2050036046548256, 0.14350252325837792, 0.08200144186193023, 0.36900648837868605, 0.041000720930965115, 0.06150108139644768, 0.1025018023274128, 0.11799293131487852, 0.1769893969723178, 0.29498232828719634, 0.05899646565743926, 0.05899646565743926, 0.2654840954584767, 0.05899646565743926, 0.642251973516435, 0.22584478727230278, 0.13345373793363347, 0.12318806578489243, 0.18478209867733864, 0.1745164265285976, 0.10265672148741035, 0.05132836074370518, 0.13286557804238053, 0.17082717176877496, 0.26573115608476106, 0.07592318745278888, 0.17082717176877496, 0.07592318745278888, 0.11388478117918331, 0.13527617328144548, 0.2818253610030114, 0.12963966606138524, 0.1409126805015057, 0.1409126805015057, 0.07891110108084319, 0.09018411552096366, 0.18253694299021317, 0.12169129532680878, 0.30422823831702195, 0.15211411915851097, 0.09126847149510658, 0.12169129532680878, 0.06084564766340439, 0.14436241264927732, 0.18045301581159665, 0.108271809486958, 0.28872482529855464, 0.108271809486958, 0.07218120632463866, 0.03609060316231933, 0.4228034988118044, 0.26411042498108184, 0.3212153817337482, 0.12134803309941597, 0.0999336743171661, 0.08565743512899951, 0.04996683715858305, 0.057104956752666344, 0.2414707392444874, 0.16098049282965826, 0.2683008213827638, 0.08049024641482913, 0.053660164276552756, 0.08049024641482913, 0.08049024641482913, 0.6416947874967244, 0.6422490232332166, 0.64939097221683, 0.5648877503725809, 0.27375943664179436, 0.19363472347834237, 0.14021824803604102, 0.12018706974517802, 0.10015589145431503, 0.08680177259373968, 0.09347883202402735, 0.11656536611483219, 0.46626146445932876, 0.11656536611483219, 0.11656536611483219, 0.11656536611483219, 0.684835125133992, 0.2456776571140594, 0.17548404079575672, 0.20473138092838283, 0.10529042447745403, 0.12868829658355493, 0.08774202039787836, 0.04094627618567657, 0.06106654902776729, 0.19337740525459643, 0.2646217124536583, 0.19337740525459643, 0.13231085622682914, 0.1017775817129455, 0.06106654902776729, 0.07669288319533032, 0.15338576639066065, 0.23007864958599095, 0.3067715327813213, 0.07669288319533032, 0.11503932479299547, 0.03834644159766516, 0.40874632131494604, 0.1409470073499814, 0.12685230661498326, 0.1409470073499814, 0.09866290514498698, 0.056378802939992555, 0.042284102204994414, 0.23088836532072132, 0.23088836532072132, 0.10936817304665747, 0.1417735576530745, 0.1701282691836894, 0.06481076921283406, 0.05265874998542767, 0.40675203182638014, 0.23844084624305045, 0.07012966065972072, 0.07012966065972072, 0.08415559279166486, 0.08415559279166486, 0.04207779639583243, 0.40219157302153036, 0.1381482346551013, 0.24175941064642725, 0.1381482346551013, 0.06907411732755064, 0.1381482346551013, 0.10361117599132597, 0.1726852933188766, 0.2713233787561913, 0.2713233787561913, 0.2713233787561913, 0.2551180869315661, 0.197510776979277, 0.16047750629566254, 0.12344423561204812, 0.0987553884896385, 0.09464058063590355, 0.06995173351349393, 0.6190869385689259, 0.19549707483647835, 0.13033138322431892, 0.13033138322431892, 0.06516569161215946, 0.3258284580607973, 0.13033138322431892, 0.06516569161215946, 0.23051886568286775, 0.4610377313657355, 0.2864900666932819, 0.14711652073438802, 0.07742974775494106, 0.14711652073438802, 0.17808841983636445, 0.08517272253043517, 0.07742974775494106, 0.4322387744867113, 0.4322387744867113, 0.6969354202942375, 0.47454240561458283, 0.19831622921206446, 0.09915811460603223, 0.063744502246735, 0.12040628202161056, 0.03541361235929723, 0.021248167415578337, 0.5109312868695441, 0.10948527575775946, 0.0729901838385063, 0.10948527575775946, 0.0729901838385063, 0.03649509191925315, 0.4337145253201735, 0.13011435759605205, 0.06505717879802603, 0.06505717879802603, 0.1734858101280694, 0.06505717879802603, 0.0867429050640347, 0.34607763098308264, 0.14007904111220013, 0.10711926673285892, 0.16479887189670603, 0.14007904111220013, 0.057679605163847104, 0.04119971797417651, 0.17771081809404288, 0.17771081809404288, 0.14094306262630987, 0.20835061431715374, 0.1164312256478212, 0.1164312256478212, 0.06740755169084385, 0.12762213060781283, 0.12762213060781283, 0.12762213060781283, 0.31905532651953206, 0.09571659795585961, 0.12762213060781283, 0.09571659795585961, 0.5813363330419906, 0.11626726660839812, 0.11626726660839812, 0.5783375180692353, 0.28916875903461764, 0.20200285985328686, 0.11543020563044963, 0.11543020563044963, 0.20200285985328686, 0.13466857323552456, 0.09619183802537469, 0.1250493894329871, 0.6442127191225713, 0.13855750960261248, 0.41567252880783745, 0.09237167306840832, 0.09237167306840832, 0.04618583653420416, 0.13855750960261248, 0.04618583653420416, 0.10154358920083578, 0.15231538380125367, 0.15231538380125367, 0.10154358920083578, 0.15231538380125367, 0.30463076760250735, 0.05077179460041789, 0.6086281627117308, 0.6422619869572593, 0.6068330422134657, 0.30157678349337286, 0.6031535669867457, 0.4133909337963407, 0.14059840484085198, 0.28119680968170396, 0.4217952145225559, 0.14059840484085198, 0.61917536414877, 0.5770045825189384, 0.11540091650378768, 0.11540091650378768, 0.11540091650378768, 0.6754327357278734, 0.6767269836745841, 0.6085760436188473, 0.6137704741349921, 0.7392989039142372, 0.606889577764113, 0.3236315565498405, 0.3236315565498405, 0.5688503070739804, 0.40938080826655865, 0.6409420334460146, 0.6406965138591457, 0.16039763038591637, 0.48119289115774916, 0.16039763038591637, 0.16039763038591637, 0.6189022205011508, 0.24027569923250713, 0.22982892970065902, 0.13580800391402578, 0.06268061719108882, 0.11491446485032951, 0.18804185157326647, 0.03134030859554441, 0.42923840564282656, 0.12298305495161739, 0.12298305495161739, 0.49193221980646956, 0.12298305495161739, 0.12298305495161739, 0.12298305495161739, 0.6373070199152298, 0.41306597346302043, 0.42327765391507877, 0.21478661689944314, 0.22910572469273935, 0.09307420065642535, 0.12529219319134183, 0.1646697396229064, 0.11455286234636967, 0.06085620812150889, 0.17495421346247886, 0.3499084269249577, 0.5248626403874366, 0.17495421346247886, 0.08329551533150441, 0.08329551533150441, 0.08329551533150441, 0.16659103066300882, 0.4997730919890265, 0.16659103066300882, 0.2728025837805259, 0.12837768648495337, 0.17651931891681089, 0.09628326486371502, 0.1123304756743342, 0.06418884324247669, 0.14442489729557254, 0.2974269817463542, 0.13996563846887256, 0.24493986732052697, 0.13996563846887256, 0.08747852404304535, 0.05248711442582721, 0.01749570480860907, 0.5997881662020947, 0.636951312065103, 0.20544465256898314, 0.13696310171265544, 0.2225650402830651, 0.1455232955696964, 0.13696310171265544, 0.09416213242745061, 0.05992135699928675, 0.17023990831117905, 0.21077321981384073, 0.18645323291224372, 0.09727994760638803, 0.21077321981384073, 0.07295996070479102, 0.048639973803194014, 0.18820494981061467, 0.22782704450758617, 0.11886628409091453, 0.11886628409091453, 0.10896076041667166, 0.1915067910353623, 0.046225777146466765, 0.22637528116122904, 0.22637528116122904, 0.11318764058061452, 0.11318764058061452, 0.22637528116122904, 0.615218462811244, 0.36209849261736204, 0.19169920197389753, 0.10294957143042646, 0.11359952709564299, 0.11004954187390414, 0.05324977832608265, 0.06389973399129918, 0.635308019615362, 0.7435950917481742, 0.23089018062206432, 0.2418849511278769, 0.12643986081684475, 0.0879581640465007, 0.11544509031103216, 0.12643986081684475, 0.06047123778196922, 0.5721780693778937, 0.08173972419684196, 0.16347944839368392, 0.08173972419684196, 0.08173972419684196, 0.08173972419684196, 0.6189860053372025, 0.1729271336800498, 0.2882118894667497, 0.14410594473337485, 0.10375628020802989, 0.1671628958907148, 0.04611390231467995, 0.0864635668400249, 0.6715609644144102, 0.2042428203871464, 0.4084856407742928, 0.0510607050967866, 0.1021214101935732, 0.1021214101935732, 0.1021214101935732, 0.21965521647274389, 0.21965521647274389, 0.15863987856364836, 0.1525383447727388, 0.07321840549091463, 0.07931993928182418, 0.09152300686364329, 0.16297892972916475, 0.2613282838760745, 0.18545878210560127, 0.10396931724101889, 0.12925915116450998, 0.1264491696174554, 0.03090979701760021, 0.22021391440633423, 0.13668449859703502, 0.25058824742789754, 0.08352941580929919, 0.16705883161859839, 0.08352941580929919, 0.06834224929851751, 0.6426396178588133, 0.46438293350666326, 0.1955296562133319, 0.048882414053332976, 0.07332362107999946, 0.12220603513333243, 0.048882414053332976, 0.024441207026666488, 0.634911610866301, 0.27855820472424614, 0.17468904364062893, 0.1038691610836172, 0.13219711410642188, 0.14163976511402346, 0.06137723154941016, 0.10859048658741798, 0.20086031338125646, 0.3640593180035273, 0.08787638710429971, 0.12553769586328528, 0.08787638710429971, 0.06276884793164264, 0.06276884793164264, 0.13600750321772204, 0.20401125482658305, 0.09822764121279925, 0.12089555841575293, 0.18889931002461394, 0.16623139282166027, 0.08311569641083014, 0.3389713759258842, 0.5252494504253912, 0.2578972469980813, 0.2410778613242934, 0.17380031862914175, 0.09530985215146483, 0.08409692836893956, 0.07288400458641428, 0.06727754269515164, 0.6443378580306052, 0.25393487806586595, 0.34683788223630474, 0.07432240333635101, 0.04335473527953809, 0.14864480667270202, 0.04335473527953809, 0.08670947055907618, 0.619151318056818, 0.6191211215514646, 0.6818921524349917, 0.4484198466551889, 0.6399800675764691, 0.5199496284922399, 0.130489289003844, 0.08230862844857852, 0.05420324312467366, 0.13450434405011613, 0.032120440370176986, 0.04818066055526548, 0.43846156738092795, 0.17538462695237117, 0.07600000501269417, 0.11692308463491412, 0.12861539309840553, 0.023384616926982824, 0.04676923385396565, 0.29452816726023945, 0.23715255026149148, 0.12240131626399561, 0.11475123399749589, 0.11092619286424601, 0.06502569926524766, 0.05737561699874794, 0.21727281806510426, 0.4345456361302085, 0.638379623733961, 0.2644349172111737, 0.20399265042004827, 0.11332925023336014, 0.08310811683779744, 0.1473280253033682, 0.09444104186113346, 0.09444104186113346, 0.3144801617590285, 0.4181293152887974, 0.30447439465410625, 0.17910258509065072, 0.08955129254532536, 0.08955129254532536, 0.19253527897244954, 0.08507372791805909, 0.05820834015446149, 0.19500472089188456, 0.11916955165615167, 0.14083674286636108, 0.13000314726125636, 0.18417112528677987, 0.09750236044594228, 0.13000314726125636, 0.1681085154324763, 0.8405425771623815, 0.2165980012771355, 0.12576658138672384, 0.16768877518229844, 0.18864987208008574, 0.12576658138672384, 0.1187795490874614, 0.05589625839409948, 0.6089730202192118, 0.12012251716330523, 0.12012251716330523, 0.12012251716330523, 0.4804900686532209, 0.12012251716330523, 0.6352489041554243, 0.27946784413116643, 0.06986696103279161, 0.06986696103279161, 0.34933480516395804, 0.06986696103279161, 0.06986696103279161, 0.06986696103279161, 0.5769123425697652, 0.19230411418992174, 0.6817887944182801, 0.19818291213764333, 0.3027794490991773, 0.1101016178542463, 0.11560669874695861, 0.12111177963967093, 0.09909145606882167, 0.060555889819835465, 0.229010732624285, 0.1951569721493907, 0.183208586099428, 0.10952687212465805, 0.13342364422458344, 0.091604293049714, 0.06173332792480726, 0.6069286159926347, 0.16411420535451463, 0.05967789285618714, 0.14919473214046783, 0.1044363124983275, 0.16411420535451463, 0.29838946428093566, 0.04475841964214035, 0.6437816662152704, 0.12931958505631772, 0.08621305670421182, 0.17242611340842365, 0.30174569846474136, 0.12931958505631772, 0.17242611340842365, 0.04310652835210591, 0.6049304807833167, 0.30246524039165834, 0.6190520143456537, 0.18342117808810351, 0.19421065915210958, 0.2697370266001522, 0.06473688638403653, 0.11868429170406697, 0.12947377276807306, 0.043157924256024355, 0.49603542587984334, 0.0826725709799739, 0.12400885646996083, 0.04133628548998695, 0.12400885646996083, 0.0826725709799739, 0.0826725709799739, 0.7043386982353326, 0.22247298257726314, 0.16685473693294736, 0.055618245644315785, 0.11123649128863157, 0.11123649128863157, 0.3059003510437368, 0.027809122822157892, 0.6417526326564001, 0.5272324101618387, 0.5695845496769948, 0.6192325390676982, 0.5276926999272344, 0.26326309596408204, 0.2462783800954316, 0.18683187455515501, 0.09341593727757751, 0.08492357934325227, 0.06793886347460182, 0.05944650554027659, 0.13337643820495834, 0.13337643820495834, 0.40012931461487505, 0.13337643820495834, 0.6296541495394834, 0.20988471651316112, 0.6490717342472393, 0.45288666528997984, 0.12351454507908541, 0.0823430300527236, 0.12351454507908541, 0.0823430300527236, 0.0411715150263618, 0.12351454507908541, 0.16551981667546903, 0.16551981667546903, 0.16551981667546903, 0.16551981667546903, 0.16551981667546903, 0.33103963335093806, 0.1424098300567137, 0.17801228757089216, 0.19581351632798136, 0.249217202599249, 0.08900614378544608, 0.053403686271267646, 0.08900614378544608, 0.753297288319631, 0.13542516297092141, 0.33103928726225235, 0.13542516297092141, 0.16551964363112617, 0.13542516297092141, 0.09028344198061428, 0.03009448066020476, 0.6978182552821853, 0.30801094403684554, 0.6160218880736911, 0.6414736983570547, 0.23011724437656642, 0.2165809358838272, 0.0812178509564352, 0.1218267764346528, 0.2165809358838272, 0.067681542463696, 0.0541452339709568, 0.33718151267019447, 0.20230890760211667, 0.07586584035079376, 0.07586584035079376, 0.17702029415185208, 0.08429537816754862, 0.05057722690052917, 0.25883948872429163, 0.5176789774485833, 0.41853658744954647, 0.5001518302247123, 0.13640504460673972, 0.04546834820224657, 0.04546834820224657, 0.13640504460673972, 0.09093669640449314, 0.04546834820224657, 0.20489760209712152, 0.23050980235926172, 0.0939114009611807, 0.17928540183498134, 0.11098620113594083, 0.13659840139808102, 0.05122440052428038, 0.523762262948893, 0.4249583297431463, 0.6084443812152777, 0.6474257568055829, 0.17075887252638283, 0.6830354901055313, 0.26479931817727276, 0.26479931817727276, 0.26479931817727276, 0.6088345473204257, 0.1842983764516056, 0.1842983764516056, 0.460745941129014, 0.0921491882258028, 0.0921491882258028, 0.0921491882258028, 0.40019683744389856, 0.7468299978156403, 0.20093861088130507, 0.10046930544065254, 0.10046930544065254, 0.40187722176261015, 0.10046930544065254, 0.10046930544065254, 0.6423281657633838, 0.17690315794888722, 0.17690315794888722, 0.17690315794888722, 0.17690315794888722, 0.35380631589777445, 0.6355900338682681, 0.16025491051677782, 0.2342187153706753, 0.20956411375270947, 0.11094570728084618, 0.135600308898812, 0.07396380485389746, 0.061636504044914546, 0.418774190090139, 0.6189975050322365, 0.6417731748420711, 0.7598145276303329, 0.5689612473799633, 0.20054489399217626, 0.14776992188897198, 0.1899898995715354, 0.14776992188897198, 0.1161049386270494, 0.10554994420640855, 0.08443995536512684, 0.1700824672971875, 0.22677662306291668, 0.11338831153145834, 0.1700824672971875, 0.05669415576572917, 0.28347077882864585, 0.17085062861735054, 0.17085062861735054, 0.17085062861735054, 0.3417012572347011, 0.6191618925189297, 0.24741215519845244, 0.27899668564931873, 0.08071602226332492, 0.10177237589723576, 0.1175646411226689, 0.11230055271419119, 0.05965966862941407, 0.14989936433537235, 0.14989936433537235, 0.5995974573414894, 0.6693621765485575, 0.6191265212082029, 0.3579336212090306, 0.1565959592789509, 0.11185425662782207, 0.11931120706967686, 0.11931120706967686, 0.09694035574411246, 0.03728475220927402, 0.33383573103809666, 0.15126931562663753, 0.15126931562663753, 0.1043236659494052, 0.0782427494620539, 0.11475603254434572, 0.06259419956964311, 0.6803799238308449, 0.6382306757559912, 0.22283900255480177, 0.44567800510960354, 0.22283900255480177, 0.25501141424562207, 0.16631179189931874, 0.21066160307247042, 0.0665247167597275, 0.16631179189931874, 0.07761216955301542, 0.05543726396643958, 0.6190087803318528, 0.19978852105940392, 0.0982011374698765, 0.4402119955546188, 0.07449741463232011, 0.10158738358952742, 0.054179937914414625, 0.030476215076858226, 0.18360363873204927, 0.40392800521050837, 0.0734414554928197, 0.1468829109856394, 0.0734414554928197, 0.0734414554928197, 0.0734414554928197, 0.2800861344887837, 0.17635052912256752, 0.1141091659028378, 0.14522984751270265, 0.10373560536621619, 0.14522984751270265, 0.041494242146486476, 0.5646147765243231, 0.7451393284022867, 0.15633387527720627, 0.15633387527720627, 0.07816693763860313, 0.39083468819301564, 0.07816693763860313, 0.07816693763860313, 0.175534568126941, 0.15603072722394754, 0.10141997269556591, 0.2067407135717305, 0.22624455447472394, 0.050709986347782954, 0.08191613179257246, 0.6013002538693887, 0.3414489991706273, 0.3414489991706273, 0.4085255494644018, 0.6191645762062572, 0.604998689364691, 0.5712864065019215, 0.28564320325096076, 0.6411254634568366, 0.6951922930521917, 0.5257367562910564, 0.08575170608271226, 0.6002619425789859, 0.08575170608271226, 0.08575170608271226, 0.08575170608271226, 0.08575170608271226, 0.23593641509739863, 0.22719802935305053, 0.09612224318782907, 0.21845964360870243, 0.06990708595478477, 0.06990708595478477, 0.07864547169913287, 0.15144320858953159, 0.45432962576859476, 0.15144320858953159, 0.6342329073356814, 0.23902454891816088, 0.23902454891816088, 0.47804909783632177, 0.21745839288028915, 0.6523751786408675, 0.5655841500773926, 0.2123030858081151, 0.1415353905387434, 0.1415353905387434, 0.12384346672140048, 0.10615154290405755, 0.1415353905387434, 0.1415353905387434, 0.5250847641744357, 0.5265037138855011, 0.7052525646551479, 0.5656047635041621, 0.18655048240282088, 0.19691439809186648, 0.12436698826854724, 0.22800614515900328, 0.09327524120141044, 0.06218349413427362, 0.10363915689045604, 0.20409473600318692, 0.10204736800159346, 0.40818947200637384, 0.10204736800159346, 0.10204736800159346, 0.10204736800159346, 0.10204736800159346, 0.5697100089356503, 0.66369039620332, 0.5277413532506595, 0.217808979461276, 0.217808979461276, 0.435617958922552, 0.608619829677499, 0.6775073488662376, 0.4178004124258299, 0.3554519614429208, 0.18661227975753342, 0.12440818650502228, 0.0888629903607302, 0.1332944855410953, 0.05331779421643812, 0.05331779421643812, 0.1245352908678861, 0.6226764543394305, 0.1245352908678861, 0.1245352908678861, 0.15806629902327016, 0.15806629902327016, 0.05268876634109005, 0.22129281863257821, 0.07376427287752607, 0.12645303921861611, 0.2107550653643602, 0.6813001479394142, 0.3310600159165583, 0.3310600159165583, 0.3325908543373549, 0.10582436274370383, 0.07558883053121702, 0.11338324579682553, 0.14361877800931233, 0.12850101190306892, 0.09826547969058212, 0.4644802254190589, 0.1393440676257177, 0.11612005635476473, 0.09289604508381179, 0.06967203381285884, 0.09289604508381179, 0.046448022541905894, 0.6007163730134742, 0.6120806330081477, 0.6449642593844159, 0.6997949462864873, 0.6190719139705148, 0.16290906769815133, 0.28509086847176485, 0.13847270754342864, 0.11403634738870594, 0.13847270754342864, 0.0733090804641681, 0.08145453384907567, 0.4098337621133191, 0.1268685623510809, 0.5074742494043236, 0.1268685623510809, 0.1268685623510809, 0.1268685623510809, 0.1268685623510809, 0.12322201219624083, 0.3388605335396623, 0.07187950711447381, 0.15402751524530103, 0.15402751524530103, 0.08214800813082722, 0.07187950711447381, 0.6810783445498372, 0.3709106051926207, 0.17633455000960654, 0.158093044836199, 0.0729660206936303, 0.127690536213853, 0.042563512071284344, 0.060805017244691915, 0.31289578035679205, 0.25369928137037195, 0.07610978441111159, 0.08456642712345731, 0.15221956882222318, 0.08033810576728445, 0.038054892205555794, 0.07593149533114288, 0.20501503739408575, 0.09871094393048574, 0.1822355887947429, 0.15945614019540003, 0.1138972429967143, 0.16704928972851432, 0.22126640122991856, 0.19913976110692672, 0.19360810107617873, 0.16041814089169096, 0.09403822052271539, 0.0774432404304715, 0.05531660030747964, 0.2478416307674572, 0.20765109604841006, 0.12057160415714133, 0.1875558286888865, 0.08038106943809423, 0.08038106943809423, 0.0736826469849197, 0.5659234609457746, 0.1497450437393284, 0.17470255102921647, 0.12478753644944034, 0.18302172012584583, 0.10814919825618162, 0.13310670554606968, 0.12478753644944034, 0.1181489485204071, 0.25205109017686844, 0.0787659656802714, 0.1181489485204071, 0.18116172106462422, 0.11027235195237996, 0.1417787382244885, 0.32994520224676915, 0.1912725810126198, 0.10041810503162539, 0.14823625028478035, 0.0908544759809944, 0.07172721787973242, 0.07172721787973242, 0.5677662497863138, 0.0733770651872016, 0.0733770651872016, 0.5136394563104113, 0.1467541303744032, 0.0733770651872016, 0.0733770651872016, 0.0733770651872016, 0.8314879284665251, 0.3095126266507534, 0.3095126266507534, 0.3095126266507534, 0.5030443231998393, 0.25152216159991964, 0.764273515185197, 0.25475783839506566, 0.6417393989503909, 0.23851276741165953, 0.23851276741165953, 0.11925638370582976, 0.092152660136323, 0.1409393625614352, 0.0813111707085203, 0.08673191542242165, 0.6821875254262003, 0.6491454713807236, 0.5991280105250596, 0.5650500990861868, 0.15138552741342023, 0.07569276370671012, 0.37846381853355054, 0.07569276370671012, 0.07569276370671012, 0.07569276370671012, 0.07569276370671012, 0.6190311069253595, 0.6084721725091724, 0.6505226731114977, 0.3371941504019663, 0.16185319219294383, 0.13937358216614606, 0.07193475208575281, 0.11239805013398878, 0.07643067409111236, 0.09891028411791011, 0.27835340621684407, 0.13917670310842203, 0.13917670310842203, 0.13917670310842203, 0.27835340621684407, 0.23309612084195178, 0.14781705224123773, 0.21035503588176138, 0.18761395092157096, 0.1193906960409997, 0.05116744116042844, 0.05116744116042844, 0.12688534969715423, 0.20301655951544678, 0.12688534969715423, 0.12688534969715423, 0.1522624196365851, 0.12688534969715423, 0.1522624196365851, 0.6384382953570228, 0.5295550426032241, 0.4061541210251198, 0.3668464823158986, 0.17636850111341282, 0.11993058075712071, 0.11993058075712071, 0.09876636062351117, 0.07054740044536512, 0.042328440267219075, 0.8023407895705632, 0.2005851973926408, 0.2845001942494614, 0.22929866402195395, 0.09341797423116642, 0.1316344182348254, 0.11889560356693908, 0.07218661645135588, 0.07218661645135588, 0.2195907423524515, 0.27871132683195765, 0.13513276452458553, 0.10979537117622575, 0.10979537117622575, 0.059120584479506175, 0.08445797782786596, 0.42126419483243394, 0.1872285310366373, 0.05850891594894916, 0.04680713275915933, 0.16382496465705765, 0.0351053495693695, 0.10531604870810848, 0.24205314499049124, 0.20055832013497846, 0.13140027870912382, 0.13140027870912382, 0.11065286628136743, 0.11756867042395289, 0.06915804142585465, 0.6439618454077616, 0.4991758024838038, 0.14262165785251538, 0.07131082892625769, 0.07131082892625769, 0.07131082892625769, 0.07131082892625769, 0.1781156999459446, 0.23050267051828124, 0.1362061234880753, 0.09429654703020597, 0.19907048817487927, 0.06286436468680398, 0.09429654703020597, 0.25735947724989355, 0.34664745915291784, 0.09454021613261396, 0.0735312792142553, 0.09191409901781912, 0.0577745765254863, 0.07615739632905012, 0.6126738094183478, 0.3063369047091739, 0.6097483073698492, 0.3048741536849246, 0.16496635731457998, 0.49489907194373994, 0.16496635731457998, 0.18925151041022276, 0.21178145212572547, 0.14869761532231787, 0.1306736619499157, 0.1937574987533233, 0.06308383680340758, 0.05857784846030704, 0.6191553576252881, 0.20665599067722046, 0.20665599067722046, 0.20665599067722046, 0.4133119813544409, 0.6694714165476527, 0.33502830656687344, 0.42669960523093836, 0.5251829101059852, 0.5282031060324061, 0.5291702383836853, 0.412504048489954, 0.412504048489954, 0.619309831556314, 0.20643661051877132, 0.26075473332875926, 0.2955220311059271, 0.09850734370197571, 0.08112369481339177, 0.12748009184961562, 0.08691824444291975, 0.046356397036223865, 0.5275830158293515], \"Term\": [\"abase\", \"abased\", \"absent\", \"absent\", \"absent\", \"absent\", \"absurd\", \"absurd\", \"absurd\", \"absurd\", \"absurd\", \"absurd\", \"accomplices\", \"accustomed\", \"affixed\", \"african\", \"alleged\", \"alleged\", \"alleged\", \"alone\", \"alone\", \"alone\", \"alone\", \"alone\", \"alone\", \"alone\", \"always\", \"always\", \"always\", \"always\", \"always\", \"always\", \"always\", \"amazon\", \"ambush\", \"americanos\", \"another\", \"another\", \"another\", \"another\", \"another\", \"another\", \"another\", \"appeared\", \"appeared\", \"appeared\", \"appeared\", \"appeared\", \"appeared\", \"appeared\", \"arbitrator\", \"assault\", \"assault\", \"assyria\", \"austen\", \"austen\", \"avatars\", \"away\", \"away\", \"away\", \"away\", \"away\", \"away\", \"away\", \"back\", \"back\", \"back\", \"back\", \"back\", \"back\", \"back\", \"baleful\", \"balks\", \"balks\", \"balks\", \"bar\", \"bar\", \"bar\", \"barestript\", \"barm\", \"battlefields\", \"births\", \"births\", \"black\", \"black\", \"black\", \"black\", \"black\", \"black\", \"black\", \"blade\\u00e2\\u0080\\u009d\", \"blasting\", \"blaze\", \"blaze\", \"blaze\", \"blaze\", \"blaze\", \"blew\", \"blooming\", \"bobbing\", \"body\", \"body\", \"body\", \"body\", \"body\", \"body\", \"body\", \"book\", \"book\", \"book\", \"book\", \"book\", \"book\", \"book\", \"booksellers\", \"bosombone\", \"brake\", \"brazilian\", \"brow\", \"brow\", \"brow\", \"brow\", \"brown\", \"brown\", \"brown\", \"brown\", \"brown\", \"brown\", \"brown\", \"butlers\", \"butlers\", \"butlers\", \"byzantine\", \"came\", \"came\", \"came\", \"came\", \"came\", \"came\", \"came\", \"cannot\", \"cannot\", \"cannot\", \"cannot\", \"cannot\", \"cannot\", \"cannot\", \"cape\", \"cape\", \"cape\", \"carefulspoken\", \"carving\", \"celebrate\", \"celebrate\", \"celebrate\", \"celebrate\", \"chair\", \"chair\", \"chair\", \"chair\", \"chair\", \"chair\", \"chair\", \"chapter\", \"chapter\", \"chapter\", \"chapter\", \"chapter\", \"chapter\", \"characterizes\", \"charwoman\", \"chickenyard\", \"child\", \"child\", \"child\", \"child\", \"child\", \"child\", \"child\", \"christ\", \"citoyens\\u00e2\\u0080\\u009d\", \"city\", \"city\", \"city\", \"city\", \"city\", \"city\", \"city\", \"cleverly\", \"cliffs\", \"climbs\", \"coin\", \"coin\", \"coin\", \"coin\", \"coin\", \"coin\", \"come\", \"come\", \"come\", \"come\", \"come\", \"come\", \"come\", \"commercial\", \"committed\", \"compassed\", \"complaint\", \"complaint\", \"complaint\", \"conducting\\u00e2\\u0080\\u009d\", \"consider\", \"consider\", \"consider\", \"consider\", \"consider\", \"consider\", \"consider\", \"conspirators\", \"constable\", \"constable\", \"convince\", \"convince\", \"convince\", \"convince\", \"copies\", \"corpulent\", \"could\", \"could\", \"could\", \"could\", \"could\", \"could\", \"could\", \"courier\\u00e2\\u0080\\u009d\", \"courier\\u00e2\\u0080\\u009d\", \"courier\\u00e2\\u0080\\u009d\", \"cowdray\", \"cowdray\", \"cowdray\", \"cowdray\", \"crossexamine\\u00e2\\u0080\\u009d\", \"davis\\u00e2\\u0080\\u0099\", \"day\", \"day\", \"day\", \"day\", \"day\", \"day\", \"day\", \"death\", \"death\", \"death\", \"death\", \"death\", \"death\", \"death\", \"deaths\", \"demoniacally\", \"disadvantage\", \"disarray\", \"disconnected\", \"disdained\", \"disputing\", \"dissipated\", \"dividing\", \"dividing\", \"dnieper\", \"dont\", \"dont\", \"dont\", \"dont\", \"dont\", \"dont\", \"dont\", \"door\", \"door\", \"door\", \"door\", \"door\", \"door\", \"door\", \"dos\", \"drawingroom\", \"drawingroom\", \"drawingroom\", \"drawingroom\", \"druids\", \"dry\", \"dry\", \"dry\", \"dry\", \"dry\", \"dry\", \"dry\", \"dryand\", \"dull\", \"dull\", \"dull\", \"dull\", \"d\\u00e2\\u0080\\u0099annunzio\", \"earth\", \"earth\", \"earth\", \"earth\", \"earth\", \"earth\", \"earth\", \"easy\", \"easy\", \"easy\", \"easy\", \"easy\", \"easy\", \"easy\", \"echoed\", \"edgeworthstown\", \"edgeworthstown\", \"edging\", \"editions\", \"educational\", \"efforts\", \"effrontery\", \"elton\", \"elton\", \"elton\", \"elton\", \"elton\", \"elton\", \"elton\", \"emma\", \"emma\", \"emma\", \"emma\", \"emma\", \"emma\", \"emma\", \"encouraging\", \"encouraging\", \"end\", \"end\", \"end\", \"end\", \"end\", \"end\", \"end\", \"enterprise\", \"err\", \"etext\", \"etext\", \"etexts\", \"even\", \"even\", \"even\", \"even\", \"even\", \"even\", \"even\", \"ever\", \"ever\", \"ever\", \"ever\", \"ever\", \"ever\", \"ever\", \"every\", \"every\", \"every\", \"every\", \"every\", \"every\", \"every\", \"experts\", \"face\", \"face\", \"face\", \"face\", \"face\", \"face\", \"face\", \"fancies\", \"fancies\", \"far\", \"far\", \"far\", \"far\", \"far\", \"far\", \"far\", \"father\", \"father\", \"father\", \"father\", \"father\", \"father\", \"father\", \"felix\", \"felix\", \"felix\", \"felix\", \"felix\", \"felix\", \"felix\", \"figure\", \"figure\", \"figure\", \"figure\", \"figure\", \"figure\", \"figure\", \"financethe\", \"find\", \"find\", \"find\", \"find\", \"find\", \"find\", \"find\", \"fire\", \"fire\", \"fire\", \"fire\", \"fire\", \"fire\", \"fire\", \"first\", \"first\", \"first\", \"first\", \"first\", \"first\", \"first\", \"flowers\", \"flowers\", \"flowers\", \"flowers\", \"flowers\", \"flowers\", \"flowers\", \"force\", \"force\", \"force\", \"force\", \"force\", \"force\", \"force\", \"formules\", \"found\", \"found\", \"found\", \"found\", \"found\", \"found\", \"found\", \"four\", \"four\", \"four\", \"four\", \"four\", \"four\", \"four\", \"future\\u00e2\\u0080\\u009d\", \"futuristand\", \"gav\\u00e2\\u0080\\u0099st\", \"geniality\", \"give\", \"give\", \"give\", \"give\", \"give\", \"give\", \"give\", \"glance\", \"glance\", \"glance\", \"glance\", \"glance\", \"glee\", \"go\", \"go\", \"go\", \"go\", \"go\", \"go\", \"go\", \"god\", \"god\", \"god\", \"god\", \"god\", \"god\", \"god\", \"gods\", \"gods\", \"gods\", \"gods\", \"gods\", \"gods\", \"gods\", \"going\", \"going\", \"going\", \"going\", \"going\", \"going\", \"going\", \"good\", \"good\", \"good\", \"good\", \"good\", \"good\", \"good\", \"got\", \"got\", \"got\", \"got\", \"got\", \"got\", \"got\", \"grandeur\", \"grass\", \"grass\", \"grass\", \"grass\", \"grass\", \"grass\", \"grass\", \"grease\", \"grease\", \"grease\", \"great\", \"great\", \"great\", \"great\", \"great\", \"great\", \"great\", \"guadalquiver\", \"gutenberg\", \"gutenberg\", \"gutenberg\", \"gutenberg\", \"gutenberg\", \"gutenberg\", \"gutenberg\", \"hadst\", \"hadst\", \"hand\", \"hand\", \"hand\", \"hand\", \"hand\", \"hand\", \"hand\", \"handcuff\\u00e2\\u0080\\u0099d\", \"handcuff\\u00e2\\u0080\\u0099d\", \"hannah\", \"harriet\", \"harriet\", \"harriet\", \"harriet\", \"harriet\", \"harriet\", \"harriet\", \"harriet\\u00e2\\u0080\\u0099s\", \"harriet\\u00e2\\u0080\\u0099s\", \"harriet\\u00e2\\u0080\\u0099s\", \"harriet\\u00e2\\u0080\\u0099s\", \"harriet\\u00e2\\u0080\\u0099s\", \"harriet\\u00e2\\u0080\\u0099s\", \"hartfield\", \"hartfield\", \"hartfield\", \"hartfield\", \"hartfield\", \"hartfield\", \"hartfield\", \"heard\", \"heard\", \"heard\", \"heard\", \"heard\", \"heard\", \"heard\", \"heaven\", \"heaven\", \"heaven\", \"heaven\", \"heaven\", \"heaven\", \"heaven\", \"heaven\\u00e2\\u0080\\u0099s\", \"heaven\\u00e2\\u0080\\u0099s\", \"heaven\\u00e2\\u0080\\u0099s\", \"heaven\\u00e2\\u0080\\u0099s\", \"heaven\\u00e2\\u0080\\u0099s\", \"heaven\\u00e2\\u0080\\u0099s\", \"heaven\\u00e2\\u0080\\u0099s\", \"hesitation\", \"hesitation\", \"hesitation\", \"he\\u00e2\\u0080\\u009d\", \"he\\u00e2\\u0080\\u009d\", \"high\", \"high\", \"high\", \"high\", \"high\", \"high\", \"high\", \"hilt\\u00e2\\u0080\\u009d\", \"him\\u00e2\\u0080\\u009d\", \"him\\u00e2\\u0080\\u009d\", \"him\\u00e2\\u0080\\u009d\", \"him\\u00e2\\u0080\\u009d\", \"him\\u00e2\\u0080\\u009d\", \"him\\u00e2\\u0080\\u009d\", \"him\\u00e2\\u0080\\u009d\", \"hirsch\", \"hirsch\", \"hirsch\", \"hirsch\", \"hirsch\", \"hirsch\", \"hirsch\", \"hostility\", \"hotel\\u00e2\\u0080\\u009d\", \"hundredth\", \"huts\", \"huts\", \"idiots\", \"ii\", \"ii\", \"ii\", \"ii\", \"incarnated\", \"inclination\", \"inclination\", \"inclination\", \"inclination\", \"incurrest\", \"inexperience\", \"inflicted\", \"inhabitants\", \"insist\", \"instay\", \"instrument\", \"instrument\", \"interrupt\", \"invade\", \"italians\", \"italy\\u00e2\\u0080\\u009d\", \"i\\u00e2\\u0080\\u0099ve\", \"i\\u00e2\\u0080\\u0099ve\", \"i\\u00e2\\u0080\\u0099ve\", \"i\\u00e2\\u0080\\u0099ve\", \"janeiro\", \"jem\", \"jem\", \"jem\", \"jem\", \"jem\", \"jem\", \"jem\", \"joseph\", \"keeping\", \"keeping\", \"keeping\", \"keeping\", \"keeping\", \"keeping\", \"kelson\", \"ken\", \"kitty\", \"know\", \"know\", \"know\", \"know\", \"know\", \"know\", \"know\", \"lacking\", \"lacking\", \"lacking\", \"lacking\", \"lamb\", \"lamb\", \"lamb\", \"lamb\", \"lamb\", \"lamb\", \"land\", \"land\", \"land\", \"land\", \"land\", \"land\", \"land\", \"lawrence\", \"lawrence\", \"lawrence\", \"lawrence\", \"lawrence\", \"lawrence\", \"lawrence\", \"leaps\", \"lecture\", \"let\", \"let\", \"let\", \"let\", \"let\", \"let\", \"let\", \"life\", \"life\", \"life\", \"life\", \"life\", \"life\", \"life\", \"like\", \"like\", \"like\", \"like\", \"like\", \"like\", \"like\", \"likes\", \"likes\", \"likes\", \"likes\", \"likes\", \"lists\", \"little\", \"little\", \"little\", \"little\", \"little\", \"little\", \"little\", \"location\", \"lodger\", \"long\", \"long\", \"long\", \"long\", \"long\", \"long\", \"long\", \"look\\u00e2\\u0080\\u0099d\", \"look\\u00e2\\u0080\\u0099d\", \"look\\u00e2\\u0080\\u0099d\", \"look\\u00e2\\u0080\\u0099d\", \"look\\u00e2\\u0080\\u0099d\", \"look\\u00e2\\u0080\\u0099d\", \"losses\", \"love\", \"love\", \"love\", \"love\", \"love\", \"love\", \"love\", \"lowerarm\", \"machine\", \"machine\", \"machine\", \"machine\", \"machine\", \"machine\", \"made\", \"made\", \"made\", \"made\", \"made\", \"made\", \"made\", \"man\", \"man\", \"man\", \"man\", \"man\", \"man\", \"man\", \"many\", \"many\", \"many\", \"many\", \"many\", \"many\", \"many\", \"marconi\", \"martin\", \"martin\", \"martin\", \"martin\", \"martin\", \"martin\", \"martin\", \"massage\", \"may\", \"may\", \"may\", \"may\", \"may\", \"may\", \"may\", \"mean\", \"mean\", \"mean\", \"mean\", \"mean\", \"mean\", \"mean\", \"men\", \"men\", \"men\", \"men\", \"men\", \"men\", \"men\", \"meridian\", \"me\\u00e2\\u0080\\u0099\", \"might\", \"might\", \"might\", \"might\", \"might\", \"might\", \"might\", \"milton\", \"miss\", \"miss\", \"miss\", \"miss\", \"miss\", \"miss\", \"miss\", \"mona\", \"monks\", \"moody\", \"mothers\\u00e2\\u0080\\u0099\", \"motors\", \"mr\", \"mr\", \"mr\", \"mr\", \"mr\", \"mr\", \"mr\", \"mrs\", \"mrs\", \"mrs\", \"mrs\", \"mrs\", \"mrs\", \"mrs\", \"much\", \"much\", \"much\", \"much\", \"much\", \"much\", \"much\", \"much\\u00e2\\u0080\\u009d\", \"much\\u00e2\\u0080\\u009d\", \"mullein\", \"must\", \"must\", \"must\", \"must\", \"must\", \"must\", \"must\", \"myself\\u00e2\\u0080\\u009d\", \"nethermost\", \"never\", \"never\", \"never\", \"never\", \"never\", \"never\", \"never\", \"new\", \"new\", \"new\", \"new\", \"new\", \"new\", \"new\", \"newest\", \"newest\", \"night\", \"night\", \"night\", \"night\", \"night\", \"night\", \"night\", \"not\\u00e2\\u0080\\u0094another\", \"nuts\", \"nuts\", \"nuts\", \"nuts\", \"nuts\", \"ny\", \"occasion\", \"occasion\", \"occasion\", \"occasion\", \"occasion\", \"occasion\", \"occasion\", \"odor\", \"odor\", \"offi\", \"old\", \"old\", \"old\", \"old\", \"old\", \"old\", \"old\", \"one\", \"one\", \"one\", \"one\", \"one\", \"one\", \"one\", \"operations\", \"others\", \"others\", \"others\", \"others\", \"others\", \"others\", \"others\", \"owl\", \"o\\u00e2\\u0080\\u0099er\", \"o\\u00e2\\u0080\\u0099er\", \"o\\u00e2\\u0080\\u0099er\", \"o\\u00e2\\u0080\\u0099er\", \"o\\u00e2\\u0080\\u0099er\", \"o\\u00e2\\u0080\\u0099er\", \"o\\u00e2\\u0080\\u0099er\", \"pantry\", \"pantry\", \"paraguay\", \"part\", \"part\", \"part\", \"part\", \"part\", \"part\", \"part\", \"party\", \"party\", \"party\", \"party\", \"party\", \"party\", \"party\", \"passable\", \"passage\", \"passage\", \"passage\", \"passage\", \"passage\", \"passage\", \"passage\", \"past\\u00e2\\u0080\\u009d\", \"peashooter\", \"penitence\", \"persia\", \"pilothouses\", \"place\", \"place\", \"place\", \"place\", \"place\", \"place\", \"place\", \"poem\", \"poem\", \"poem\", \"poem\", \"pomfrets\", \"pomfrets\", \"portcullis\", \"possible\", \"possible\", \"possible\", \"possible\", \"possible\", \"possible\", \"possible\", \"pound\", \"pound\", \"pound\", \"pound\", \"pound\", \"pound\", \"power\", \"power\", \"power\", \"power\", \"power\", \"power\", \"power\", \"prairiegrass\", \"priest\", \"priest\", \"priest\", \"priest\", \"priest\", \"priest\", \"priest\", \"principally\", \"prizes\", \"prizes\", \"progressive\", \"put\", \"put\", \"put\", \"put\", \"put\", \"put\", \"put\", \"quite\", \"quite\", \"quite\", \"quite\", \"quite\", \"quite\", \"quite\", \"raben\", \"raben\", \"railroads\", \"randalls\", \"randalls\", \"randalls\", \"randalls\", \"randalls\", \"randalls\", \"randalls\", \"rather\", \"rather\", \"rather\", \"rather\", \"rather\", \"rather\", \"rather\", \"reach\\u00e2\\u0080\\u0099d\", \"realized\", \"reap\", \"recoil\", \"reference\", \"reference\", \"reflecting\", \"reflecting\", \"reflecting\", \"rejoice\", \"religion\", \"religion\", \"religion\", \"religion\", \"religion\", \"religion\", \"religion\\u00e2\\u0080\\u0099s\", \"requiring\", \"returns\", \"returns\", \"returns\", \"returns\", \"returns\", \"returns\", \"revival\", \"revolving\", \"revolving\", \"revolving\", \"revolving\", \"revolving\", \"rewritten\", \"right\", \"right\", \"right\", \"right\", \"right\", \"right\", \"right\", \"rim\", \"riverstripes\", \"roads\\u00e2\\u0080\\u009d\", \"ropes\\u00e2\\u0080\\u009d\", \"rotten\", \"round\", \"round\", \"round\", \"round\", \"round\", \"round\", \"round\", \"running\", \"running\", \"running\", \"running\", \"running\", \"running\", \"rushes\", \"rushes\", \"rushes\", \"rushes\", \"sabians\", \"said\", \"said\", \"said\", \"said\", \"said\", \"said\", \"said\", \"salute\", \"salute\", \"salute\", \"satisfaction\\u00e2\\u0080\\u0094her\", \"saukara\", \"saw\", \"saw\", \"saw\", \"saw\", \"saw\", \"saw\", \"saw\", \"say\", \"say\", \"say\", \"say\", \"say\", \"say\", \"say\", \"sayingi\", \"scabs\", \"scientist\", \"scientist\", \"scientist\", \"sea\", \"sea\", \"sea\", \"sea\", \"sea\", \"sea\", \"sea\", \"seaman\", \"see\", \"see\", \"see\", \"see\", \"see\", \"see\", \"see\", \"seem\", \"seem\", \"seem\", \"seem\", \"seem\", \"seem\", \"seem\", \"seemed\", \"seemed\", \"seemed\", \"seemed\", \"seemed\", \"seemed\", \"seemed\", \"selfcongratulation\", \"sentimental\", \"sex\", \"sex\", \"sex\", \"sex\", \"sex\", \"sex\", \"shall\", \"shall\", \"shall\", \"shall\", \"shall\", \"shall\", \"shall\", \"shepherds\", \"shrink\", \"shrink\", \"siberian\", \"signifiers\", \"signifyfor\", \"simpleton\", \"simpleton\", \"sixteenth\", \"snowed\", \"socalled\", \"somers\", \"somers\", \"somers\", \"somers\", \"somers\", \"somers\", \"soon\", \"soon\", \"soon\", \"soon\", \"soon\", \"soon\", \"soon\", \"souls\", \"souls\", \"souls\", \"specific\", \"specimens\", \"specimens\", \"specimens\", \"speeding\", \"speeding\", \"sprawlingly\", \"stand\", \"stand\", \"stand\", \"stand\", \"stand\", \"stand\", \"stand\", \"stationed\", \"stay\\u00e2\\u0080\\u009d\", \"steamers\", \"stolen\", \"stood\", \"stood\", \"stood\", \"stood\", \"stood\", \"stood\", \"stood\", \"storms\", \"storms\", \"storms\", \"storms\", \"storms\", \"storms\", \"storms\", \"straight\\u00e2\\u0080\\u009d\", \"straits\", \"streetwalkers\", \"strutt\", \"strutt\", \"strutt\", \"subtlety\", \"successes\", \"superbly\", \"sure\", \"sure\", \"sure\", \"sure\", \"sure\", \"sure\", \"sure\", \"surprise\", \"surprise\", \"surprise\", \"surprise\", \"susan\", \"susan\", \"susan\", \"susan\", \"susan\", \"susan\", \"susan\", \"susanher\", \"swept\", \"swept\", \"take\", \"take\", \"take\", \"take\", \"take\", \"take\", \"take\", \"taken\", \"taken\", \"taken\", \"taken\", \"taken\", \"taken\", \"taken\", \"tangling\", \"tarsus\", \"tartarus\", \"teased\", \"telegraphs\", \"tell\", \"tell\", \"tell\", \"tell\", \"tell\", \"tell\", \"tell\", \"tenement\", \"test\", \"test\", \"test\", \"test\", \"test\", \"test\", \"thee\", \"thee\", \"thee\", \"thee\", \"thee\", \"thee\", \"thee\", \"thereit\", \"thing\", \"thing\", \"thing\", \"thing\", \"thing\", \"thing\", \"thing\", \"think\", \"think\", \"think\", \"think\", \"think\", \"think\", \"think\", \"thou\", \"thou\", \"thou\", \"thou\", \"thou\", \"thou\", \"thou\", \"though\", \"though\", \"though\", \"though\", \"though\", \"though\", \"though\", \"thought\", \"thought\", \"thought\", \"thought\", \"thought\", \"thought\", \"thought\", \"thud\", \"thus\", \"thus\", \"thus\", \"thus\", \"thus\", \"thus\", \"thus\", \"thy\", \"thy\", \"thy\", \"thy\", \"thy\", \"thy\", \"thy\", \"time\", \"time\", \"time\", \"time\", \"time\", \"time\", \"time\", \"tired\\u00e2\\u0080\\u009d\", \"todd\", \"todd\", \"todd\", \"todd\", \"todd\", \"todd\", \"todd\", \"tracks\", \"tree\\u00e2\\u0080\\u009d\", \"tree\\u00e2\\u0080\\u009d\", \"tree\\u00e2\\u0080\\u009d\", \"tribes\", \"tribes\", \"trillions\", \"trillions\", \"tuscans\", \"two\", \"two\", \"two\", \"two\", \"two\", \"two\", \"two\", \"unaltered\", \"unfastens\", \"unhoard\", \"unimpaired\", \"universe\", \"universe\", \"universe\", \"universe\", \"universe\", \"universe\", \"universe\", \"unsuspected\", \"untamed\", \"updrew\", \"upon\", \"upon\", \"upon\", \"upon\", \"upon\", \"upon\", \"upon\", \"urge\", \"urge\", \"urge\", \"urge\", \"urge\", \"us\", \"us\", \"us\", \"us\", \"us\", \"us\", \"us\", \"vain\", \"vain\", \"vain\", \"vain\", \"vain\", \"vain\", \"vain\", \"valved\", \"vestibule\", \"washerwomans\", \"way\", \"way\", \"way\", \"way\", \"way\", \"way\", \"way\", \"weddingcake\", \"weddingcake\", \"well\", \"well\", \"well\", \"well\", \"well\", \"well\", \"well\", \"went\", \"went\", \"went\", \"went\", \"went\", \"went\", \"went\", \"weston\", \"weston\", \"weston\", \"weston\", \"weston\", \"weston\", \"weston\", \"without\", \"without\", \"without\", \"without\", \"without\", \"without\", \"without\", \"witness\\u00e2\\u0080\\u009d\", \"woodhouse\\u00e2\\u0080\\u0099s\", \"woodhouse\\u00e2\\u0080\\u0099s\", \"woodhouse\\u00e2\\u0080\\u0099s\", \"woodhouse\\u00e2\\u0080\\u0099s\", \"woodhouse\\u00e2\\u0080\\u0099s\", \"woodhouse\\u00e2\\u0080\\u0099s\", \"world\", \"world\", \"world\", \"world\", \"world\", \"world\", \"world\", \"would\", \"would\", \"would\", \"would\", \"would\", \"would\", \"would\", \"xvi\", \"xvi\", \"xvii\", \"xvii\", \"yearning\", \"yearning\", \"yearning\", \"yet\", \"yet\", \"yet\", \"yet\", \"yet\", \"yet\", \"yet\", \"yiangtse\", \"yourself\\u00e2\\u0080\\u009d\", \"yourself\\u00e2\\u0080\\u009d\", \"yourself\\u00e2\\u0080\\u009d\", \"yourself\\u00e2\\u0080\\u009d\", \"youth\\u00e2\\u0080\\u0099s\", \"zones\", \"\\u0080\\u0099s\", \"\\u00e2\\u0080\\u0098oh\", \"\\u00e2\\u0080\\u0098they\\u00e2\\u0080\\u0099ve\", \"\\u00e2\\u0080\\u009camong\", \"\\u00e2\\u0080\\u009caux\", \"\\u00e2\\u0080\\u009caux\", \"\\u00e2\\u0080\\u009cdid\", \"\\u00e2\\u0080\\u009cdid\", \"\\u00e2\\u0080\\u009ci\", \"\\u00e2\\u0080\\u009ci\", \"\\u00e2\\u0080\\u009ci\", \"\\u00e2\\u0080\\u009ci\", \"\\u00e2\\u0080\\u009ci\", \"\\u00e2\\u0080\\u009ci\", \"\\u00e2\\u0080\\u009ci\", \"\\u00e2\\u0080\\u009c\\u00e2\\u0080\\u0098drugger\"]}, \"R\": 30, \"lambda.step\": 0.01, \"plot.opts\": {\"xlab\": \"PC1\", \"ylab\": \"PC2\"}, \"topic.order\": [3, 2, 1, 6, 7, 4, 5]};\n",
       "\n",
       "function LDAvis_load_lib(url, callback){\n",
       "  var s = document.createElement('script');\n",
       "  s.src = url;\n",
       "  s.async = true;\n",
       "  s.onreadystatechange = s.onload = callback;\n",
       "  s.onerror = function(){console.warn(\"failed to load library \" + url);};\n",
       "  document.getElementsByTagName(\"head\")[0].appendChild(s);\n",
       "}\n",
       "\n",
       "if(typeof(LDAvis) !== \"undefined\"){\n",
       "   // already loaded: just create the visualization\n",
       "   !function(LDAvis){\n",
       "       new LDAvis(\"#\" + \"ldavis_el20522140556056471376948096727\", ldavis_el20522140556056471376948096727_data);\n",
       "   }(LDAvis);\n",
       "}else if(typeof define === \"function\" && define.amd){\n",
       "   // require.js is available: use it to load d3/LDAvis\n",
       "   require.config({paths: {d3: \"https://d3js.org/d3.v5\"}});\n",
       "   require([\"d3\"], function(d3){\n",
       "      window.d3 = d3;\n",
       "      LDAvis_load_lib(\"https://cdn.jsdelivr.net/gh/bmabey/pyLDAvis@3.3.1/pyLDAvis/js/ldavis.v3.0.0.js\", function(){\n",
       "        new LDAvis(\"#\" + \"ldavis_el20522140556056471376948096727\", ldavis_el20522140556056471376948096727_data);\n",
       "      });\n",
       "    });\n",
       "}else{\n",
       "    // require.js not available: dynamically load d3 & LDAvis\n",
       "    LDAvis_load_lib(\"https://d3js.org/d3.v5.js\", function(){\n",
       "         LDAvis_load_lib(\"https://cdn.jsdelivr.net/gh/bmabey/pyLDAvis@3.3.1/pyLDAvis/js/ldavis.v3.0.0.js\", function(){\n",
       "                 new LDAvis(\"#\" + \"ldavis_el20522140556056471376948096727\", ldavis_el20522140556056471376948096727_data);\n",
       "            })\n",
       "         });\n",
       "}\n",
       "</script>"
      ],
      "text/plain": [
       "PreparedData(topic_coordinates=           x      y  topics  cluster   Freq\n",
       "topic                                      \n",
       "2      0.035  0.006       1        1 22.795\n",
       "1      0.017  0.002       2        1 19.344\n",
       "0     -0.022  0.023       3        1 14.464\n",
       "5     -0.012  0.002       4        1 12.950\n",
       "6      0.012  0.003       5        1 12.798\n",
       "3     -0.023 -0.000       6        1 10.058\n",
       "4     -0.007 -0.036       7        1  7.591, topic_info=         Term    Freq   Total Category  logprob  loglift\n",
       "137       see 295.000 295.000  Default   30.000   30.000\n",
       "40         mr 498.000 498.000  Default   29.000   29.000\n",
       "2474  chapter  61.000  61.000  Default   28.000   28.000\n",
       "378     shall 256.000 256.000  Default   27.000   27.000\n",
       "545     susan  94.000  94.000  Default   26.000   26.000\n",
       "...       ...     ...     ...      ...      ...      ...\n",
       "620      time  14.761 209.126   Topic7   -6.243   -0.073\n",
       "113      know  16.550 279.347   Topic7   -6.128   -0.248\n",
       "42       much  14.989 261.435   Topic7   -6.227   -0.281\n",
       "23     father  13.762 189.193   Topic7   -6.313   -0.043\n",
       "116      like  14.494 302.861   Topic7   -6.261   -0.461\n",
       "\n",
       "[630 rows x 6 columns], token_table=       Topic  Freq           Term\n",
       "term                             \n",
       "15471      5 0.638          abase\n",
       "15472      5 0.638         abased\n",
       "2769       1 0.104         absent\n",
       "2769       2 0.519         absent\n",
       "2769       5 0.104         absent\n",
       "...      ...   ...            ...\n",
       "80         4 0.081           âi\n",
       "80         5 0.127           âi\n",
       "80         6 0.087           âi\n",
       "80         7 0.046           âi\n",
       "16216      1 0.528  ââdrugger\n",
       "\n",
       "[1540 rows x 3 columns], R=30, lambda_step=0.01, plot_opts={'xlab': 'PC1', 'ylab': 'PC2'}, topic_order=[3, 2, 1, 6, 7, 4, 5])"
      ]
     },
     "execution_count": 49,
     "metadata": {},
     "output_type": "execute_result"
    }
   ],
   "source": [
    "lda_viz"
   ]
  },
  {
   "cell_type": "code",
   "execution_count": 62,
   "metadata": {},
   "outputs": [],
   "source": [
    "def get_clusters(text,pred_labels,N_clusters):\n",
    "    clusters=[]\n",
    "    for i in range(N_clusters):\n",
    "        clusters.append(\" \")\n",
    "    for j in range(len(pred_labels)):\n",
    "        cluster_number = pred_labels[j]\n",
    "        clusters[cluster_number]= clusters[pred_labels[cluster_number]]+text[j]\n",
    "    return clusters\n",
    "\n",
    "def split_Cluster_corpuses(Lst_Str_clusters,N_clusters):\n",
    "    clusters =[]\n",
    "    for i in Lst_Str_clusters:\n",
    "        clusters.append(i.split())\n",
    "    return clusters\n",
    "\n",
    "def coherence_for_all(lst,texts):\n",
    "    # get list of ( list of words ) from the corpus \n",
    "    texts = []\n",
    "    for x in X :\n",
    "        texts.append(x.split(\" \"))\n",
    "    # get the dictionary \n",
    "    dictionary = Dictionary(texts)\n",
    "\n",
    "    # prepare the features for LDA model \n",
    "    # text is a list of lists [[word1,word2,...,wordn],...,[word1,word2,...,wordn]]\n",
    "    corpus = [dictionary.doc2bow(text) for text in texts]  \n",
    "    \n",
    "    goodcm = CoherenceModel(topics=lst, corpus=corpus, dictionary=dictionary, coherence='u_mass')\n",
    "\n",
    "    return goodcm.get_coherence()\n",
    "\n",
    "def calculate_coherence(text,pred_labels,N_clusters):\n",
    "    c = get_clusters(text,pred_labels,N_clusters)\n",
    "    c2 =split_Cluster_corpuses(c,N_clusters) \n",
    "    lsts = []\n",
    "    for i in range(N_clusters):\n",
    "        lsts.append(c2[i])\n",
    "    return coherence_for_all(lsts,text) "
   ]
  },
  {
   "cell_type": "code",
   "execution_count": 63,
   "metadata": {},
   "outputs": [
    {
     "data": {
      "text/plain": [
       "-2.2928771345580397"
      ]
     },
     "execution_count": 63,
     "metadata": {},
     "output_type": "execute_result"
    }
   ],
   "source": [
    "calculate_coherence(X,label,4)"
   ]
  },
  {
   "cell_type": "code",
   "execution_count": 64,
   "metadata": {},
   "outputs": [
    {
     "data": {
      "text/plain": [
       "-1.6660088280396714"
      ]
     },
     "execution_count": 64,
     "metadata": {},
     "output_type": "execute_result"
    }
   ],
   "source": [
    "calculate_coherence(X,label2,4)"
   ]
  },
  {
   "cell_type": "code",
   "execution_count": 65,
   "metadata": {},
   "outputs": [
    {
     "data": {
      "text/plain": [
       "-2.2600060318379893"
      ]
     },
     "execution_count": 65,
     "metadata": {},
     "output_type": "execute_result"
    }
   ],
   "source": [
    "calculate_coherence(X,label4,4)"
   ]
  }
 ],
 "metadata": {
  "kernelspec": {
   "display_name": "Python 3",
   "language": "python",
   "name": "python3"
  },
  "language_info": {
   "codemirror_mode": {
    "name": "ipython",
    "version": 3
   },
   "file_extension": ".py",
   "mimetype": "text/x-python",
   "name": "python",
   "nbconvert_exporter": "python",
   "pygments_lexer": "ipython3",
   "version": "3.7.6"
  }
 },
 "nbformat": 4,
 "nbformat_minor": 4
}
